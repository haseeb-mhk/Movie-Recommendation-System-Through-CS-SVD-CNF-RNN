{
 "cells": [
  {
   "cell_type": "code",
   "execution_count": 2,
   "id": "59f742bd-fcda-4f18-bdf9-0eee9a3f42fc",
   "metadata": {},
   "outputs": [],
   "source": [
    "import pandas as pd"
   ]
  },
  {
   "cell_type": "markdown",
   "id": "bafda37e-69be-4660-92dc-7c9ba6071543",
   "metadata": {},
   "source": [
    "# Rating Dataset"
   ]
  },
  {
   "cell_type": "code",
   "execution_count": 19,
   "id": "6e5cf3b0-1ea0-4dd7-8b4f-45d01f6953e4",
   "metadata": {},
   "outputs": [],
   "source": [
    "# reading the rating.data file \n",
    "\n",
    "ratings = pd.read_csv('Dataset/ratings.dat', sep = '::', engine = 'python', encoding = 'latin-1', names = ['user_id', 'movie_id', 'rating', 'timestamp'])"
   ]
  },
  {
   "cell_type": "code",
   "execution_count": 20,
   "id": "42fb71e7-c248-4e89-845e-fd19e467d215",
   "metadata": {},
   "outputs": [
    {
     "data": {
      "text/html": [
       "<div>\n",
       "<style scoped>\n",
       "    .dataframe tbody tr th:only-of-type {\n",
       "        vertical-align: middle;\n",
       "    }\n",
       "\n",
       "    .dataframe tbody tr th {\n",
       "        vertical-align: top;\n",
       "    }\n",
       "\n",
       "    .dataframe thead th {\n",
       "        text-align: right;\n",
       "    }\n",
       "</style>\n",
       "<table border=\"1\" class=\"dataframe\">\n",
       "  <thead>\n",
       "    <tr style=\"text-align: right;\">\n",
       "      <th></th>\n",
       "      <th>user_id</th>\n",
       "      <th>movie_id</th>\n",
       "      <th>rating</th>\n",
       "      <th>timestamp</th>\n",
       "    </tr>\n",
       "  </thead>\n",
       "  <tbody>\n",
       "    <tr>\n",
       "      <th>0</th>\n",
       "      <td>1</td>\n",
       "      <td>1193</td>\n",
       "      <td>5</td>\n",
       "      <td>978300760</td>\n",
       "    </tr>\n",
       "    <tr>\n",
       "      <th>1</th>\n",
       "      <td>1</td>\n",
       "      <td>661</td>\n",
       "      <td>3</td>\n",
       "      <td>978302109</td>\n",
       "    </tr>\n",
       "    <tr>\n",
       "      <th>2</th>\n",
       "      <td>1</td>\n",
       "      <td>914</td>\n",
       "      <td>3</td>\n",
       "      <td>978301968</td>\n",
       "    </tr>\n",
       "    <tr>\n",
       "      <th>3</th>\n",
       "      <td>1</td>\n",
       "      <td>3408</td>\n",
       "      <td>4</td>\n",
       "      <td>978300275</td>\n",
       "    </tr>\n",
       "    <tr>\n",
       "      <th>4</th>\n",
       "      <td>1</td>\n",
       "      <td>2355</td>\n",
       "      <td>5</td>\n",
       "      <td>978824291</td>\n",
       "    </tr>\n",
       "  </tbody>\n",
       "</table>\n",
       "</div>"
      ],
      "text/plain": [
       "   user_id  movie_id  rating  timestamp\n",
       "0        1      1193       5  978300760\n",
       "1        1       661       3  978302109\n",
       "2        1       914       3  978301968\n",
       "3        1      3408       4  978300275\n",
       "4        1      2355       5  978824291"
      ]
     },
     "execution_count": 20,
     "metadata": {},
     "output_type": "execute_result"
    }
   ],
   "source": [
    "ratings.head()"
   ]
  },
  {
   "cell_type": "code",
   "execution_count": 24,
   "id": "b19aecf0-2953-4cae-adb7-1638db7def98",
   "metadata": {},
   "outputs": [
    {
     "name": "stdout",
     "output_type": "stream",
     "text": [
      "Maximum Users: 6040\n",
      "Maximum Movies:3952\n"
     ]
    }
   ],
   "source": [
    "#Finding the maximum user_id in the ratings\n",
    "max_userid = ratings['user_id'].drop_duplicates().max()\n",
    "# finding the maximum movie_id in the ratings\n",
    "max_movieid = ratings['movie_id'].drop_duplicates().max()\n",
    "\n",
    "\n",
    "print(f\"Maximum Users: {max_userid}\")\n",
    "print(f\"Maximum Movies:{max_movieid}\")"
   ]
  },
  {
   "cell_type": "code",
   "execution_count": 26,
   "id": "72b03807-92ad-4f32-bca5-223359fef9ca",
   "metadata": {},
   "outputs": [
    {
     "name": "stdout",
     "output_type": "stream",
     "text": [
      "length of ratings dataset1000209\n"
     ]
    }
   ],
   "source": [
    "print(f\"length of ratings dataset{len(ratings)}\")"
   ]
  },
  {
   "cell_type": "code",
   "execution_count": 32,
   "id": "7cfcef4a-def8-46bd-a06c-cceb3061f3db",
   "metadata": {},
   "outputs": [
    {
     "name": "stdout",
     "output_type": "stream",
     "text": [
      "total null entries\n",
      "user_id      0\n",
      "movie_id     0\n",
      "rating       0\n",
      "timestamp    0\n",
      "dtype: int64\n",
      "Duplicate entries :  0\n"
     ]
    }
   ],
   "source": [
    "# finding Null and duplicate values\n",
    "print(\"total null entries\")\n",
    "print(ratings.isna().sum())\n",
    "\n",
    "print(\"Duplicate entries : \", ratings.duplicated().sum())\n",
    "\n",
    "\n",
    "# No null and duplicates found"
   ]
  },
  {
   "cell_type": "code",
   "execution_count": 67,
   "id": "1c46b6be-b34e-4032-9ddf-6e884a47bfb7",
   "metadata": {},
   "outputs": [
    {
     "name": "stdout",
     "output_type": "stream",
     "text": [
      "Saved to ratings.csv successfully\n"
     ]
    }
   ],
   "source": [
    "# Saving to rating.csv\n",
    "ratings.to_csv(\"Dataset/ratings.csv\", \n",
    "               header=True, \n",
    "               encoding='latin-1', \n",
    "               columns=['user_id', 'movie_id', 'rating', 'timestamp'], index = False)\n",
    "print ('Saved to ratings.csv successfully')"
   ]
  },
  {
   "cell_type": "markdown",
   "id": "75935c09-87a3-4429-9cb9-e888b56c8873",
   "metadata": {},
   "source": [
    "# Users datasets"
   ]
  },
  {
   "cell_type": "code",
   "execution_count": 38,
   "id": "e1bf050f-f7bf-405b-8502-822023be66e1",
   "metadata": {},
   "outputs": [],
   "source": [
    "users = pd.read_csv(\"Dataset/users.dat\", sep = '::', engine = 'python' ,encoding = 'latin-1',  names=['user_id', 'gender', 'age', 'occupation', 'zipcode'])"
   ]
  },
  {
   "cell_type": "code",
   "execution_count": 39,
   "id": "34d4a9d7-707b-48f7-b79a-ce22dc52c1af",
   "metadata": {},
   "outputs": [
    {
     "data": {
      "text/html": [
       "<div>\n",
       "<style scoped>\n",
       "    .dataframe tbody tr th:only-of-type {\n",
       "        vertical-align: middle;\n",
       "    }\n",
       "\n",
       "    .dataframe tbody tr th {\n",
       "        vertical-align: top;\n",
       "    }\n",
       "\n",
       "    .dataframe thead th {\n",
       "        text-align: right;\n",
       "    }\n",
       "</style>\n",
       "<table border=\"1\" class=\"dataframe\">\n",
       "  <thead>\n",
       "    <tr style=\"text-align: right;\">\n",
       "      <th></th>\n",
       "      <th>user_id</th>\n",
       "      <th>gender</th>\n",
       "      <th>age</th>\n",
       "      <th>occupation</th>\n",
       "      <th>zipcode</th>\n",
       "    </tr>\n",
       "  </thead>\n",
       "  <tbody>\n",
       "    <tr>\n",
       "      <th>0</th>\n",
       "      <td>1</td>\n",
       "      <td>F</td>\n",
       "      <td>1</td>\n",
       "      <td>10</td>\n",
       "      <td>48067</td>\n",
       "    </tr>\n",
       "    <tr>\n",
       "      <th>1</th>\n",
       "      <td>2</td>\n",
       "      <td>M</td>\n",
       "      <td>56</td>\n",
       "      <td>16</td>\n",
       "      <td>70072</td>\n",
       "    </tr>\n",
       "    <tr>\n",
       "      <th>2</th>\n",
       "      <td>3</td>\n",
       "      <td>M</td>\n",
       "      <td>25</td>\n",
       "      <td>15</td>\n",
       "      <td>55117</td>\n",
       "    </tr>\n",
       "    <tr>\n",
       "      <th>3</th>\n",
       "      <td>4</td>\n",
       "      <td>M</td>\n",
       "      <td>45</td>\n",
       "      <td>7</td>\n",
       "      <td>02460</td>\n",
       "    </tr>\n",
       "    <tr>\n",
       "      <th>4</th>\n",
       "      <td>5</td>\n",
       "      <td>M</td>\n",
       "      <td>25</td>\n",
       "      <td>20</td>\n",
       "      <td>55455</td>\n",
       "    </tr>\n",
       "  </tbody>\n",
       "</table>\n",
       "</div>"
      ],
      "text/plain": [
       "   user_id gender  age  occupation zipcode\n",
       "0        1      F    1          10   48067\n",
       "1        2      M   56          16   70072\n",
       "2        3      M   25          15   55117\n",
       "3        4      M   45           7   02460\n",
       "4        5      M   25          20   55455"
      ]
     },
     "execution_count": 39,
     "metadata": {},
     "output_type": "execute_result"
    }
   ],
   "source": [
    "users.head()"
   ]
  },
  {
   "cell_type": "code",
   "execution_count": 47,
   "id": "20230394-4363-4dd3-aa60-035c896ae58a",
   "metadata": {},
   "outputs": [
    {
     "name": "stdout",
     "output_type": "stream",
     "text": [
      "age\n",
      "25    2096\n",
      "35    1193\n",
      "18    1103\n",
      "45     550\n",
      "50     496\n",
      "56     380\n",
      "1      222\n",
      "Name: count, dtype: int64\n"
     ]
    }
   ],
   "source": [
    "users['age'].max()\n",
    "# Print the total occurrences of each unique age in the 'age' column\n",
    "age_counts = users['age'].value_counts()\n",
    "\n",
    "print(age_counts)\n"
   ]
  },
  {
   "cell_type": "code",
   "execution_count": 42,
   "id": "104a1d17-a50f-4eab-b696-1fa376b1774e",
   "metadata": {},
   "outputs": [
    {
     "data": {
      "text/plain": [
       "np.int64(20)"
      ]
     },
     "execution_count": 42,
     "metadata": {},
     "output_type": "execute_result"
    }
   ],
   "source": [
    "users['occupation'].max()\n"
   ]
  },
  {
   "cell_type": "code",
   "execution_count": 48,
   "id": "043077f8-a821-4c9b-8ddf-fea3ca44866d",
   "metadata": {},
   "outputs": [],
   "source": [
    "# Specify User's Age and Occupation Column\n",
    "AGES = { 1: \"Under 18\", 18: \"18-24\", 25: \"25-34\", 35: \"35-44\", 45: \"45-49\", 50: \"50-55\", 56: \"56+\" }\n",
    "OCCUPATIONS = { 0: \"other or not specified\", 1: \"academic/educator\", 2: \"artist\", 3: \"clerical/admin\",\n",
    "                4: \"college/grad student\", 5: \"customer service\", 6: \"doctor/health care\",\n",
    "                7: \"executive/managerial\", 8: \"farmer\", 9: \"homemaker\", 10: \"K-12 student\", 11: \"lawyer\",\n",
    "                12: \"programmer\", 13: \"retired\", 14: \"sales/marketing\", 15: \"scientist\", 16: \"self-employed\",\n",
    "                17: \"technician/engineer\", 18: \"tradesman/craftsman\", 19: \"unemployed\", 20: \"writer\" }\n",
    "\n",
    "\n",
    "# creating new column for more readability\n",
    "users['age_desc'] = users['age'].map(AGES)\n",
    "users['occ_desc'] = users['occupation'].map(OCCUPATIONS)\n",
    "\n",
    "\n"
   ]
  },
  {
   "cell_type": "code",
   "execution_count": 52,
   "id": "314cb918-5467-415c-bf0e-4d14344ebf35",
   "metadata": {},
   "outputs": [
    {
     "name": "stdout",
     "output_type": "stream",
     "text": [
      "      age_desc                occ_desc\n",
      "0     Under 18            K-12 student\n",
      "1          56+           self-employed\n",
      "2        25-34               scientist\n",
      "3        45-49    executive/managerial\n",
      "4        25-34                  writer\n",
      "...        ...                     ...\n",
      "6035     25-34               scientist\n",
      "6036     45-49       academic/educator\n",
      "6037       56+       academic/educator\n",
      "6038     45-49  other or not specified\n",
      "6039     25-34      doctor/health care\n",
      "\n",
      "[6040 rows x 2 columns]\n"
     ]
    }
   ],
   "source": [
    "print(users[['age_desc','occ_desc']]) # seems good "
   ]
  },
  {
   "cell_type": "code",
   "execution_count": 53,
   "id": "318b9b92-96b6-420a-b1c2-078e2e9b7a9a",
   "metadata": {},
   "outputs": [
    {
     "data": {
      "text/plain": [
       "user_id       0\n",
       "gender        0\n",
       "age           0\n",
       "occupation    0\n",
       "zipcode       0\n",
       "age_desc      0\n",
       "occ_desc      0\n",
       "dtype: int64"
      ]
     },
     "execution_count": 53,
     "metadata": {},
     "output_type": "execute_result"
    }
   ],
   "source": [
    "# finding null entries \n",
    "users.isna().sum() # --> no null entries found"
   ]
  },
  {
   "cell_type": "code",
   "execution_count": 65,
   "id": "18827237-d225-410c-8207-489dc8238e53",
   "metadata": {},
   "outputs": [
    {
     "name": "stdout",
     "output_type": "stream",
     "text": [
      "Saved to users.csv\n"
     ]
    }
   ],
   "source": [
    "# Saving to users.csv\n",
    "users.to_csv(\"Dataset/users.csv\", header = True, encoding = 'latin-1',\n",
    "             columns=['user_id', 'gender', 'age', 'occupation', 'zipcode', 'age_desc', 'occ_desc'], index = False)\n",
    "print (\"Saved to users.csv successfully!\")"
   ]
  },
  {
   "cell_type": "markdown",
   "id": "67d09714-1be1-4a4b-8148-af6ebaff74e7",
   "metadata": {},
   "source": [
    "# movies Dataset"
   ]
  },
  {
   "cell_type": "code",
   "execution_count": 55,
   "id": "0df1bd7a-b8ce-438d-bcc7-be234ed1871c",
   "metadata": {},
   "outputs": [],
   "source": [
    "movies = pd.read_csv(\"Dataset/movies.dat\", sep = '::', engine = 'python' ,encoding = 'latin-1',  \n",
    "                     names=['movie_id', 'title', 'genres'])"
   ]
  },
  {
   "cell_type": "code",
   "execution_count": 56,
   "id": "43c6d218-80ff-4d54-995b-6843c7be7029",
   "metadata": {},
   "outputs": [
    {
     "data": {
      "text/html": [
       "<div>\n",
       "<style scoped>\n",
       "    .dataframe tbody tr th:only-of-type {\n",
       "        vertical-align: middle;\n",
       "    }\n",
       "\n",
       "    .dataframe tbody tr th {\n",
       "        vertical-align: top;\n",
       "    }\n",
       "\n",
       "    .dataframe thead th {\n",
       "        text-align: right;\n",
       "    }\n",
       "</style>\n",
       "<table border=\"1\" class=\"dataframe\">\n",
       "  <thead>\n",
       "    <tr style=\"text-align: right;\">\n",
       "      <th></th>\n",
       "      <th>movie_id</th>\n",
       "      <th>title</th>\n",
       "      <th>genres</th>\n",
       "    </tr>\n",
       "  </thead>\n",
       "  <tbody>\n",
       "    <tr>\n",
       "      <th>0</th>\n",
       "      <td>1</td>\n",
       "      <td>Toy Story (1995)</td>\n",
       "      <td>Animation|Children's|Comedy</td>\n",
       "    </tr>\n",
       "    <tr>\n",
       "      <th>1</th>\n",
       "      <td>2</td>\n",
       "      <td>Jumanji (1995)</td>\n",
       "      <td>Adventure|Children's|Fantasy</td>\n",
       "    </tr>\n",
       "    <tr>\n",
       "      <th>2</th>\n",
       "      <td>3</td>\n",
       "      <td>Grumpier Old Men (1995)</td>\n",
       "      <td>Comedy|Romance</td>\n",
       "    </tr>\n",
       "    <tr>\n",
       "      <th>3</th>\n",
       "      <td>4</td>\n",
       "      <td>Waiting to Exhale (1995)</td>\n",
       "      <td>Comedy|Drama</td>\n",
       "    </tr>\n",
       "    <tr>\n",
       "      <th>4</th>\n",
       "      <td>5</td>\n",
       "      <td>Father of the Bride Part II (1995)</td>\n",
       "      <td>Comedy</td>\n",
       "    </tr>\n",
       "  </tbody>\n",
       "</table>\n",
       "</div>"
      ],
      "text/plain": [
       "   movie_id                               title                        genres\n",
       "0         1                    Toy Story (1995)   Animation|Children's|Comedy\n",
       "1         2                      Jumanji (1995)  Adventure|Children's|Fantasy\n",
       "2         3             Grumpier Old Men (1995)                Comedy|Romance\n",
       "3         4            Waiting to Exhale (1995)                  Comedy|Drama\n",
       "4         5  Father of the Bride Part II (1995)                        Comedy"
      ]
     },
     "execution_count": 56,
     "metadata": {},
     "output_type": "execute_result"
    }
   ],
   "source": [
    "movies.head()"
   ]
  },
  {
   "cell_type": "code",
   "execution_count": 59,
   "id": "6511e499-504e-42af-95c0-64e40155030b",
   "metadata": {},
   "outputs": [
    {
     "name": "stdout",
     "output_type": "stream",
     "text": [
      "<class 'pandas.core.frame.DataFrame'>\n",
      "RangeIndex: 3883 entries, 0 to 3882\n",
      "Data columns (total 3 columns):\n",
      " #   Column    Non-Null Count  Dtype \n",
      "---  ------    --------------  ----- \n",
      " 0   movie_id  3883 non-null   int64 \n",
      " 1   title     3883 non-null   object\n",
      " 2   genres    3883 non-null   object\n",
      "dtypes: int64(1), object(2)\n",
      "memory usage: 91.1+ KB\n"
     ]
    }
   ],
   "source": [
    "movies.info() # no null entries found"
   ]
  },
  {
   "cell_type": "code",
   "execution_count": 60,
   "id": "9429d0f2-a4e2-4c20-a393-76ab96f75339",
   "metadata": {},
   "outputs": [
    {
     "data": {
      "text/plain": [
       "np.int64(0)"
      ]
     },
     "execution_count": 60,
     "metadata": {},
     "output_type": "execute_result"
    }
   ],
   "source": [
    "movies.duplicated().sum() # no duplicate entries found"
   ]
  },
  {
   "cell_type": "code",
   "execution_count": 61,
   "id": "b154d186-92f3-4939-a539-e04e2ad67646",
   "metadata": {},
   "outputs": [
    {
     "name": "stdout",
     "output_type": "stream",
     "text": [
      "3883\n"
     ]
    }
   ],
   "source": [
    "print(len(movies))"
   ]
  },
  {
   "cell_type": "code",
   "execution_count": 64,
   "id": "70441673-4288-49c2-b468-710a30cc0f41",
   "metadata": {},
   "outputs": [
    {
     "data": {
      "text/plain": [
       "movie_id     int64\n",
       "title       object\n",
       "genres      object\n",
       "dtype: object"
      ]
     },
     "execution_count": 64,
     "metadata": {},
     "output_type": "execute_result"
    }
   ],
   "source": [
    "movies.dtypes"
   ]
  },
  {
   "cell_type": "code",
   "execution_count": 66,
   "id": "8c8c5168-4735-4197-8ea6-03c14ac5638f",
   "metadata": {},
   "outputs": [
    {
     "name": "stdout",
     "output_type": "stream",
     "text": [
      "Saved to movies.csv successfully!\n"
     ]
    }
   ],
   "source": [
    "# saving to movies.csv\n",
    "movies.to_csv(\"Dataset/movies.csv\", header = True, index = False, columns=['movie_id', 'title', 'genres'])\n",
    "\n",
    "print(\"Saved to movies.csv successfully!\")"
   ]
  },
  {
   "cell_type": "code",
   "execution_count": null,
   "id": "6f0902d5-5dbd-433d-919f-bfddd262e4c4",
   "metadata": {},
   "outputs": [],
   "source": []
  }
 ],
 "metadata": {
  "kernelspec": {
   "display_name": "Python 3 (ipykernel)",
   "language": "python",
   "name": "python3"
  },
  "language_info": {
   "codemirror_mode": {
    "name": "ipython",
    "version": 3
   },
   "file_extension": ".py",
   "mimetype": "text/x-python",
   "name": "python",
   "nbconvert_exporter": "python",
   "pygments_lexer": "ipython3",
   "version": "3.12.6"
  }
 },
 "nbformat": 4,
 "nbformat_minor": 5
}
