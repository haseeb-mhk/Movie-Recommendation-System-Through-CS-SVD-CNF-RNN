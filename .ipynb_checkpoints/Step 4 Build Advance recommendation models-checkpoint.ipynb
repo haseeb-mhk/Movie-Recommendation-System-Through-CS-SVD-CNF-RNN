{
 "cells": [
  {
   "cell_type": "code",
   "execution_count": null,
   "id": "373df649-6fd3-432d-b7c5-2f0ee664a7a5",
   "metadata": {},
   "outputs": [],
   "source": [
    "NCF"
   ]
  }
 ],
 "metadata": {
  "kernelspec": {
   "display_name": "Python 3 (ipykernel)",
   "language": "python",
   "name": "python3"
  },
  "language_info": {
   "codemirror_mode": {
    "name": "ipython",
    "version": 3
   },
   "file_extension": ".py",
   "mimetype": "text/x-python",
   "name": "python",
   "nbconvert_exporter": "python",
   "pygments_lexer": "ipython3",
   "version": "3.12.6"
  }
 },
 "nbformat": 4,
 "nbformat_minor": 5
}
