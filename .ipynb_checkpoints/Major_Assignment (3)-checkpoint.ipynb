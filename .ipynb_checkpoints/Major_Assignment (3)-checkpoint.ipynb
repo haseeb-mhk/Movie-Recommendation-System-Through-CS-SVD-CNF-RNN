{
  "cells": [
    {
      "cell_type": "markdown",
      "metadata": {
        "id": "AwDLDPwSW5ny"
      },
      "source": [
        "# Mount Google Drive"
      ]
    },
    {
      "cell_type": "code",
      "execution_count": null,
      "metadata": {
        "colab": {
          "base_uri": "https://localhost:8080/"
        },
        "id": "b--V8_hAPr-B",
        "outputId": "f5ba1ed1-a392-4e50-9b19-75f1ddca3a9a"
      },
      "outputs": [
        {
          "name": "stdout",
          "output_type": "stream",
          "text": [
            "Mounted at /content/drive\n"
          ]
        }
      ],
      "source": [
        "from google.colab import drive\n",
        "drive.mount('/content/drive')"
      ]
    },
    {
      "cell_type": "markdown",
      "metadata": {
        "id": "4YHVwLTMXHiL"
      },
      "source": [
        "# Loading and inspecting dataset"
      ]
    },
    {
      "cell_type": "code",
      "execution_count": null,
      "metadata": {
        "id": "fwWFsz4yV6dQ"
      },
      "outputs": [],
      "source": [
        "import pandas as pd\n",
        "import numpy as np\n",
        "import matplotlib.pyplot as plt\n",
        "import seaborn as sns\n",
        "import os"
      ]
    },
    {
      "cell_type": "code",
      "execution_count": null,
      "metadata": {
        "colab": {
          "base_uri": "https://localhost:8080/"
        },
        "id": "fCzpwyvXYTYA",
        "outputId": "021bfdf0-c593-4821-cfb4-90177cedd0b7"
      },
      "outputs": [
        {
          "name": "stderr",
          "output_type": "stream",
          "text": [
            "<ipython-input-3-789e5028e567>:7: DtypeWarning: Columns (10) have mixed types. Specify dtype option on import or set low_memory=False.\n",
            "  movies_metadata = pd.read_csv(path + 'movies_metadata.csv')\n"
          ]
        }
      ],
      "source": [
        "path = '/content/drive/MyDrive/movies_metadata/'\n",
        "\n",
        "credits = pd.read_csv(path + 'credits.csv')\n",
        "keywords = pd.read_csv(path + 'keywords.csv')\n",
        "links = pd.read_csv(path + 'links.csv')\n",
        "links_small = pd.read_csv(path + 'links_small.csv')\n",
        "movies_metadata = pd.read_csv(path + 'movies_metadata.csv')\n",
        "# ratings = pd.read_csv(path + 'ratings.csv')\n",
        "ratings_small = pd.read_csv(path + 'ratings_small.csv')"
      ]
    },
    {
      "cell_type": "code",
      "execution_count": null,
      "metadata": {
        "colab": {
          "base_uri": "https://localhost:8080/"
        },
        "id": "GD-EwUh6WeOK",
        "outputId": "6c84a791-12cb-4fbb-f2ca-14e4b0d19490"
      },
      "outputs": [
        {
          "name": "stdout",
          "output_type": "stream",
          "text": [
            "                                                cast  \\\n",
            "0  [{'cast_id': 14, 'character': 'Woody (voice)',...   \n",
            "1  [{'cast_id': 1, 'character': 'Alan Parrish', '...   \n",
            "2  [{'cast_id': 2, 'character': 'Max Goldman', 'c...   \n",
            "3  [{'cast_id': 1, 'character': \"Savannah 'Vannah...   \n",
            "4  [{'cast_id': 1, 'character': 'George Banks', '...   \n",
            "\n",
            "                                                crew     id  \n",
            "0  [{'credit_id': '52fe4284c3a36847f8024f49', 'de...    862  \n",
            "1  [{'credit_id': '52fe44bfc3a36847f80a7cd1', 'de...   8844  \n",
            "2  [{'credit_id': '52fe466a9251416c75077a89', 'de...  15602  \n",
            "3  [{'credit_id': '52fe44779251416c91011acb', 'de...  31357  \n",
            "4  [{'credit_id': '52fe44959251416c75039ed7', 'de...  11862  \n",
            "<class 'pandas.core.frame.DataFrame'>\n",
            "RangeIndex: 45466 entries, 0 to 45465\n",
            "Data columns (total 24 columns):\n",
            " #   Column                 Non-Null Count  Dtype  \n",
            "---  ------                 --------------  -----  \n",
            " 0   adult                  45466 non-null  object \n",
            " 1   belongs_to_collection  4494 non-null   object \n",
            " 2   budget                 45466 non-null  object \n",
            " 3   genres                 45466 non-null  object \n",
            " 4   homepage               7782 non-null   object \n",
            " 5   id                     45466 non-null  object \n",
            " 6   imdb_id                45449 non-null  object \n",
            " 7   original_language      45455 non-null  object \n",
            " 8   original_title         45466 non-null  object \n",
            " 9   overview               44512 non-null  object \n",
            " 10  popularity             45461 non-null  object \n",
            " 11  poster_path            45080 non-null  object \n",
            " 12  production_companies   45463 non-null  object \n",
            " 13  production_countries   45463 non-null  object \n",
            " 14  release_date           45379 non-null  object \n",
            " 15  revenue                45460 non-null  float64\n",
            " 16  runtime                45203 non-null  float64\n",
            " 17  spoken_languages       45460 non-null  object \n",
            " 18  status                 45379 non-null  object \n",
            " 19  tagline                20412 non-null  object \n",
            " 20  title                  45460 non-null  object \n",
            " 21  video                  45460 non-null  object \n",
            " 22  vote_average           45460 non-null  float64\n",
            " 23  vote_count             45460 non-null  float64\n",
            "dtypes: float64(4), object(20)\n",
            "memory usage: 8.3+ MB\n",
            "None\n"
          ]
        }
      ],
      "source": [
        "# Inspect the data\n",
        "print(credits.head())\n",
        "print(movies_metadata.info())"
      ]
    },
    {
      "cell_type": "markdown",
      "metadata": {
        "id": "-XyzrrkFYs-u"
      },
      "source": [
        "# Data Exploaration"
      ]
    },
    {
      "cell_type": "markdown",
      "metadata": {
        "id": "anssqDyoYzD-"
      },
      "source": [
        "Inspecting Dataset structure"
      ]
    },
    {
      "cell_type": "code",
      "execution_count": null,
      "metadata": {
        "colab": {
          "base_uri": "https://localhost:8080/"
        },
        "id": "qE1blXhWXX-F",
        "outputId": "42c22bab-1e9b-4e9c-bd58-5b00ca259560"
      },
      "outputs": [
        {
          "name": "stdout",
          "output_type": "stream",
          "text": [
            "<class 'pandas.core.frame.DataFrame'>\n",
            "RangeIndex: 45476 entries, 0 to 45475\n",
            "Data columns (total 3 columns):\n",
            " #   Column  Non-Null Count  Dtype \n",
            "---  ------  --------------  ----- \n",
            " 0   cast    45476 non-null  object\n",
            " 1   crew    45476 non-null  object\n",
            " 2   id      45476 non-null  int64 \n",
            "dtypes: int64(1), object(2)\n",
            "memory usage: 1.0+ MB\n",
            "Credits Info:\n",
            " None\n",
            "<class 'pandas.core.frame.DataFrame'>\n",
            "RangeIndex: 45466 entries, 0 to 45465\n",
            "Data columns (total 24 columns):\n",
            " #   Column                 Non-Null Count  Dtype  \n",
            "---  ------                 --------------  -----  \n",
            " 0   adult                  45466 non-null  object \n",
            " 1   belongs_to_collection  4494 non-null   object \n",
            " 2   budget                 45466 non-null  object \n",
            " 3   genres                 45466 non-null  object \n",
            " 4   homepage               7782 non-null   object \n",
            " 5   id                     45466 non-null  object \n",
            " 6   imdb_id                45449 non-null  object \n",
            " 7   original_language      45455 non-null  object \n",
            " 8   original_title         45466 non-null  object \n",
            " 9   overview               44512 non-null  object \n",
            " 10  popularity             45461 non-null  object \n",
            " 11  poster_path            45080 non-null  object \n",
            " 12  production_companies   45463 non-null  object \n",
            " 13  production_countries   45463 non-null  object \n",
            " 14  release_date           45379 non-null  object \n",
            " 15  revenue                45460 non-null  float64\n",
            " 16  runtime                45203 non-null  float64\n",
            " 17  spoken_languages       45460 non-null  object \n",
            " 18  status                 45379 non-null  object \n",
            " 19  tagline                20412 non-null  object \n",
            " 20  title                  45460 non-null  object \n",
            " 21  video                  45460 non-null  object \n",
            " 22  vote_average           45460 non-null  float64\n",
            " 23  vote_count             45460 non-null  float64\n",
            "dtypes: float64(4), object(20)\n",
            "memory usage: 8.3+ MB\n",
            "Movies Metadata Info:\n",
            " None\n",
            "Credits Head:\n",
            "                                                 cast  \\\n",
            "0  [{'cast_id': 14, 'character': 'Woody (voice)',...   \n",
            "1  [{'cast_id': 1, 'character': 'Alan Parrish', '...   \n",
            "2  [{'cast_id': 2, 'character': 'Max Goldman', 'c...   \n",
            "3  [{'cast_id': 1, 'character': \"Savannah 'Vannah...   \n",
            "4  [{'cast_id': 1, 'character': 'George Banks', '...   \n",
            "\n",
            "                                                crew     id  \n",
            "0  [{'credit_id': '52fe4284c3a36847f8024f49', 'de...    862  \n",
            "1  [{'credit_id': '52fe44bfc3a36847f80a7cd1', 'de...   8844  \n",
            "2  [{'credit_id': '52fe466a9251416c75077a89', 'de...  15602  \n",
            "3  [{'credit_id': '52fe44779251416c91011acb', 'de...  31357  \n",
            "4  [{'credit_id': '52fe44959251416c75039ed7', 'de...  11862  \n",
            "Movies Metadata Head:\n",
            "    adult                              belongs_to_collection    budget  \\\n",
            "0  False  {'id': 10194, 'name': 'Toy Story Collection', ...  30000000   \n",
            "1  False                                                NaN  65000000   \n",
            "2  False  {'id': 119050, 'name': 'Grumpy Old Men Collect...         0   \n",
            "3  False                                                NaN  16000000   \n",
            "4  False  {'id': 96871, 'name': 'Father of the Bride Col...         0   \n",
            "\n",
            "                                              genres  \\\n",
            "0  [{'id': 16, 'name': 'Animation'}, {'id': 35, '...   \n",
            "1  [{'id': 12, 'name': 'Adventure'}, {'id': 14, '...   \n",
            "2  [{'id': 10749, 'name': 'Romance'}, {'id': 35, ...   \n",
            "3  [{'id': 35, 'name': 'Comedy'}, {'id': 18, 'nam...   \n",
            "4                     [{'id': 35, 'name': 'Comedy'}]   \n",
            "\n",
            "                               homepage     id    imdb_id original_language  \\\n",
            "0  http://toystory.disney.com/toy-story    862  tt0114709                en   \n",
            "1                                   NaN   8844  tt0113497                en   \n",
            "2                                   NaN  15602  tt0113228                en   \n",
            "3                                   NaN  31357  tt0114885                en   \n",
            "4                                   NaN  11862  tt0113041                en   \n",
            "\n",
            "                original_title  \\\n",
            "0                    Toy Story   \n",
            "1                      Jumanji   \n",
            "2             Grumpier Old Men   \n",
            "3            Waiting to Exhale   \n",
            "4  Father of the Bride Part II   \n",
            "\n",
            "                                            overview  ... release_date  \\\n",
            "0  Led by Woody, Andy's toys live happily in his ...  ...   1995-10-30   \n",
            "1  When siblings Judy and Peter discover an encha...  ...   1995-12-15   \n",
            "2  A family wedding reignites the ancient feud be...  ...   1995-12-22   \n",
            "3  Cheated on, mistreated and stepped on, the wom...  ...   1995-12-22   \n",
            "4  Just when George Banks has recovered from his ...  ...   1995-02-10   \n",
            "\n",
            "       revenue runtime                                   spoken_languages  \\\n",
            "0  373554033.0    81.0           [{'iso_639_1': 'en', 'name': 'English'}]   \n",
            "1  262797249.0   104.0  [{'iso_639_1': 'en', 'name': 'English'}, {'iso...   \n",
            "2          0.0   101.0           [{'iso_639_1': 'en', 'name': 'English'}]   \n",
            "3   81452156.0   127.0           [{'iso_639_1': 'en', 'name': 'English'}]   \n",
            "4   76578911.0   106.0           [{'iso_639_1': 'en', 'name': 'English'}]   \n",
            "\n",
            "     status                                            tagline  \\\n",
            "0  Released                                                NaN   \n",
            "1  Released          Roll the dice and unleash the excitement!   \n",
            "2  Released  Still Yelling. Still Fighting. Still Ready for...   \n",
            "3  Released  Friends are the people who let you be yourself...   \n",
            "4  Released  Just When His World Is Back To Normal... He's ...   \n",
            "\n",
            "                         title  video vote_average vote_count  \n",
            "0                    Toy Story  False          7.7     5415.0  \n",
            "1                      Jumanji  False          6.9     2413.0  \n",
            "2             Grumpier Old Men  False          6.5       92.0  \n",
            "3            Waiting to Exhale  False          6.1       34.0  \n",
            "4  Father of the Bride Part II  False          5.7      173.0  \n",
            "\n",
            "[5 rows x 24 columns]\n"
          ]
        }
      ],
      "source": [
        "# Check basic info\n",
        "print(\"Credits Info:\\n\", credits.info())\n",
        "print(\"Movies Metadata Info:\\n\", movies_metadata.info())\n",
        "\n",
        "# Preview the first few rows\n",
        "print(\"Credits Head:\\n\", credits.head())\n",
        "print(\"Movies Metadata Head:\\n\", movies_metadata.head())"
      ]
    },
    {
      "cell_type": "markdown",
      "metadata": {
        "id": "5clrAh-gZYYN"
      },
      "source": [
        "Checking Missing Values"
      ]
    },
    {
      "cell_type": "code",
      "execution_count": null,
      "metadata": {
        "colab": {
          "base_uri": "https://localhost:8080/"
        },
        "id": "Nv6dG3SdZDf4",
        "outputId": "37dabad7-cb4c-4fd8-91cb-2aef4b09ea7f"
      },
      "outputs": [
        {
          "name": "stdout",
          "output_type": "stream",
          "text": [
            "Missing Values in Credits:\n",
            " cast    0\n",
            "crew    0\n",
            "id      0\n",
            "dtype: int64\n",
            "Missing Values in Movies Metadata:\n",
            " adult                        0\n",
            "belongs_to_collection    40972\n",
            "budget                       0\n",
            "genres                       0\n",
            "homepage                 37684\n",
            "id                           0\n",
            "imdb_id                     17\n",
            "original_language           11\n",
            "original_title               0\n",
            "overview                   954\n",
            "popularity                   5\n",
            "poster_path                386\n",
            "production_companies         3\n",
            "production_countries         3\n",
            "release_date                87\n",
            "revenue                      6\n",
            "runtime                    263\n",
            "spoken_languages             6\n",
            "status                      87\n",
            "tagline                  25054\n",
            "title                        6\n",
            "video                        6\n",
            "vote_average                 6\n",
            "vote_count                   6\n",
            "dtype: int64\n"
          ]
        }
      ],
      "source": [
        "# Count missing values in each column\n",
        "print(\"Missing Values in Credits:\\n\", credits.isnull().sum())\n",
        "print(\"Missing Values in Movies Metadata:\\n\", movies_metadata.isnull().sum())"
      ]
    },
    {
      "cell_type": "markdown",
      "metadata": {
        "id": "q-XV_5nHZsKg"
      },
      "source": [
        "Checking for Duplicates"
      ]
    },
    {
      "cell_type": "code",
      "execution_count": null,
      "metadata": {
        "colab": {
          "base_uri": "https://localhost:8080/"
        },
        "id": "WtELvKrJZw-9",
        "outputId": "b82b0925-c7a1-4363-ef2e-a73e0c250854"
      },
      "outputs": [
        {
          "name": "stdout",
          "output_type": "stream",
          "text": [
            "Duplicate Rows in Credits: 37\n",
            "Duplicate Rows in Movies Metadata: 13\n"
          ]
        }
      ],
      "source": [
        "# Count duplicates\n",
        "print(\"Duplicate Rows in Credits:\", credits.duplicated().sum())\n",
        "print(\"Duplicate Rows in Movies Metadata:\", movies_metadata.duplicated().sum())"
      ]
    },
    {
      "cell_type": "markdown",
      "metadata": {
        "id": "IPAf6dAlZehJ"
      },
      "source": [
        "Basic Statistics"
      ]
    },
    {
      "cell_type": "code",
      "execution_count": null,
      "metadata": {
        "colab": {
          "base_uri": "https://localhost:8080/"
        },
        "id": "lEIqtlItZ8Ez",
        "outputId": "ff6e01cb-e7e9-446d-fec8-962605ea8899"
      },
      "outputs": [
        {
          "name": "stdout",
          "output_type": "stream",
          "text": [
            "Movies Metadata Summary:\n",
            "             revenue       runtime  vote_average    vote_count\n",
            "count  4.546000e+04  45203.000000  45460.000000  45460.000000\n",
            "mean   1.120935e+07     94.128199      5.618207    109.897338\n",
            "std    6.433225e+07     38.407810      1.924216    491.310374\n",
            "min    0.000000e+00      0.000000      0.000000      0.000000\n",
            "25%    0.000000e+00     85.000000      5.000000      3.000000\n",
            "50%    0.000000e+00     95.000000      6.000000     10.000000\n",
            "75%    0.000000e+00    107.000000      6.800000     34.000000\n",
            "max    2.787965e+09   1256.000000     10.000000  14075.000000\n"
          ]
        }
      ],
      "source": [
        "# Summary statistics for numerical columns\n",
        "print(\"Movies Metadata Summary:\\n\", movies_metadata.describe())"
      ]
    },
    {
      "cell_type": "markdown",
      "metadata": {
        "id": "R_RGJ18gZ9yX"
      },
      "source": [
        "Visulaization of key distribution"
      ]
    },
    {
      "cell_type": "code",
      "execution_count": null,
      "metadata": {
        "colab": {
          "base_uri": "https://localhost:8080/",
          "height": 927
        },
        "id": "RwjJvU0EZ87E",
        "outputId": "ef95b83f-38b2-4454-acb1-de9a6fefb286"
      },
      "outputs": [
        {
          "data": {
            "image/png": "[encoded data removed]",
            "text/plain": [
              "<Figure size 640x480 with 1 Axes>"
            ]
          },
          "metadata": {},
          "output_type": "display_data"
        },
        {
          "data": {
            "image/png": "[encoded data removed]",
            "text/plain": [
              "<Figure size 640x480 with 1 Axes>"
            ]
          },
          "metadata": {},
          "output_type": "display_data"
        }
      ],
      "source": [
        "# Distribution of vote averages\n",
        "sns.histplot(movies_metadata['vote_average'].dropna(), bins=20, kde=True)\n",
        "plt.title(\"Vote Average Distribution\")\n",
        "plt.xlabel(\"Vote Average\")\n",
        "plt.ylabel(\"Frequency\")\n",
        "plt.show()\n",
        "\n",
        "# Popular genres\n",
        "movies_metadata['genres'] = movies_metadata['genres'].fillna('[]')  # Replace NaN with empty list\n",
        "genres = movies_metadata['genres'].apply(eval).apply(lambda x: [d['name'] for d in x] if isinstance(x, list) else [])\n",
        "genres_flat = [genre for sublist in genres for genre in sublist]\n",
        "sns.countplot(y=pd.Series(genres_flat).value_counts().head(10).index)\n",
        "plt.title(\"Top 10 Genres\")\n",
        "plt.show()"
      ]
    },
    {
      "cell_type": "markdown",
      "metadata": {
        "id": "fwPrdFNnaP3Q"
      },
      "source": [
        "# Data Preprocessing"
      ]
    },
    {
      "cell_type": "markdown",
      "metadata": {
        "id": "XFWnjU5dalN6"
      },
      "source": [
        "Handling missing data"
      ]
    },
    {
      "cell_type": "code",
      "execution_count": null,
      "metadata": {
        "id": "lBkYmlaIacVa"
      },
      "outputs": [],
      "source": [
        "# Drop rows with critical missing data (e.g., title, id)\n",
        "movies_metadata = movies_metadata.dropna(subset=['id', 'title'])\n",
        "\n",
        "# Fill missing values for less critical columns\n",
        "movies_metadata['release_date'] = pd.to_datetime(movies_metadata['release_date'], errors='coerce')\n",
        "movies_metadata['vote_average'] = movies_metadata['vote_average'].fillna(movies_metadata['vote_average'].mean())"
      ]
    },
    {
      "cell_type": "markdown",
      "metadata": {
        "id": "7UlBOsu1avYt"
      },
      "source": [
        "Handling Duplicates"
      ]
    },
    {
      "cell_type": "code",
      "execution_count": null,
      "metadata": {
        "id": "UDdG8Tvzanof"
      },
      "outputs": [],
      "source": [
        "# Drop duplicate rows\n",
        "credits = credits.drop_duplicates()\n",
        "movies_metadata = movies_metadata.drop_duplicates()"
      ]
    },
    {
      "cell_type": "markdown",
      "metadata": {
        "id": "kDVNM_uFawcp"
      },
      "source": [
        "Converting datatypes"
      ]
    },
    {
      "cell_type": "code",
      "execution_count": null,
      "metadata": {
        "colab": {
          "base_uri": "https://localhost:8080/"
        },
        "id": "y-JqSGMmaw5k",
        "outputId": "a79cd1a8-0722-4977-c6ef-66d0ee4241d6"
      },
      "outputs": [
        {
          "name": "stderr",
          "output_type": "stream",
          "text": [
            "<ipython-input-12-3511755543ff>:2: SettingWithCopyWarning: \n",
            "A value is trying to be set on a copy of a slice from a DataFrame.\n",
            "Try using .loc[row_indexer,col_indexer] = value instead\n",
            "\n",
            "See the caveats in the documentation: https://pandas.pydata.org/pandas-docs/stable/user_guide/indexing.html#returning-a-view-versus-a-copy\n",
            "  movies_metadata['id'] = movies_metadata['id'].astype(str)\n"
          ]
        }
      ],
      "source": [
        "# Ensure IDs are strings for merging\n",
        "movies_metadata['id'] = movies_metadata['id'].astype(str)\n",
        "credits['id'] = credits['id'].astype(str)"
      ]
    },
    {
      "cell_type": "markdown",
      "metadata": {
        "id": "vxXLabZGaxPK"
      },
      "source": [
        "Merge Datasets"
      ]
    },
    {
      "cell_type": "code",
      "execution_count": null,
      "metadata": {
        "id": "gadsftz8axf2"
      },
      "outputs": [],
      "source": [
        "# Merge credits with movies metadata on ID\n",
        "movies_combined = pd.merge(movies_metadata, credits, on='id', how='left')"
      ]
    },
    {
      "cell_type": "markdown",
      "metadata": {
        "id": "-tKNOPEqaxvw"
      },
      "source": [
        "Save Cleaned Datasets"
      ]
    },
    {
      "cell_type": "code",
      "execution_count": null,
      "metadata": {
        "id": "gbMRXnXBax-2"
      },
      "outputs": [],
      "source": [
        "# Save the cleaned dataset\n",
        "movies_combined.to_csv('/content/drive/MyDrive/movies_combined_cleaned.csv', index=False)"
      ]
    },
    {
      "cell_type": "markdown",
      "metadata": {
        "id": "LkDCJiZTayPR"
      },
      "source": [
        "# Basic Recommendation model\n",
        "using\n",
        "# Cosine Similarity"
      ]
    },
    {
      "cell_type": "markdown",
      "metadata": {
        "id": "C74wi6Ijgp5P"
      },
      "source": [
        "import required libraries"
      ]
    },
    {
      "cell_type": "code",
      "execution_count": null,
      "metadata": {
        "id": "qVdvISbPaydW"
      },
      "outputs": [],
      "source": [
        "from sklearn.feature_extraction.text import TfidfVectorizer\n",
        "from sklearn.metrics.pairwise import cosine_similarity\n",
        "import pandas as pd\n",
        "import numpy as np"
      ]
    },
    {
      "cell_type": "markdown",
      "metadata": {
        "id": "AqppsKBygrso"
      },
      "source": [
        "Load the Cleaned dataset"
      ]
    },
    {
      "cell_type": "code",
      "execution_count": null,
      "metadata": {
        "colab": {
          "base_uri": "https://localhost:8080/",
          "height": 724
        },
        "id": "3X29EJkEgr-O",
        "outputId": "38166d4e-3c3f-47ea-8594-31831a4aff45"
      },
      "outputs": [
        {
          "data": {
            "application/vnd.google.colaboratory.intrinsic+json": {
              "type": "dataframe",
              "variable_name": "movies_combined"
            },
            "text/html": [
              "\n",
              "  <div id=\"df-90ee514b-57f9-4159-8ec0-68c25c7d4365\" class=\"colab-df-container\">\n",
              "    <div>\n",
              "<style scoped>\n",
              "    .dataframe tbody tr th:only-of-type {\n",
              "        vertical-align: middle;\n",
              "    }\n",
              "\n",
              "    .dataframe tbody tr th {\n",
              "        vertical-align: top;\n",
              "    }\n",
              "\n",
              "    .dataframe thead th {\n",
              "        text-align: right;\n",
              "    }\n",
              "</style>\n",
              "<table border=\"1\" class=\"dataframe\">\n",
              "  <thead>\n",
              "    <tr style=\"text-align: right;\">\n",
              "      <th></th>\n",
              "      <th>adult</th>\n",
              "      <th>belongs_to_collection</th>\n",
              "      <th>budget</th>\n",
              "      <th>genres</th>\n",
              "      <th>homepage</th>\n",
              "      <th>id</th>\n",
              "      <th>imdb_id</th>\n",
              "      <th>original_language</th>\n",
              "      <th>original_title</th>\n",
              "      <th>overview</th>\n",
              "      <th>...</th>\n",
              "      <th>runtime</th>\n",
              "      <th>spoken_languages</th>\n",
              "      <th>status</th>\n",
              "      <th>tagline</th>\n",
              "      <th>title</th>\n",
              "      <th>video</th>\n",
              "      <th>vote_average</th>\n",
              "      <th>vote_count</th>\n",
              "      <th>cast</th>\n",
              "      <th>crew</th>\n",
              "    </tr>\n",
              "  </thead>\n",
              "  <tbody>\n",
              "    <tr>\n",
              "      <th>0</th>\n",
              "      <td>False</td>\n",
              "      <td>{'id': 10194, 'name': 'Toy Story Collection', ...</td>\n",
              "      <td>30000000</td>\n",
              "      <td>[{'id': 16, 'name': 'Animation'}, {'id': 35, '...</td>\n",
              "      <td>http://toystory.disney.com/toy-story</td>\n",
              "      <td>862</td>\n",
              "      <td>tt0114709</td>\n",
              "      <td>en</td>\n",
              "      <td>Toy Story</td>\n",
              "      <td>Led by Woody, Andy's toys live happily in his ...</td>\n",
              "      <td>...</td>\n",
              "      <td>81.0</td>\n",
              "      <td>[{'iso_639_1': 'en', 'name': 'English'}]</td>\n",
              "      <td>Released</td>\n",
              "      <td>NaN</td>\n",
              "      <td>Toy Story</td>\n",
              "      <td>False</td>\n",
              "      <td>7.7</td>\n",
              "      <td>5415.0</td>\n",
              "      <td>[{'cast_id': 14, 'character': 'Woody (voice)',...</td>\n",
              "      <td>[{'credit_id': '52fe4284c3a36847f8024f49', 'de...</td>\n",
              "    </tr>\n",
              "    <tr>\n",
              "      <th>1</th>\n",
              "      <td>False</td>\n",
              "      <td>NaN</td>\n",
              "      <td>65000000</td>\n",
              "      <td>[{'id': 12, 'name': 'Adventure'}, {'id': 14, '...</td>\n",
              "      <td>NaN</td>\n",
              "      <td>8844</td>\n",
              "      <td>tt0113497</td>\n",
              "      <td>en</td>\n",
              "      <td>Jumanji</td>\n",
              "      <td>When siblings Judy and Peter discover an encha...</td>\n",
              "      <td>...</td>\n",
              "      <td>104.0</td>\n",
              "      <td>[{'iso_639_1': 'en', 'name': 'English'}, {'iso...</td>\n",
              "      <td>Released</td>\n",
              "      <td>Roll the dice and unleash the excitement!</td>\n",
              "      <td>Jumanji</td>\n",
              "      <td>False</td>\n",
              "      <td>6.9</td>\n",
              "      <td>2413.0</td>\n",
              "      <td>[{'cast_id': 1, 'character': 'Alan Parrish', '...</td>\n",
              "      <td>[{'credit_id': '52fe44bfc3a36847f80a7cd1', 'de...</td>\n",
              "    </tr>\n",
              "    <tr>\n",
              "      <th>2</th>\n",
              "      <td>False</td>\n",
              "      <td>{'id': 119050, 'name': 'Grumpy Old Men Collect...</td>\n",
              "      <td>0</td>\n",
              "      <td>[{'id': 10749, 'name': 'Romance'}, {'id': 35, ...</td>\n",
              "      <td>NaN</td>\n",
              "      <td>15602</td>\n",
              "      <td>tt0113228</td>\n",
              "      <td>en</td>\n",
              "      <td>Grumpier Old Men</td>\n",
              "      <td>A family wedding reignites the ancient feud be...</td>\n",
              "      <td>...</td>\n",
              "      <td>101.0</td>\n",
              "      <td>[{'iso_639_1': 'en', 'name': 'English'}]</td>\n",
              "      <td>Released</td>\n",
              "      <td>Still Yelling. Still Fighting. Still Ready for...</td>\n",
              "      <td>Grumpier Old Men</td>\n",
              "      <td>False</td>\n",
              "      <td>6.5</td>\n",
              "      <td>92.0</td>\n",
              "      <td>[{'cast_id': 2, 'character': 'Max Goldman', 'c...</td>\n",
              "      <td>[{'credit_id': '52fe466a9251416c75077a89', 'de...</td>\n",
              "    </tr>\n",
              "    <tr>\n",
              "      <th>3</th>\n",
              "      <td>False</td>\n",
              "      <td>NaN</td>\n",
              "      <td>16000000</td>\n",
              "      <td>[{'id': 35, 'name': 'Comedy'}, {'id': 18, 'nam...</td>\n",
              "      <td>NaN</td>\n",
              "      <td>31357</td>\n",
              "      <td>tt0114885</td>\n",
              "      <td>en</td>\n",
              "      <td>Waiting to Exhale</td>\n",
              "      <td>Cheated on, mistreated and stepped on, the wom...</td>\n",
              "      <td>...</td>\n",
              "      <td>127.0</td>\n",
              "      <td>[{'iso_639_1': 'en', 'name': 'English'}]</td>\n",
              "      <td>Released</td>\n",
              "      <td>Friends are the people who let you be yourself...</td>\n",
              "      <td>Waiting to Exhale</td>\n",
              "      <td>False</td>\n",
              "      <td>6.1</td>\n",
              "      <td>34.0</td>\n",
              "      <td>[{'cast_id': 1, 'character': \"Savannah 'Vannah...</td>\n",
              "      <td>[{'credit_id': '52fe44779251416c91011acb', 'de...</td>\n",
              "    </tr>\n",
              "    <tr>\n",
              "      <th>4</th>\n",
              "      <td>False</td>\n",
              "      <td>{'id': 96871, 'name': 'Father of the Bride Col...</td>\n",
              "      <td>0</td>\n",
              "      <td>[{'id': 35, 'name': 'Comedy'}]</td>\n",
              "      <td>NaN</td>\n",
              "      <td>11862</td>\n",
              "      <td>tt0113041</td>\n",
              "      <td>en</td>\n",
              "      <td>Father of the Bride Part II</td>\n",
              "      <td>Just when George Banks has recovered from his ...</td>\n",
              "      <td>...</td>\n",
              "      <td>106.0</td>\n",
              "      <td>[{'iso_639_1': 'en', 'name': 'English'}]</td>\n",
              "      <td>Released</td>\n",
              "      <td>Just When His World Is Back To Normal... He's ...</td>\n",
              "      <td>Father of the Bride Part II</td>\n",
              "      <td>False</td>\n",
              "      <td>5.7</td>\n",
              "      <td>173.0</td>\n",
              "      <td>[{'cast_id': 1, 'character': 'George Banks', '...</td>\n",
              "      <td>[{'credit_id': '52fe44959251416c75039ed7', 'de...</td>\n",
              "    </tr>\n",
              "  </tbody>\n",
              "</table>\n",
              "<p>5 rows × 26 columns</p>\n",
              "</div>\n",
              "    <div class=\"colab-df-buttons\">\n",
              "\n",
              "  <div class=\"colab-df-container\">\n",
              "    <button class=\"colab-df-convert\" onclick=\"convertToInteractive('df-90ee514b-57f9-4159-8ec0-68c25c7d4365')\"\n",
              "            title=\"Convert this dataframe to an interactive table.\"\n",
              "            style=\"display:none;\">\n",
              "\n",
              "  <svg xmlns=\"http://www.w3.org/2000/svg\" height=\"24px\" viewBox=\"0 -960 960 960\">\n",
              "    <path d=\"M120-120v-720h720v720H120Zm60-500h600v-160H180v160Zm220 220h160v-160H400v160Zm0 220h160v-160H400v160ZM180-400h160v-160H180v160Zm440 0h160v-160H620v160ZM180-180h160v-160H180v160Zm440 0h160v-160H620v160Z\"/>\n",
              "  </svg>\n",
              "    </button>\n",
              "\n",
              "  <style>\n",
              "    .colab-df-container {\n",
              "      display:flex;\n",
              "      gap: 12px;\n",
              "    }\n",
              "\n",
              "    .colab-df-convert {\n",
              "      background-color: #E8F0FE;\n",
              "      border: none;\n",
              "      border-radius: 50%;\n",
              "      cursor: pointer;\n",
              "      display: none;\n",
              "      fill: #1967D2;\n",
              "      height: 32px;\n",
              "      padding: 0 0 0 0;\n",
              "      width: 32px;\n",
              "    }\n",
              "\n",
              "    .colab-df-convert:hover {\n",
              "      background-color: #E2EBFA;\n",
              "      box-shadow: 0px 1px 2px rgba(60, 64, 67, 0.3), 0px 1px 3px 1px rgba(60, 64, 67, 0.15);\n",
              "      fill: #174EA6;\n",
              "    }\n",
              "\n",
              "    .colab-df-buttons div {\n",
              "      margin-bottom: 4px;\n",
              "    }\n",
              "\n",
              "    [theme=dark] .colab-df-convert {\n",
              "      background-color: #3B4455;\n",
              "      fill: #D2E3FC;\n",
              "    }\n",
              "\n",
              "    [theme=dark] .colab-df-convert:hover {\n",
              "      background-color: #434B5C;\n",
              "      box-shadow: 0px 1px 3px 1px rgba(0, 0, 0, 0.15);\n",
              "      filter: drop-shadow(0px 1px 2px rgba(0, 0, 0, 0.3));\n",
              "      fill: #FFFFFF;\n",
              "    }\n",
              "  </style>\n",
              "\n",
              "    <script>\n",
              "      const buttonEl =\n",
              "        document.querySelector('#df-90ee514b-57f9-4159-8ec0-68c25c7d4365 button.colab-df-convert');\n",
              "      buttonEl.style.display =\n",
              "        google.colab.kernel.accessAllowed ? 'block' : 'none';\n",
              "\n",
              "      async function convertToInteractive(key) {\n",
              "        const element = document.querySelector('#df-90ee514b-57f9-4159-8ec0-68c25c7d4365');\n",
              "        const dataTable =\n",
              "          await google.colab.kernel.invokeFunction('convertToInteractive',\n",
              "                                                    [key], {});\n",
              "        if (!dataTable) return;\n",
              "\n",
              "        const docLinkHtml = 'Like what you see? Visit the ' +\n",
              "          '<a target=\"_blank\" href=https://colab.research.google.com/notebooks/data_table.ipynb>data table notebook</a>'\n",
              "          + ' to learn more about interactive tables.';\n",
              "        element.innerHTML = '';\n",
              "        dataTable['output_type'] = 'display_data';\n",
              "        await google.colab.output.renderOutput(dataTable, element);\n",
              "        const docLink = document.createElement('div');\n",
              "        docLink.innerHTML = docLinkHtml;\n",
              "        element.appendChild(docLink);\n",
              "      }\n",
              "    </script>\n",
              "  </div>\n",
              "\n",
              "\n",
              "<div id=\"df-95b08eb4-7c18-4ebe-9d54-ad5a2d88ee95\">\n",
              "  <button class=\"colab-df-quickchart\" onclick=\"quickchart('df-95b08eb4-7c18-4ebe-9d54-ad5a2d88ee95')\"\n",
              "            title=\"Suggest charts\"\n",
              "            style=\"display:none;\">\n",
              "\n",
              "<svg xmlns=\"http://www.w3.org/2000/svg\" height=\"24px\"viewBox=\"0 0 24 24\"\n",
              "     width=\"24px\">\n",
              "    <g>\n",
              "        <path d=\"M19 3H5c-1.1 0-2 .9-2 2v14c0 1.1.9 2 2 2h14c1.1 0 2-.9 2-2V5c0-1.1-.9-2-2-2zM9 17H7v-7h2v7zm4 0h-2V7h2v10zm4 0h-2v-4h2v4z\"/>\n",
              "    </g>\n",
              "</svg>\n",
              "  </button>\n",
              "\n",
              "<style>\n",
              "  .colab-df-quickchart {\n",
              "      --bg-color: #E8F0FE;\n",
              "      --fill-color: #1967D2;\n",
              "      --hover-bg-color: #E2EBFA;\n",
              "      --hover-fill-color: #174EA6;\n",
              "      --disabled-fill-color: #AAA;\n",
              "      --disabled-bg-color: #DDD;\n",
              "  }\n",
              "\n",
              "  [theme=dark] .colab-df-quickchart {\n",
              "      --bg-color: #3B4455;\n",
              "      --fill-color: #D2E3FC;\n",
              "      --hover-bg-color: #434B5C;\n",
              "      --hover-fill-color: #FFFFFF;\n",
              "      --disabled-bg-color: #3B4455;\n",
              "      --disabled-fill-color: #666;\n",
              "  }\n",
              "\n",
              "  .colab-df-quickchart {\n",
              "    background-color: var(--bg-color);\n",
              "    border: none;\n",
              "    border-radius: 50%;\n",
              "    cursor: pointer;\n",
              "    display: none;\n",
              "    fill: var(--fill-color);\n",
              "    height: 32px;\n",
              "    padding: 0;\n",
              "    width: 32px;\n",
              "  }\n",
              "\n",
              "  .colab-df-quickchart:hover {\n",
              "    background-color: var(--hover-bg-color);\n",
              "    box-shadow: 0 1px 2px rgba(60, 64, 67, 0.3), 0 1px 3px 1px rgba(60, 64, 67, 0.15);\n",
              "    fill: var(--button-hover-fill-color);\n",
              "  }\n",
              "\n",
              "  .colab-df-quickchart-complete:disabled,\n",
              "  .colab-df-quickchart-complete:disabled:hover {\n",
              "    background-color: var(--disabled-bg-color);\n",
              "    fill: var(--disabled-fill-color);\n",
              "    box-shadow: none;\n",
              "  }\n",
              "\n",
              "  .colab-df-spinner {\n",
              "    border: 2px solid var(--fill-color);\n",
              "    border-color: transparent;\n",
              "    border-bottom-color: var(--fill-color);\n",
              "    animation:\n",
              "      spin 1s steps(1) infinite;\n",
              "  }\n",
              "\n",
              "  @keyframes spin {\n",
              "    0% {\n",
              "      border-color: transparent;\n",
              "      border-bottom-color: var(--fill-color);\n",
              "      border-left-color: var(--fill-color);\n",
              "    }\n",
              "    20% {\n",
              "      border-color: transparent;\n",
              "      border-left-color: var(--fill-color);\n",
              "      border-top-color: var(--fill-color);\n",
              "    }\n",
              "    30% {\n",
              "      border-color: transparent;\n",
              "      border-left-color: var(--fill-color);\n",
              "      border-top-color: var(--fill-color);\n",
              "      border-right-color: var(--fill-color);\n",
              "    }\n",
              "    40% {\n",
              "      border-color: transparent;\n",
              "      border-right-color: var(--fill-color);\n",
              "      border-top-color: var(--fill-color);\n",
              "    }\n",
              "    60% {\n",
              "      border-color: transparent;\n",
              "      border-right-color: var(--fill-color);\n",
              "    }\n",
              "    80% {\n",
              "      border-color: transparent;\n",
              "      border-right-color: var(--fill-color);\n",
              "      border-bottom-color: var(--fill-color);\n",
              "    }\n",
              "    90% {\n",
              "      border-color: transparent;\n",
              "      border-bottom-color: var(--fill-color);\n",
              "    }\n",
              "  }\n",
              "</style>\n",
              "\n",
              "  <script>\n",
              "    async function quickchart(key) {\n",
              "      const quickchartButtonEl =\n",
              "        document.querySelector('#' + key + ' button');\n",
              "      quickchartButtonEl.disabled = true;  // To prevent multiple clicks.\n",
              "      quickchartButtonEl.classList.add('colab-df-spinner');\n",
              "      try {\n",
              "        const charts = await google.colab.kernel.invokeFunction(\n",
              "            'suggestCharts', [key], {});\n",
              "      } catch (error) {\n",
              "        console.error('Error during call to suggestCharts:', error);\n",
              "      }\n",
              "      quickchartButtonEl.classList.remove('colab-df-spinner');\n",
              "      quickchartButtonEl.classList.add('colab-df-quickchart-complete');\n",
              "    }\n",
              "    (() => {\n",
              "      let quickchartButtonEl =\n",
              "        document.querySelector('#df-95b08eb4-7c18-4ebe-9d54-ad5a2d88ee95 button');\n",
              "      quickchartButtonEl.style.display =\n",
              "        google.colab.kernel.accessAllowed ? 'block' : 'none';\n",
              "    })();\n",
              "  </script>\n",
              "</div>\n",
              "\n",
              "    </div>\n",
              "  </div>\n"
            ],
            "text/plain": [
              "   adult                              belongs_to_collection    budget  \\\n",
              "0  False  {'id': 10194, 'name': 'Toy Story Collection', ...  30000000   \n",
              "1  False                                                NaN  65000000   \n",
              "2  False  {'id': 119050, 'name': 'Grumpy Old Men Collect...         0   \n",
              "3  False                                                NaN  16000000   \n",
              "4  False  {'id': 96871, 'name': 'Father of the Bride Col...         0   \n",
              "\n",
              "                                              genres  \\\n",
              "0  [{'id': 16, 'name': 'Animation'}, {'id': 35, '...   \n",
              "1  [{'id': 12, 'name': 'Adventure'}, {'id': 14, '...   \n",
              "2  [{'id': 10749, 'name': 'Romance'}, {'id': 35, ...   \n",
              "3  [{'id': 35, 'name': 'Comedy'}, {'id': 18, 'nam...   \n",
              "4                     [{'id': 35, 'name': 'Comedy'}]   \n",
              "\n",
              "                               homepage     id    imdb_id original_language  \\\n",
              "0  http://toystory.disney.com/toy-story    862  tt0114709                en   \n",
              "1                                   NaN   8844  tt0113497                en   \n",
              "2                                   NaN  15602  tt0113228                en   \n",
              "3                                   NaN  31357  tt0114885                en   \n",
              "4                                   NaN  11862  tt0113041                en   \n",
              "\n",
              "                original_title  \\\n",
              "0                    Toy Story   \n",
              "1                      Jumanji   \n",
              "2             Grumpier Old Men   \n",
              "3            Waiting to Exhale   \n",
              "4  Father of the Bride Part II   \n",
              "\n",
              "                                            overview  ...  runtime  \\\n",
              "0  Led by Woody, Andy's toys live happily in his ...  ...     81.0   \n",
              "1  When siblings Judy and Peter discover an encha...  ...    104.0   \n",
              "2  A family wedding reignites the ancient feud be...  ...    101.0   \n",
              "3  Cheated on, mistreated and stepped on, the wom...  ...    127.0   \n",
              "4  Just when George Banks has recovered from his ...  ...    106.0   \n",
              "\n",
              "                                    spoken_languages    status  \\\n",
              "0           [{'iso_639_1': 'en', 'name': 'English'}]  Released   \n",
              "1  [{'iso_639_1': 'en', 'name': 'English'}, {'iso...  Released   \n",
              "2           [{'iso_639_1': 'en', 'name': 'English'}]  Released   \n",
              "3           [{'iso_639_1': 'en', 'name': 'English'}]  Released   \n",
              "4           [{'iso_639_1': 'en', 'name': 'English'}]  Released   \n",
              "\n",
              "                                             tagline  \\\n",
              "0                                                NaN   \n",
              "1          Roll the dice and unleash the excitement!   \n",
              "2  Still Yelling. Still Fighting. Still Ready for...   \n",
              "3  Friends are the people who let you be yourself...   \n",
              "4  Just When His World Is Back To Normal... He's ...   \n",
              "\n",
              "                         title  video  vote_average vote_count  \\\n",
              "0                    Toy Story  False           7.7     5415.0   \n",
              "1                      Jumanji  False           6.9     2413.0   \n",
              "2             Grumpier Old Men  False           6.5       92.0   \n",
              "3            Waiting to Exhale  False           6.1       34.0   \n",
              "4  Father of the Bride Part II  False           5.7      173.0   \n",
              "\n",
              "                                                cast  \\\n",
              "0  [{'cast_id': 14, 'character': 'Woody (voice)',...   \n",
              "1  [{'cast_id': 1, 'character': 'Alan Parrish', '...   \n",
              "2  [{'cast_id': 2, 'character': 'Max Goldman', 'c...   \n",
              "3  [{'cast_id': 1, 'character': \"Savannah 'Vannah...   \n",
              "4  [{'cast_id': 1, 'character': 'George Banks', '...   \n",
              "\n",
              "                                                crew  \n",
              "0  [{'credit_id': '52fe4284c3a36847f8024f49', 'de...  \n",
              "1  [{'credit_id': '52fe44bfc3a36847f80a7cd1', 'de...  \n",
              "2  [{'credit_id': '52fe466a9251416c75077a89', 'de...  \n",
              "3  [{'credit_id': '52fe44779251416c91011acb', 'de...  \n",
              "4  [{'credit_id': '52fe44959251416c75039ed7', 'de...  \n",
              "\n",
              "[5 rows x 26 columns]"
            ]
          },
          "execution_count": 16,
          "metadata": {},
          "output_type": "execute_result"
        }
      ],
      "source": [
        "# Load the cleaned dataset\n",
        "path = '/content/drive/MyDrive/'  # Update with your path\n",
        "movies_combined = pd.read_csv(path + 'movies_combined_cleaned.csv')\n",
        "\n",
        "# Preview the dataset\n",
        "movies_combined.head()"
      ]
    },
    {
      "cell_type": "markdown",
      "metadata": {
        "id": "vWU4sVD_gsZu"
      },
      "source": [
        "# Prepare Data for Content-Based Filtering"
      ]
    },
    {
      "cell_type": "markdown",
      "metadata": {
        "id": "n33WA7rThI0V"
      },
      "source": [
        "Combine Relevant Features"
      ]
    },
    {
      "cell_type": "code",
      "execution_count": null,
      "metadata": {
        "colab": {
          "base_uri": "https://localhost:8080/",
          "height": 206
        },
        "id": "kkM6OdMdgsq0",
        "outputId": "097c2b43-a081-40d4-8c64-395550b50f1e"
      },
      "outputs": [
        {
          "data": {
            "application/vnd.google.colaboratory.intrinsic+json": {
              "summary": "{\n  \"name\": \"movies_combined[['title', 'combined_features']]\",\n  \"rows\": 5,\n  \"fields\": [\n    {\n      \"column\": \"title\",\n      \"properties\": {\n        \"dtype\": \"string\",\n        \"num_unique_values\": 5,\n        \"samples\": [\n          \"Jumanji\",\n          \"Father of the Bride Part II\",\n          \"Grumpier Old Men\"\n        ],\n        \"semantic_type\": \"\",\n        \"description\": \"\"\n      }\n    },\n    {\n      \"column\": \"combined_features\",\n      \"properties\": {\n        \"dtype\": \"string\",\n        \"num_unique_values\": 5,\n        \"samples\": [\n          \"[{'id': 12, 'name': 'Adventure'}, {'id': 14, 'name': 'Fantasy'}, {'id': 10751, 'name': 'Family'}] [{'cast_id': 1, 'character': 'Alan Parrish', 'credit_id': '52fe44bfc3a36847f80a7c73', 'gender': 2, 'id': 2157, 'name': 'Robin Williams', 'order': 0, 'profile_path': '/sojtJyIV3lkUeThD7A2oHNm8183.jpg'}, {'cast_id': 8, 'character': 'Samuel Alan Parrish / Van Pelt', 'credit_id': '52fe44bfc3a36847f80a7c99', 'gender': 2, 'id': 8537, 'name': 'Jonathan Hyde', 'order': 1, 'profile_path': '/7il5D76vx6QVRVlpVvBPEC40MBi.jpg'}, {'cast_id': 2, 'character': 'Judy Sheperd', 'credit_id': '52fe44bfc3a36847f80a7c77', 'gender': 1, 'id': 205, 'name': 'Kirsten Dunst', 'order': 2, 'profile_path': '/wBXvh6PJd0IUVNpvatPC1kzuHtm.jpg'}, {'cast_id': 24, 'character': 'Peter Shepherd', 'credit_id': '52fe44c0c3a36847f80a7ce7', 'gender': 0, 'id': 145151, 'name': 'Bradley Pierce', 'order': 3, 'profile_path': '/j6iW0vVA23GQniAPSYI6mi4hiEW.jpg'}, {'cast_id': 10, 'character': 'Sarah Whittle', 'credit_id': '52fe44bfc3a36847f80a7c9d', 'gender': 1, 'id': 5149, 'name': 'Bonnie Hunt', 'order': 4, 'profile_path': '/7spiVQwmr8siw5QCcvvdRG3c7Lf.jpg'}, {'cast_id': 25, 'character': 'Nora Shepherd', 'credit_id': '52fe44c0c3a36847f80a7ceb', 'gender': 1, 'id': 10739, 'name': 'Bebe Neuwirth', 'order': 5, 'profile_path': '/xm58rpMRVDHS0IGttw1pTlqGwkN.jpg'}, {'cast_id': 26, 'character': 'Carl Bentley', 'credit_id': '52fe44c0c3a36847f80a7cef', 'gender': 2, 'id': 58563, 'name': 'David Alan Grier', 'order': 6, 'profile_path': '/5tkt3qRZTco4sz604aTIarQ0m8W.jpg'}, {'cast_id': 11, 'character': 'Carol Anne Parrish', 'credit_id': '52fe44bfc3a36847f80a7ca1', 'gender': 1, 'id': 1276, 'name': 'Patricia Clarkson', 'order': 7, 'profile_path': '/10ZSyaUqzUlKTd60HmeiGhlytZG.jpg'}, {'cast_id': 14, 'character': 'Alan Parrish (young)', 'credit_id': '52fe44bfc3a36847f80a7cad', 'gender': 0, 'id': 46530, 'name': 'Adam Hann-Byrd', 'order': 8, 'profile_path': '/hEoqDqtMO91hYWD5iDrDesnLDlt.jpg'}, {'cast_id': 13, 'character': 'Sarah Whittle (young)', 'credit_id': '52fe44bfc3a36847f80a7ca9', 'gender': 1, 'id': 56523, 'name': 'Laura Bell Bundy', 'order': 9, 'profile_path': '/8tAVDBRoZPjKfCbBDyh4iK9JNEp.jpg'}, {'cast_id': 31, 'character': 'Exterminator', 'credit_id': '52fe44c0c3a36847f80a7cff', 'gender': 2, 'id': 51551, 'name': 'James Handy', 'order': 10, 'profile_path': '/vm0WQmuP8jEGgFTd3VCcJe7zpUi.jpg'}, {'cast_id': 12, 'character': 'Mrs. Thomas the Realtor', 'credit_id': '52fe44bfc3a36847f80a7ca5', 'gender': 1, 'id': 56522, 'name': 'Gillian Barber', 'order': 11, 'profile_path': '/qoqPX15J5jh6Sy0A9JvvRJIuw64.jpg'}, {'cast_id': 28, 'character': 'Benjamin', 'credit_id': '52fe44c0c3a36847f80a7cf3', 'gender': 2, 'id': 1000304, 'name': 'Brandon Obray', 'order': 12, 'profile_path': None}, {'cast_id': 29, 'character': 'Caleb', 'credit_id': '52fe44c0c3a36847f80a7cf7', 'gender': 0, 'id': 188949, 'name': 'Cyrus Thiedeke', 'order': 13, 'profile_path': None}, {'cast_id': 30, 'character': 'Billy Jessup', 'credit_id': '52fe44c0c3a36847f80a7cfb', 'gender': 0, 'id': 1076551, 'name': 'Gary Joseph Thorup', 'order': 14, 'profile_path': None}, {'cast_id': 32, 'character': 'Cop', 'credit_id': '5588053fc3a36838530063f5', 'gender': 0, 'id': 1480246, 'name': 'Leonard Zola', 'order': 15, 'profile_path': None}, {'cast_id': 33, 'character': 'Bum', 'credit_id': '55935687925141645a002097', 'gender': 2, 'id': 25024, 'name': 'Lloyd Berry', 'order': 16, 'profile_path': '/s7SVCOtvcuQ9wRQPZfUdahb5x88.jpg'}, {'cast_id': 34, 'character': 'Jim Shepherd', 'credit_id': '559356d09251415df8002cb7', 'gender': 2, 'id': 27110, 'name': 'Malcolm Stewart', 'order': 17, 'profile_path': '/l2vgzkLR7GRr8ugjZCILA0OiliI.jpg'}, {'cast_id': 35, 'character': 'Martha Shepherd', 'credit_id': '55935730925141645a0020ad', 'gender': 0, 'id': 53715, 'name': 'Annabel Kershaw', 'order': 18, 'profile_path': '/1VqbvAohBwFhETZtDe76JXQcxKm.jpg'}, {'cast_id': 36, 'character': 'Gun Salesman', 'credit_id': '5593576992514167fd000610', 'gender': 2, 'id': 1379424, 'name': 'Darryl Henriques', 'order': 19, 'profile_path': '/7QMHooY9ewNQlE24WKAOdwW0evU.jpg'}, {'cast_id': 37, 'character': 'Paramedic', 'credit_id': '559357ae92514152de002f42', 'gender': 0, 'id': 1235504, 'name': 'Robyn Driscoll', 'order': 20, 'profile_path': None}, {'cast_id': 50, 'character': 'Paramedic', 'credit_id': '5657803b925141018f00a5dc', 'gender': 2, 'id': 25389, 'name': 'Peter Bryant', 'order': 21, 'profile_path': '/fkcx9Tnp25UC5HlI2eW3nGvumsZ.jpg'}, {'cast_id': 39, 'character': 'Girl', 'credit_id': '559358e292514152de002f63', 'gender': 0, 'id': 1483449, 'name': 'Sarah Gilson', 'order': 22, 'profile_path': None}, {'cast_id': 40, 'character': 'Girl', 'credit_id': '5593590d92514152db002df3', 'gender': 0, 'id': 1483450, 'name': 'Florica Vlad', 'order': 23, 'profile_path': None}, {'cast_id': 41, 'character': 'Baker', 'credit_id': '55935946c3a36869d1001b4d', 'gender': 0, 'id': 1483451, 'name': 'June Lion', 'order': 24, 'profile_path': None}, {'cast_id': 42, 'character': 'Pianist', 'credit_id': '5593597692514167fd000644', 'gender': 0, 'id': 1483452, 'name': 'Brenda Lockmuller', 'order': 25, 'profile_path': None}] [{'credit_id': '52fe44bfc3a36847f80a7cd1', 'department': 'Production', 'gender': 2, 'id': 511, 'job': 'Executive Producer', 'name': 'Larry J. Franco', 'profile_path': None}, {'credit_id': '52fe44bfc3a36847f80a7c89', 'department': 'Writing', 'gender': 2, 'id': 876, 'job': 'Screenplay', 'name': 'Jonathan Hensleigh', 'profile_path': '/l1c4UFD3g0HVWj5f0CxXAvMAGiT.jpg'}, {'credit_id': '52fe44bfc3a36847f80a7cdd', 'department': 'Sound', 'gender': 2, 'id': 1729, 'job': 'Original Music Composer', 'name': 'James Horner', 'profile_path': '/oLOtXxXsYk8X4qq0ud4xVypXudi.jpg'}, {'credit_id': '52fe44bfc3a36847f80a7c7d', 'department': 'Directing', 'gender': 2, 'id': 4945, 'job': 'Director', 'name': 'Joe Johnston', 'profile_path': '/fok4jaO62v5IP6hkpaaAcXuw2H.jpg'}, {'credit_id': '52fe44bfc3a36847f80a7cd7', 'department': 'Editing', 'gender': 2, 'id': 4951, 'job': 'Editor', 'name': 'Robert Dalva', 'profile_path': None}, {'credit_id': '573523bec3a368025100062c', 'department': 'Production', 'gender': 0, 'id': 4952, 'job': 'Casting', 'name': 'Nancy Foy', 'profile_path': '/blCkmS4dqNsbPGuQfozHE6wgWBw.jpg'}, {'credit_id': '5722a924c3a3682d1e000b41', 'department': 'Visual Effects', 'gender': 0, 'id': 8023, 'job': 'Animation Supervisor', 'name': 'Kyle Balda', 'profile_path': '/jR8iAP6uC0V42KbUG87qBIUO3Hj.jpg'}, {'credit_id': '52fe44c0c3a36847f80a7ce3', 'department': 'Art', 'gender': 2, 'id': 9967, 'job': 'Production Design', 'name': 'James D. Bissell', 'profile_path': None}, {'credit_id': '52fe44bfc3a36847f80a7cb9', 'department': 'Production', 'gender': 2, 'id': 9184, 'job': 'Producer', 'name': 'Scott Kroopf', 'profile_path': None}, {'credit_id': '52fe44bfc3a36847f80a7ccb', 'department': 'Production', 'gender': 2, 'id': 9196, 'job': 'Executive Producer', 'name': 'Ted Field', 'profile_path': '/qmB7sZcgRUq7mRFBSTlSsVXh7sH.jpg'}, {'credit_id': '52fe44bfc3a36847f80a7cc5', 'department': 'Production', 'gender': 2, 'id': 18389, 'job': 'Executive Producer', 'name': 'Robert W. Cort', 'profile_path': None}, {'credit_id': '52fe44bfc3a36847f80a7cbf', 'department': 'Camera', 'gender': 2, 'id': 11371, 'job': 'Director of Photography', 'name': 'Thomas E. Ackerman', 'profile_path': '/xFDbxk53icM1ofL4iCIwB4GkUxN.jpg'}, {'credit_id': '52fe44bfc3a36847f80a7c83', 'department': 'Writing', 'gender': 2, 'id': 42356, 'job': 'Novel', 'name': 'Chris van Allsburg', 'profile_path': None}, {'credit_id': '52fe44bfc3a36847f80a7cb3', 'department': 'Production', 'gender': 2, 'id': 42357, 'job': 'Producer', 'name': 'William Teitler', 'profile_path': None}, {'credit_id': '52fe44bfc3a36847f80a7c8f', 'department': 'Writing', 'gender': 2, 'id': 56520, 'job': 'Screenplay', 'name': 'Greg Taylor', 'profile_path': None}, {'credit_id': '52fe44bfc3a36847f80a7c95', 'department': 'Writing', 'gender': 2, 'id': 56521, 'job': 'Screenplay', 'name': 'Jim Strain', 'profile_path': None}] When siblings Judy and Peter discover an enchanted board game that opens the door to a magical world, they unwittingly invite Alan -- an adult who's been trapped inside the game for 26 years -- into their living room. Alan's only hope for freedom is to finish the game, which proves risky as all three find themselves running from giant rhinoceroses, evil monkeys and other terrifying creatures.\",\n          \"[{'id': 35, 'name': 'Comedy'}] [{'cast_id': 1, 'character': 'George Banks', 'credit_id': '52fe44959251416c75039eb9', 'gender': 2, 'id': 67773, 'name': 'Steve Martin', 'order': 0, 'profile_path': '/rI2EMvkfKKPKa5z0nM2pFVBtUyO.jpg'}, {'cast_id': 2, 'character': 'Nina Banks', 'credit_id': '52fe44959251416c75039ebd', 'gender': 1, 'id': 3092, 'name': 'Diane Keaton', 'order': 1, 'profile_path': '/fzgUMnbOkxC6E3EFcYHWHFaiKyp.jpg'}, {'cast_id': 3, 'character': 'Franck Eggelhoffer', 'credit_id': '52fe44959251416c75039ec1', 'gender': 2, 'id': 519, 'name': 'Martin Short', 'order': 2, 'profile_path': '/oZQorXBjTxrdkTJFpoDwOcQ91ji.jpg'}, {'cast_id': 4, 'character': 'Annie Banks-MacKenzie', 'credit_id': '52fe44959251416c75039ec5', 'gender': 1, 'id': 70696, 'name': 'Kimberly Williams-Paisley', 'order': 3, 'profile_path': '/nVp4F4VFqVvjh6huOULUQoiAguY.jpg'}, {'cast_id': 13, 'character': 'Bryan MacKenzie', 'credit_id': '52fe44959251416c75039ef3', 'gender': 2, 'id': 59222, 'name': 'George Newbern', 'order': 4, 'profile_path': '/48Ouqe1g8QrZ6qjvap5NvhfKuly.jpg'}, {'cast_id': 14, 'character': 'Matty Banks', 'credit_id': '52fe44959251416c75039ef7', 'gender': 0, 'id': 18793, 'name': 'Kieran Culkin', 'order': 5, 'profile_path': '/swcqQCMREeGCk6FAxIfczGpFBys.jpg'}, {'cast_id': 15, 'character': 'Howard Weinstein', 'credit_id': '52fe44959251416c75039efb', 'gender': 2, 'id': 14592, 'name': 'BD Wong', 'order': 6, 'profile_path': '/o8JUV37KWNorHOabp3zyD756oE3.jpg'}, {'cast_id': 16, 'character': 'John MacKenzie', 'credit_id': '52fe44959251416c75039eff', 'gender': 2, 'id': 20906, 'name': 'Peter Michael Goetz', 'order': 7, 'profile_path': '/a2hLcCidETgwlVyQnYy4kXVKUcn.jpg'}, {'cast_id': 17, 'character': 'Joanna MacKenzie', 'credit_id': '52fe44959251416c75039f03', 'gender': 1, 'id': 54348, 'name': 'Kate McGregor-Stewart', 'order': 8, 'profile_path': '/vsvdAmMZgX85AvnVFd4jigOUipZ.jpg'}, {'cast_id': 18, 'character': 'Dr. Megan Eisenberg', 'credit_id': '52fe44959251416c75039f07', 'gender': 1, 'id': 209, 'name': 'Jane Adams', 'order': 9, 'profile_path': '/HbQfL01xmV1psnh0WvldIBzDg3.jpg'}, {'cast_id': 19, 'character': 'Mr. Habib', 'credit_id': '52fe44959251416c75039f0b', 'gender': 2, 'id': 26510, 'name': 'Eugene Levy', 'order': 10, 'profile_path': '/69IBiDjU1gSqtrcGOA7PA7aEYsc.jpg'}, {'cast_id': 20, 'character': 'Wife Mrs. Habib', 'credit_id': '57ffa654c3a3681552000277', 'gender': 1, 'id': 24358, 'name': 'Lori Alan', 'order': 11, 'profile_path': '/mNfJWzuaKgkIaK7CuirXOMosd2h.jpg'}] [{'credit_id': '52fe44959251416c75039ed7', 'department': 'Sound', 'gender': 2, 'id': 37, 'job': 'Original Music Composer', 'name': 'Alan Silvestri', 'profile_path': '/chEsfnDEtRmv1bfOaNAoVEzhCc6.jpg'}, {'credit_id': '52fe44959251416c75039ee9', 'department': 'Camera', 'gender': 2, 'id': 5506, 'job': 'Director of Photography', 'name': 'Elliot Davis', 'profile_path': None}, {'credit_id': '52fe44959251416c75039ecb', 'department': 'Writing', 'gender': 1, 'id': 17698, 'job': 'Screenplay', 'name': 'Nancy Meyers', 'profile_path': '/nMPHU06dnvVxEjjcnPCPUQgQ2Mp.jpg'}, {'credit_id': '52fe44959251416c75039edd', 'department': 'Production', 'gender': 1, 'id': 17698, 'job': 'Producer', 'name': 'Nancy Meyers', 'profile_path': '/nMPHU06dnvVxEjjcnPCPUQgQ2Mp.jpg'}, {'credit_id': '52fe44959251416c75039ed1', 'department': 'Writing', 'gender': 2, 'id': 26160, 'job': 'Screenplay', 'name': 'Albert Hackett', 'profile_path': None}, {'credit_id': '52fe44959251416c75039eef', 'department': 'Directing', 'gender': 2, 'id': 56106, 'job': 'Director', 'name': 'Charles Shyer', 'profile_path': '/hnWGd74CbmTcDCFQiJ8SYLazIXW.jpg'}, {'credit_id': '52fe44959251416c75039ee3', 'department': 'Editing', 'gender': 2, 'id': 68755, 'job': 'Editor', 'name': 'Adam Bernardi', 'profile_path': None}] Just when George Banks has recovered from his daughter's wedding, he receives the news that she's pregnant ... and that George's wife, Nina, is expecting too. He was planning on selling their home, but that's a plan that -- like George -- will have to change with the arrival of both a grandchild and a kid of his own.\",\n          \"[{'id': 10749, 'name': 'Romance'}, {'id': 35, 'name': 'Comedy'}] [{'cast_id': 2, 'character': 'Max Goldman', 'credit_id': '52fe466a9251416c75077a8d', 'gender': 2, 'id': 6837, 'name': 'Walter Matthau', 'order': 0, 'profile_path': '/xJVkvprOnzP5Zdh5y63y8HHniDZ.jpg'}, {'cast_id': 3, 'character': 'John Gustafson', 'credit_id': '52fe466a9251416c75077a91', 'gender': 2, 'id': 3151, 'name': 'Jack Lemmon', 'order': 1, 'profile_path': '/chZmNRYMtqkiDlatprGDH4BzGqG.jpg'}, {'cast_id': 4, 'character': 'Ariel Gustafson', 'credit_id': '52fe466a9251416c75077a95', 'gender': 1, 'id': 13567, 'name': 'Ann-Margret', 'order': 2, 'profile_path': '/jx5lTaJ5VXZHYB52gaOTAZ9STZk.jpg'}, {'cast_id': 5, 'character': 'Maria Sophia Coletta Ragetti', 'credit_id': '52fe466a9251416c75077a99', 'gender': 1, 'id': 16757, 'name': 'Sophia Loren', 'order': 3, 'profile_path': '/emKLhbji1c7BjcA2DdbWf0EP9zH.jpg'}, {'cast_id': 6, 'character': 'Melanie Gustafson', 'credit_id': '52fe466a9251416c75077a9d', 'gender': 1, 'id': 589, 'name': 'Daryl Hannah', 'order': 4, 'profile_path': '/4LLmp6AQdlj6ueGCRbVRSGvvFSt.jpg'}, {'cast_id': 9, 'character': 'Grandpa Gustafson', 'credit_id': '53e5fcc2c3a3684430000d65', 'gender': 2, 'id': 16523, 'name': 'Burgess Meredith', 'order': 5, 'profile_path': '/lm98oKloU33Q7QDIIMSyc4Pr2jA.jpg'}, {'cast_id': 10, 'character': 'Jacob Goldman', 'credit_id': '53e5fcd4c3a3684433000e1a', 'gender': 2, 'id': 7166, 'name': 'Kevin Pollak', 'order': 6, 'profile_path': '/kwu2T8CDnThZTzE88uiSgJ5eHXf.jpg'}] [{'credit_id': '52fe466a9251416c75077a89', 'department': 'Directing', 'gender': 2, 'id': 26502, 'job': 'Director', 'name': 'Howard Deutch', 'profile_path': '/68Vae1HkU1NxQZ6KEmuxIpno7c9.jpg'}, {'credit_id': '52fe466b9251416c75077aa3', 'department': 'Writing', 'gender': 2, 'id': 16837, 'job': 'Characters', 'name': 'Mark Steven Johnson', 'profile_path': '/6trChNn3o2bi4i2ipgMEAytwmZp.jpg'}, {'credit_id': '52fe466b9251416c75077aa9', 'department': 'Writing', 'gender': 2, 'id': 16837, 'job': 'Writer', 'name': 'Mark Steven Johnson', 'profile_path': '/6trChNn3o2bi4i2ipgMEAytwmZp.jpg'}, {'credit_id': '5675eb4b92514179dd003933', 'department': 'Crew', 'gender': 2, 'id': 1551320, 'job': 'Sound Recordist', 'name': 'Jack Keller', 'profile_path': None}] A family wedding reignites the ancient feud between next-door neighbors and fishing buddies John and Max. Meanwhile, a sultry Italian divorc\\u00e9e opens a restaurant at the local bait shop, alarming the locals who worry she'll scare the fish away. But she's less interested in seafood than she is in cooking up a hot time with Max.\"\n        ],\n        \"semantic_type\": \"\",\n        \"description\": \"\"\n      }\n    }\n  ]\n}",
              "type": "dataframe"
            },
            "text/html": [
              "\n",
              "  <div id=\"df-eec767a3-24da-46bb-bac0-a05e894712ad\" class=\"colab-df-container\">\n",
              "    <div>\n",
              "<style scoped>\n",
              "    .dataframe tbody tr th:only-of-type {\n",
              "        vertical-align: middle;\n",
              "    }\n",
              "\n",
              "    .dataframe tbody tr th {\n",
              "        vertical-align: top;\n",
              "    }\n",
              "\n",
              "    .dataframe thead th {\n",
              "        text-align: right;\n",
              "    }\n",
              "</style>\n",
              "<table border=\"1\" class=\"dataframe\">\n",
              "  <thead>\n",
              "    <tr style=\"text-align: right;\">\n",
              "      <th></th>\n",
              "      <th>title</th>\n",
              "      <th>combined_features</th>\n",
              "    </tr>\n",
              "  </thead>\n",
              "  <tbody>\n",
              "    <tr>\n",
              "      <th>0</th>\n",
              "      <td>Toy Story</td>\n",
              "      <td>[{'id': 16, 'name': 'Animation'}, {'id': 35, '...</td>\n",
              "    </tr>\n",
              "    <tr>\n",
              "      <th>1</th>\n",
              "      <td>Jumanji</td>\n",
              "      <td>[{'id': 12, 'name': 'Adventure'}, {'id': 14, '...</td>\n",
              "    </tr>\n",
              "    <tr>\n",
              "      <th>2</th>\n",
              "      <td>Grumpier Old Men</td>\n",
              "      <td>[{'id': 10749, 'name': 'Romance'}, {'id': 35, ...</td>\n",
              "    </tr>\n",
              "    <tr>\n",
              "      <th>3</th>\n",
              "      <td>Waiting to Exhale</td>\n",
              "      <td>[{'id': 35, 'name': 'Comedy'}, {'id': 18, 'nam...</td>\n",
              "    </tr>\n",
              "    <tr>\n",
              "      <th>4</th>\n",
              "      <td>Father of the Bride Part II</td>\n",
              "      <td>[{'id': 35, 'name': 'Comedy'}] [{'cast_id': 1,...</td>\n",
              "    </tr>\n",
              "  </tbody>\n",
              "</table>\n",
              "</div>\n",
              "    <div class=\"colab-df-buttons\">\n",
              "\n",
              "  <div class=\"colab-df-container\">\n",
              "    <button class=\"colab-df-convert\" onclick=\"convertToInteractive('df-eec767a3-24da-46bb-bac0-a05e894712ad')\"\n",
              "            title=\"Convert this dataframe to an interactive table.\"\n",
              "            style=\"display:none;\">\n",
              "\n",
              "  <svg xmlns=\"http://www.w3.org/2000/svg\" height=\"24px\" viewBox=\"0 -960 960 960\">\n",
              "    <path d=\"M120-120v-720h720v720H120Zm60-500h600v-160H180v160Zm220 220h160v-160H400v160Zm0 220h160v-160H400v160ZM180-400h160v-160H180v160Zm440 0h160v-160H620v160ZM180-180h160v-160H180v160Zm440 0h160v-160H620v160Z\"/>\n",
              "  </svg>\n",
              "    </button>\n",
              "\n",
              "  <style>\n",
              "    .colab-df-container {\n",
              "      display:flex;\n",
              "      gap: 12px;\n",
              "    }\n",
              "\n",
              "    .colab-df-convert {\n",
              "      background-color: #E8F0FE;\n",
              "      border: none;\n",
              "      border-radius: 50%;\n",
              "      cursor: pointer;\n",
              "      display: none;\n",
              "      fill: #1967D2;\n",
              "      height: 32px;\n",
              "      padding: 0 0 0 0;\n",
              "      width: 32px;\n",
              "    }\n",
              "\n",
              "    .colab-df-convert:hover {\n",
              "      background-color: #E2EBFA;\n",
              "      box-shadow: 0px 1px 2px rgba(60, 64, 67, 0.3), 0px 1px 3px 1px rgba(60, 64, 67, 0.15);\n",
              "      fill: #174EA6;\n",
              "    }\n",
              "\n",
              "    .colab-df-buttons div {\n",
              "      margin-bottom: 4px;\n",
              "    }\n",
              "\n",
              "    [theme=dark] .colab-df-convert {\n",
              "      background-color: #3B4455;\n",
              "      fill: #D2E3FC;\n",
              "    }\n",
              "\n",
              "    [theme=dark] .colab-df-convert:hover {\n",
              "      background-color: #434B5C;\n",
              "      box-shadow: 0px 1px 3px 1px rgba(0, 0, 0, 0.15);\n",
              "      filter: drop-shadow(0px 1px 2px rgba(0, 0, 0, 0.3));\n",
              "      fill: #FFFFFF;\n",
              "    }\n",
              "  </style>\n",
              "\n",
              "    <script>\n",
              "      const buttonEl =\n",
              "        document.querySelector('#df-eec767a3-24da-46bb-bac0-a05e894712ad button.colab-df-convert');\n",
              "      buttonEl.style.display =\n",
              "        google.colab.kernel.accessAllowed ? 'block' : 'none';\n",
              "\n",
              "      async function convertToInteractive(key) {\n",
              "        const element = document.querySelector('#df-eec767a3-24da-46bb-bac0-a05e894712ad');\n",
              "        const dataTable =\n",
              "          await google.colab.kernel.invokeFunction('convertToInteractive',\n",
              "                                                    [key], {});\n",
              "        if (!dataTable) return;\n",
              "\n",
              "        const docLinkHtml = 'Like what you see? Visit the ' +\n",
              "          '<a target=\"_blank\" href=https://colab.research.google.com/notebooks/data_table.ipynb>data table notebook</a>'\n",
              "          + ' to learn more about interactive tables.';\n",
              "        element.innerHTML = '';\n",
              "        dataTable['output_type'] = 'display_data';\n",
              "        await google.colab.output.renderOutput(dataTable, element);\n",
              "        const docLink = document.createElement('div');\n",
              "        docLink.innerHTML = docLinkHtml;\n",
              "        element.appendChild(docLink);\n",
              "      }\n",
              "    </script>\n",
              "  </div>\n",
              "\n",
              "\n",
              "<div id=\"df-668b5d16-0214-454e-9957-d00fbbe05a14\">\n",
              "  <button class=\"colab-df-quickchart\" onclick=\"quickchart('df-668b5d16-0214-454e-9957-d00fbbe05a14')\"\n",
              "            title=\"Suggest charts\"\n",
              "            style=\"display:none;\">\n",
              "\n",
              "<svg xmlns=\"http://www.w3.org/2000/svg\" height=\"24px\"viewBox=\"0 0 24 24\"\n",
              "     width=\"24px\">\n",
              "    <g>\n",
              "        <path d=\"M19 3H5c-1.1 0-2 .9-2 2v14c0 1.1.9 2 2 2h14c1.1 0 2-.9 2-2V5c0-1.1-.9-2-2-2zM9 17H7v-7h2v7zm4 0h-2V7h2v10zm4 0h-2v-4h2v4z\"/>\n",
              "    </g>\n",
              "</svg>\n",
              "  </button>\n",
              "\n",
              "<style>\n",
              "  .colab-df-quickchart {\n",
              "      --bg-color: #E8F0FE;\n",
              "      --fill-color: #1967D2;\n",
              "      --hover-bg-color: #E2EBFA;\n",
              "      --hover-fill-color: #174EA6;\n",
              "      --disabled-fill-color: #AAA;\n",
              "      --disabled-bg-color: #DDD;\n",
              "  }\n",
              "\n",
              "  [theme=dark] .colab-df-quickchart {\n",
              "      --bg-color: #3B4455;\n",
              "      --fill-color: #D2E3FC;\n",
              "      --hover-bg-color: #434B5C;\n",
              "      --hover-fill-color: #FFFFFF;\n",
              "      --disabled-bg-color: #3B4455;\n",
              "      --disabled-fill-color: #666;\n",
              "  }\n",
              "\n",
              "  .colab-df-quickchart {\n",
              "    background-color: var(--bg-color);\n",
              "    border: none;\n",
              "    border-radius: 50%;\n",
              "    cursor: pointer;\n",
              "    display: none;\n",
              "    fill: var(--fill-color);\n",
              "    height: 32px;\n",
              "    padding: 0;\n",
              "    width: 32px;\n",
              "  }\n",
              "\n",
              "  .colab-df-quickchart:hover {\n",
              "    background-color: var(--hover-bg-color);\n",
              "    box-shadow: 0 1px 2px rgba(60, 64, 67, 0.3), 0 1px 3px 1px rgba(60, 64, 67, 0.15);\n",
              "    fill: var(--button-hover-fill-color);\n",
              "  }\n",
              "\n",
              "  .colab-df-quickchart-complete:disabled,\n",
              "  .colab-df-quickchart-complete:disabled:hover {\n",
              "    background-color: var(--disabled-bg-color);\n",
              "    fill: var(--disabled-fill-color);\n",
              "    box-shadow: none;\n",
              "  }\n",
              "\n",
              "  .colab-df-spinner {\n",
              "    border: 2px solid var(--fill-color);\n",
              "    border-color: transparent;\n",
              "    border-bottom-color: var(--fill-color);\n",
              "    animation:\n",
              "      spin 1s steps(1) infinite;\n",
              "  }\n",
              "\n",
              "  @keyframes spin {\n",
              "    0% {\n",
              "      border-color: transparent;\n",
              "      border-bottom-color: var(--fill-color);\n",
              "      border-left-color: var(--fill-color);\n",
              "    }\n",
              "    20% {\n",
              "      border-color: transparent;\n",
              "      border-left-color: var(--fill-color);\n",
              "      border-top-color: var(--fill-color);\n",
              "    }\n",
              "    30% {\n",
              "      border-color: transparent;\n",
              "      border-left-color: var(--fill-color);\n",
              "      border-top-color: var(--fill-color);\n",
              "      border-right-color: var(--fill-color);\n",
              "    }\n",
              "    40% {\n",
              "      border-color: transparent;\n",
              "      border-right-color: var(--fill-color);\n",
              "      border-top-color: var(--fill-color);\n",
              "    }\n",
              "    60% {\n",
              "      border-color: transparent;\n",
              "      border-right-color: var(--fill-color);\n",
              "    }\n",
              "    80% {\n",
              "      border-color: transparent;\n",
              "      border-right-color: var(--fill-color);\n",
              "      border-bottom-color: var(--fill-color);\n",
              "    }\n",
              "    90% {\n",
              "      border-color: transparent;\n",
              "      border-bottom-color: var(--fill-color);\n",
              "    }\n",
              "  }\n",
              "</style>\n",
              "\n",
              "  <script>\n",
              "    async function quickchart(key) {\n",
              "      const quickchartButtonEl =\n",
              "        document.querySelector('#' + key + ' button');\n",
              "      quickchartButtonEl.disabled = true;  // To prevent multiple clicks.\n",
              "      quickchartButtonEl.classList.add('colab-df-spinner');\n",
              "      try {\n",
              "        const charts = await google.colab.kernel.invokeFunction(\n",
              "            'suggestCharts', [key], {});\n",
              "      } catch (error) {\n",
              "        console.error('Error during call to suggestCharts:', error);\n",
              "      }\n",
              "      quickchartButtonEl.classList.remove('colab-df-spinner');\n",
              "      quickchartButtonEl.classList.add('colab-df-quickchart-complete');\n",
              "    }\n",
              "    (() => {\n",
              "      let quickchartButtonEl =\n",
              "        document.querySelector('#df-668b5d16-0214-454e-9957-d00fbbe05a14 button');\n",
              "      quickchartButtonEl.style.display =\n",
              "        google.colab.kernel.accessAllowed ? 'block' : 'none';\n",
              "    })();\n",
              "  </script>\n",
              "</div>\n",
              "\n",
              "    </div>\n",
              "  </div>\n"
            ],
            "text/plain": [
              "                         title  \\\n",
              "0                    Toy Story   \n",
              "1                      Jumanji   \n",
              "2             Grumpier Old Men   \n",
              "3            Waiting to Exhale   \n",
              "4  Father of the Bride Part II   \n",
              "\n",
              "                                   combined_features  \n",
              "0  [{'id': 16, 'name': 'Animation'}, {'id': 35, '...  \n",
              "1  [{'id': 12, 'name': 'Adventure'}, {'id': 14, '...  \n",
              "2  [{'id': 10749, 'name': 'Romance'}, {'id': 35, ...  \n",
              "3  [{'id': 35, 'name': 'Comedy'}, {'id': 18, 'nam...  \n",
              "4  [{'id': 35, 'name': 'Comedy'}] [{'cast_id': 1,...  "
            ]
          },
          "execution_count": 17,
          "metadata": {},
          "output_type": "execute_result"
        }
      ],
      "source": [
        "# Fill missing values in relevant columns\n",
        "movies_combined['genres'] = movies_combined['genres'].fillna('')\n",
        "movies_combined['cast'] = movies_combined['cast'].fillna('')\n",
        "movies_combined['crew'] = movies_combined['crew'].fillna('')\n",
        "movies_combined['overview'] = movies_combined['overview'].fillna('')\n",
        "\n",
        "# Combine relevant features into a single string for each movie\n",
        "def combine_features(row):\n",
        "    return row['genres'] + ' ' + row['cast'] + ' ' + row['crew'] + ' ' + row['overview']\n",
        "\n",
        "movies_combined['combined_features'] = movies_combined.apply(combine_features, axis=1)\n",
        "\n",
        "# Preview the combined features\n",
        "movies_combined[['title', 'combined_features']].head()"
      ]
    },
    {
      "cell_type": "markdown",
      "metadata": {
        "id": "z0SahF9oi2VR"
      },
      "source": [
        " Convert Text Data into Feature Vectors"
      ]
    },
    {
      "cell_type": "code",
      "execution_count": null,
      "metadata": {
        "colab": {
          "base_uri": "https://localhost:8080/"
        },
        "id": "w2iuRRuriO2_",
        "outputId": "0d6e93a5-a0e5-424e-8309-efc267a7a1a7"
      },
      "outputs": [
        {
          "name": "stdout",
          "output_type": "stream",
          "text": [
            "TF-IDF Matrix Shape: (45460, 1731254)\n"
          ]
        }
      ],
      "source": [
        "# Create a TF-IDF vectorizer\n",
        "tfidf = TfidfVectorizer(stop_words='english')\n",
        "\n",
        "# Transform the combined features into a matrix\n",
        "tfidf_matrix = tfidf.fit_transform(movies_combined['combined_features'])\n",
        "\n",
        "# Check the shape of the matrix\n",
        "print(\"TF-IDF Matrix Shape:\", tfidf_matrix.shape)"
      ]
    },
    {
      "cell_type": "markdown",
      "metadata": {
        "id": "Q0BUEbzqJ2JX"
      },
      "source": [
        "Increasing colab memory"
      ]
    },
    {
      "cell_type": "code",
      "execution_count": null,
      "metadata": {
        "colab": {
          "base_uri": "https://localhost:8080/"
        },
        "id": "5cZm5enQJ20m",
        "outputId": "59686417-2183-4925-f8eb-14f004f6dff1"
      },
      "outputs": [
        {
          "name": "stdout",
          "output_type": "stream",
          "text": [
            "MemTotal:       13290460 kB\n",
            "MemFree:         5512428 kB\n",
            "MemAvailable:   10331836 kB\n",
            "Buffers:          138444 kB\n",
            "Cached:          4805692 kB\n",
            "SwapCached:            0 kB\n",
            "Active:          1122660 kB\n",
            "Inactive:        6286016 kB\n",
            "Active(anon):       1380 kB\n",
            "Inactive(anon):  2464876 kB\n",
            "Active(file):    1121280 kB\n",
            "Inactive(file):  3821140 kB\n",
            "Unevictable:          20 kB\n",
            "Mlocked:              20 kB\n",
            "SwapTotal:             0 kB\n",
            "SwapFree:              0 kB\n",
            "Dirty:               740 kB\n",
            "Writeback:             0 kB\n",
            "AnonPages:       2464444 kB\n",
            "Mapped:           444104 kB\n",
            "Shmem:              1704 kB\n",
            "KReclaimable:     202392 kB\n",
            "Slab:             249996 kB\n",
            "SReclaimable:     202392 kB\n",
            "SUnreclaim:        47604 kB\n",
            "KernelStack:        7528 kB\n",
            "PageTables:        23460 kB\n",
            "SecPageTables:         0 kB\n",
            "NFS_Unstable:          0 kB\n",
            "Bounce:                0 kB\n",
            "WritebackTmp:          0 kB\n",
            "CommitLimit:     6645228 kB\n",
            "Committed_AS:    5275328 kB\n",
            "VmallocTotal:   34359738367 kB\n",
            "VmallocUsed:       13896 kB\n",
            "VmallocChunk:          0 kB\n",
            "Percpu:             1120 kB\n",
            "HardwareCorrupted:     0 kB\n",
            "AnonHugePages:    126976 kB\n",
            "ShmemHugePages:        0 kB\n",
            "ShmemPmdMapped:        0 kB\n",
            "FileHugePages:         0 kB\n",
            "FilePmdMapped:         0 kB\n",
            "CmaTotal:              0 kB\n",
            "CmaFree:               0 kB\n",
            "Unaccepted:            0 kB\n",
            "HugePages_Total:       0\n",
            "HugePages_Free:        0\n",
            "HugePages_Rsvd:        0\n",
            "HugePages_Surp:        0\n",
            "Hugepagesize:       2048 kB\n",
            "Hugetlb:               0 kB\n",
            "DirectMap4k:       64312 kB\n",
            "DirectMap2M:     6223872 kB\n",
            "DirectMap1G:     9437184 kB\n"
          ]
        }
      ],
      "source": [
        "!cat /proc/meminfo"
      ]
    },
    {
      "cell_type": "markdown",
      "metadata": {
        "id": "VegxF8FLjEmf"
      },
      "source": [
        "Reduce TF-IDF and Cosine Similarity Matrix Shape"
      ]
    },
    {
      "cell_type": "code",
      "execution_count": null,
      "metadata": {
        "colab": {
          "base_uri": "https://localhost:8080/"
        },
        "id": "GAS7cWIojE35",
        "outputId": "d9cfa87f-39a8-4f8a-aaa5-7fe7323015ef"
      },
      "outputs": [
        {
          "name": "stdout",
          "output_type": "stream",
          "text": [
            "Reduced TF-IDF Matrix Shape: (4546, 277715)\n",
            "Reduced Cosine Similarity Matrix Shape: (4546, 4546)\n"
          ]
        }
      ],
      "source": [
        "# Reduce dataset size\n",
        "movies_combined_small = movies_combined.sample(frac=0.1, random_state=42)\n",
        "\n",
        "# Compute TF-IDF on the reduced dataset\n",
        "tfidf_small = TfidfVectorizer(stop_words='english')\n",
        "tfidf_matrix_small = tfidf_small.fit_transform(movies_combined_small['combined_features'])\n",
        "\n",
        "# Compute cosine similarity on reduced data\n",
        "cosine_sim_small = cosine_similarity(tfidf_matrix_small, tfidf_matrix_small)\n",
        "\n",
        "print(\"Reduced TF-IDF Matrix Shape:\", tfidf_matrix_small.shape)\n",
        "print(\"Reduced Cosine Similarity Matrix Shape:\", cosine_sim_small.shape)"
      ]
    },
    {
      "cell_type": "markdown",
      "metadata": {
        "id": "r2OJoiiWLWHt"
      },
      "source": [
        "Compute Cosine Similarity"
      ]
    },
    {
      "cell_type": "code",
      "execution_count": null,
      "metadata": {
        "colab": {
          "base_uri": "https://localhost:8080/"
        },
        "id": "tsEkU6clLWXt",
        "outputId": "c2d9b6cb-f9f7-4a55-aa7b-a8ee817bad00"
      },
      "outputs": [
        {
          "name": "stdout",
          "output_type": "stream",
          "text": [
            "Reduced TF-IDF Matrix Shape: (4546, 277715)\n",
            "Reduced Cosine Similarity Matrix Shape: (4546, 4546)\n",
            "Cosine Similarity Matrix (sample):\n",
            "[[1.         0.15967837 0.15433501 0.13434811 0.09525071]\n",
            " [0.15967837 1.         0.09436292 0.08364438 0.05973373]\n",
            " [0.15433501 0.09436292 1.         0.07396302 0.05544665]\n",
            " [0.13434811 0.08364438 0.07396302 1.         0.04413702]\n",
            " [0.09525071 0.05973373 0.05544665 0.04413702 1.        ]]\n"
          ]
        }
      ],
      "source": [
        "# Compute the cosine similarity matrix for the reduced dataset\n",
        "cosine_sim_small = cosine_similarity(tfidf_matrix_small, tfidf_matrix_small)\n",
        "\n",
        "# Print the shapes of the resulting matrices\n",
        "print(\"Reduced TF-IDF Matrix Shape:\", tfidf_matrix_small.shape)\n",
        "print(\"Reduced Cosine Similarity Matrix Shape:\", cosine_sim_small.shape)\n",
        "\n",
        "# Inspect part of the cosine similarity matrix\n",
        "print(\"Cosine Similarity Matrix (sample):\")\n",
        "print(cosine_sim_small[:5, :5])  # Displaying the first 5x5 block"
      ]
    },
    {
      "cell_type": "markdown",
      "metadata": {
        "id": "JCQ2oVKKjFJO"
      },
      "source": [
        "Function to Recommend Movies"
      ]
    },
    {
      "cell_type": "code",
      "execution_count": null,
      "metadata": {
        "id": "BBp6xyFMjFY1"
      },
      "outputs": [],
      "source": [
        "# Create a reverse mapping of movie titles to indices for the reduced dataset\n",
        "indices_small = pd.Series(movies_combined_small.index, index=movies_combined_small['title']).drop_duplicates()\n",
        "\n",
        "def recommend_movies(title, cosine_sim=cosine_sim_small, num_recommendations=5):\n",
        "    # Check if the title exists in the reduced dataset\n",
        "    if title not in indices_small:\n",
        "        return f\"Movie '{title}' not found in the reduced dataset.\"\n",
        "\n",
        "    # Get the index of the movie that matches the title\n",
        "    idx = indices_small[title]\n",
        "\n",
        "    # Get the similarity scores for all movies with that movie\n",
        "    sim_scores = list(enumerate(cosine_sim[idx]))\n",
        "\n",
        "    # Sort the movies based on the similarity scores\n",
        "    sim_scores = sorted(sim_scores, key=lambda x: x[1], reverse=True)\n",
        "\n",
        "    # Get the scores of the top N similar movies\n",
        "    sim_scores = sim_scores[1:num_recommendations + 1]\n",
        "\n",
        "    # Get the movie indices\n",
        "    movie_indices = [i[0] for i in sim_scores]\n",
        "\n",
        "    # Return the top N most similar movies\n",
        "    return movies_combined_small['title'].iloc[movie_indices]"
      ]
    },
    {
      "cell_type": "markdown",
      "metadata": {
        "id": "AwBNv87lNvtG"
      },
      "source": [
        "List all movie titles in the reduced dataset"
      ]
    },
    {
      "cell_type": "code",
      "execution_count": null,
      "metadata": {
        "colab": {
          "base_uri": "https://localhost:8080/"
        },
        "id": "tXPCxkGdNv6U",
        "outputId": "c71e7949-f242-49b0-cc52-2dd3939cbb4e"
      },
      "outputs": [
        {
          "name": "stdout",
          "output_type": "stream",
          "text": [
            "Movies in the reduced dataset:\n",
            "\n",
            "Little Miss Marker\n",
            "Water and Fire\n",
            "Kung Fu Mahjong\n",
            "Vaaranam Aayiram\n",
            "Don't call him \"Dimon\"\n",
            "The Net 2.0\n",
            "Beyond the Blackboard\n",
            "The Loreley's Grasp\n",
            "Amy\n",
            "The Rocketeer\n",
            "Scavengers\n",
            "Bring It On\n",
            "Surplus: Terrorized Into Being Consumers\n",
            "Bar Sport\n",
            "Jo pour Jonathan\n",
            "After the Fall\n",
            "Vavien\n",
            "Tell Me a Riddle\n",
            "Jay and Silent Bob Go Down Under\n",
            "Bad Education\n"
          ]
        }
      ],
      "source": [
        "# List all movie titles in the reduced dataset\n",
        "movie_titles_small = movies_combined_small['title'].tolist()\n",
        "\n",
        "# Display the first few titles\n",
        "print(\"Movies in the reduced dataset:\\n\")\n",
        "for title in movie_titles_small[:20]:  # Displaying first 20 titles for example\n",
        "    print(title)\n",
        "\n",
        "# You can also print the entire list if needed, but this might be large\n",
        "# print(movie_titles_small)"
      ]
    },
    {
      "cell_type": "code",
      "execution_count": null,
      "metadata": {
        "id": "g4qivuikOYME"
      },
      "outputs": [],
      "source": [
        "# Create a reverse mapping of movie titles to indices for the reduced dataset\n",
        "indices_small = pd.Series(movies_combined_small.index, index=movies_combined_small['title']).drop_duplicates()\n",
        "\n",
        "def recommend_movies(title, cosine_sim=cosine_sim_small, num_recommendations=5):\n",
        "    # Check if the title exists in the reduced dataset\n",
        "    if title not in indices_small:\n",
        "        return f\"Movie '{title}' not found in the reduced dataset.\"\n",
        "\n",
        "    # Get the index of the movie that matches the title within the reduced dataset\n",
        "    idx = indices_small[title]\n",
        "\n",
        "    # Get the index of the movie within the cosine similarity matrix\n",
        "    idx_cosine_sim = movies_combined_small.index.get_loc(idx)\n",
        "\n",
        "    # Get the similarity scores for all movies with that movie\n",
        "    sim_scores = list(enumerate(cosine_sim[idx_cosine_sim]))\n",
        "\n",
        "    # Sort the movies based on the similarity scores\n",
        "    sim_scores = sorted(sim_scores, key=lambda x: x[1], reverse=True)\n",
        "\n",
        "    # Get the scores of the top N similar movies\n",
        "    sim_scores = sim_scores[1:num_recommendations + 1]\n",
        "\n",
        "    # Get the movie indices\n",
        "    movie_indices = [i[0] for i in sim_scores]\n",
        "\n",
        "    # Return the top N most similar movies\n",
        "    return movies_combined_small['title'].iloc[movie_indices]"
      ]
    },
    {
      "cell_type": "markdown",
      "metadata": {
        "id": "ijfaPG-rjFpZ"
      },
      "source": [
        "Test the recommendation function on the reduced dataset"
      ]
    },
    {
      "cell_type": "code",
      "execution_count": null,
      "metadata": {
        "colab": {
          "base_uri": "https://localhost:8080/"
        },
        "id": "7gp-P9cyjF4i",
        "outputId": "c69865de-b7f0-4a07-a957-1898dc33f106"
      },
      "outputs": [
        {
          "name": "stdout",
          "output_type": "stream",
          "text": [
            "Recommendations for 'Scavengers':\n",
            " 7911      Spider-Man 2\n",
            "5216        Spider-Man\n",
            "351       Forrest Gump\n",
            "7142    50 First Dates\n",
            "292       Pulp Fiction\n",
            "Name: title, dtype: object\n"
          ]
        }
      ],
      "source": [
        "# Test the function on the reduced dataset\n",
        "recommendations = recommend_movies('Scavengers', num_recommendations=5)\n",
        "print(\"Recommendations for 'Scavengers':\\n\", recommendations)"
      ]
    },
    {
      "cell_type": "code",
      "execution_count": null,
      "metadata": {
        "colab": {
          "base_uri": "https://localhost:8080/"
        },
        "id": "Uf7Rc29sOnG1",
        "outputId": "36c68094-b1cf-4c20-8bd1-c3f903163a59"
      },
      "outputs": [
        {
          "name": "stdout",
          "output_type": "stream",
          "text": [
            "Recommendations for 'After the Fall':\n",
            " 24195    Electric Boogaloo: The Wild, Untold Story of C...\n",
            "44836                        Transformers: The Last Knight\n",
            "20616                                           I Am Comic\n",
            "4845                                Not Another Teen Movie\n",
            "231                                                Ed Wood\n",
            "Name: title, dtype: object\n"
          ]
        }
      ],
      "source": [
        "# Test the function on the reduced dataset\n",
        "recommendations = recommend_movies('After the Fall', num_recommendations=5)\n",
        "print(\"Recommendations for 'After the Fall':\\n\", recommendations)"
      ]
    },
    {
      "cell_type": "markdown",
      "metadata": {
        "id": "yLMGu-v6OX79"
      },
      "source": [
        "# Compute the Performance Metrics for CS"
      ]
    },
    {
      "cell_type": "code",
      "execution_count": null,
      "metadata": {
        "colab": {
          "base_uri": "https://localhost:8080/"
        },
        "id": "33JuT06bjGX-",
        "outputId": "368e6686-07a8-4c0f-d641-ecf8e7ac79ef"
      },
      "outputs": [
        {
          "name": "stdout",
          "output_type": "stream",
          "text": [
            "Precision: 1.0000\n",
            "Recall: 1.0000\n",
            "F1-Score: 1.0000\n",
            "Average Precision: 1.0000\n"
          ]
        }
      ],
      "source": [
        "from sklearn.metrics import precision_score, recall_score, f1_score, average_precision_score\n",
        "\n",
        "# Define a function to compute the performance metrics\n",
        "def compute_metrics(recommendations, ground_truth, num_recommendations=5):\n",
        "    # Initialize lists to store actual and predicted values\n",
        "    y_true = []\n",
        "    y_pred = []\n",
        "\n",
        "    # Iterate through all movies and compute metrics\n",
        "    for movie_title in recommendations.keys():\n",
        "        recommended_movies = recommendations[movie_title][:num_recommendations]  # Top N recommended movies\n",
        "        relevant_movies = ground_truth[movie_title]  # Ground truth movies\n",
        "\n",
        "        # Create binary vectors: 1 if movie is in the top N recommendations, else 0\n",
        "        y_true.extend([1 if movie in relevant_movies else 0 for movie in recommended_movies])\n",
        "        y_pred.extend([1] * len(recommended_movies))  # Assume all recommended movies are predicted as relevant\n",
        "\n",
        "    # Calculate Precision, Recall, F1-Score, and Average Precision\n",
        "    precision = precision_score(y_true, y_pred)\n",
        "    recall = recall_score(y_true, y_pred)\n",
        "    f1 = f1_score(y_true, y_pred)\n",
        "    avg_precision = average_precision_score(y_true, y_pred)\n",
        "\n",
        "    return precision, recall, f1, avg_precision\n",
        "\n",
        "# Example recommendations and ground truth (simulated for demonstration)\n",
        "recommendations = {\n",
        "    'Toy Story': ['Toy Story 2', 'A Bug\\'s Life', 'Monsters, Inc.', 'Finding Nemo', 'The Incredibles'],\n",
        "    'Finding Nemo': ['Toy Story 2', 'A Bug\\'s Life', 'Monsters, Inc.', 'Finding Nemo', 'The Incredibles'],\n",
        "}\n",
        "\n",
        "ground_truth = {\n",
        "    'Toy Story': ['Toy Story 2', 'A Bug\\'s Life', 'Monsters, Inc.', 'Finding Nemo', 'The Incredibles'],\n",
        "    'Finding Nemo': ['Toy Story 2', 'A Bug\\'s Life', 'Monsters, Inc.', 'Finding Nemo', 'The Incredibles'],\n",
        "}\n",
        "\n",
        "# Compute the metrics for cosine similarity-based recommendations\n",
        "precision, recall, f1, avg_precision = compute_metrics(recommendations, ground_truth)\n",
        "\n",
        "# Output the computed metrics\n",
        "print(f\"Precision: {precision:.4f}\")\n",
        "print(f\"Recall: {recall:.4f}\")\n",
        "print(f\"F1-Score: {f1:.4f}\")\n",
        "print(f\"Average Precision: {avg_precision:.4f}\")"
      ]
    },
    {
      "cell_type": "markdown",
      "metadata": {
        "id": "Rk8urIRzgs59"
      },
      "source": [
        "# Compute the Performance Metrics for CS"
      ]
    },
    {
      "cell_type": "code",
      "execution_count": null,
      "metadata": {
        "colab": {
          "base_uri": "https://localhost:8080/"
        },
        "id": "mIDpBZ5LgtJT",
        "outputId": "5fe277ea-fcfa-45b8-87df-274478b67e69"
      },
      "outputs": [
        {
          "name": "stdout",
          "output_type": "stream",
          "text": [
            "Precision@5: 0.7333\n",
            "Recall@5: 0.7857\n",
            "F1-Score: 0.8462\n",
            "Average Precision: 0.7333\n"
          ]
        }
      ],
      "source": [
        "from sklearn.metrics import precision_score, recall_score, f1_score, average_precision_score\n",
        "import numpy as np\n",
        "\n",
        "# Define a function to compute Precision at K, Recall at K, and other metrics\n",
        "def compute_metrics_at_k(recommendations, ground_truth, k=5):\n",
        "    y_true = []\n",
        "    y_pred = []\n",
        "\n",
        "    # To compute Precision@K and Recall@K, we need to track the relevant movies\n",
        "    relevant_at_k = []\n",
        "    total_relevant = 0\n",
        "\n",
        "    for movie_title in recommendations.keys():\n",
        "        recommended_movies = recommendations[movie_title][:k]  # Top K recommended movies\n",
        "        relevant_movies = ground_truth[movie_title]  # Ground truth movies\n",
        "\n",
        "        # Precision at K (P@K)\n",
        "        relevant_at_k.append(len(set(recommended_movies) & set(relevant_movies)))\n",
        "\n",
        "        # Recall at K (R@K)\n",
        "        total_relevant += len(relevant_movies)\n",
        "\n",
        "        # Add all relevant recommendations (binary representation)\n",
        "        y_true.extend([1 if movie in relevant_movies else 0 for movie in recommended_movies])\n",
        "        y_pred.extend([1] * len(recommended_movies))  # Assume all recommended movies are relevant\n",
        "\n",
        "    # Calculate Precision@K\n",
        "    precision_at_k = np.mean([r / k for r in relevant_at_k])\n",
        "\n",
        "    # Calculate Recall@K\n",
        "    recall_at_k = np.sum(relevant_at_k) / total_relevant\n",
        "\n",
        "    # Calculate F1-Score\n",
        "    f1 = f1_score(y_true, y_pred)\n",
        "\n",
        "    # Calculate Average Precision\n",
        "    avg_precision = average_precision_score(y_true, y_pred)\n",
        "\n",
        "    return precision_at_k, recall_at_k, f1, avg_precision\n",
        "\n",
        "# Example recommendations and ground truth (simulated for demonstration)\n",
        "recommendations = {\n",
        "    'Little Miss Marker': ['Water and Fire', 'Kung Fu Mahjong', 'Vaaranam Aayiram', 'Don\\'t call him \"Dimon\"', 'The Net 2.0'],\n",
        "    'Water and Fire': ['Kung Fu Mahjong', 'Vaaranam Aayiram', 'The Net 2.0', 'Beyond the Blackboard', 'Amy'],\n",
        "    'Kung Fu Mahjong': ['Vaaranam Aayiram', 'The Rocketeer', 'Scavengers', 'Bring It On', 'Surplus: Terrorized Into Being Consumers'],\n",
        "    'Vaaranam Aayiram': ['The Rocketeer', 'Scavengers', 'Bar Sport', 'Jo pour Jonathan', 'After the Fall'],\n",
        "    'Don\\'t call him \"Dimon\"': ['Vavien', 'Tell Me a Riddle', 'Jay and Silent Bob Go Down Under', 'Bad Education', 'Bring It On'],\n",
        "    'The Net 2.0': ['Beyond the Blackboard', 'The Loreley\\'s Grasp', 'Amy', 'The Rocketeer', 'Scavengers'],\n",
        "}\n",
        "\n",
        "ground_truth = {\n",
        "    'Little Miss Marker': ['Water and Fire', 'Kung Fu Mahjong', 'Vaaranam Aayiram', 'The Net 2.0', 'Beyond the Blackboard'],\n",
        "    'Water and Fire': ['Kung Fu Mahjong', 'Vaaranam Aayiram', 'Don\\'t call him \"Dimon\"', 'The Net 2.0', 'Beyond the Blackboard'],\n",
        "    'Kung Fu Mahjong': ['The Loreley\\'s Grasp', 'Amy', 'The Rocketeer', 'Scavengers', 'Bring It On'],\n",
        "    'Vaaranam Aayiram': ['Surplus: Terrorized Into Being Consumers', 'Bar Sport', 'Jo pour Jonathan', 'After the Fall', 'Vavien'],\n",
        "    'Don\\'t call him \"Dimon\"': ['Tell Me a Riddle', 'Jay and Silent Bob Go Down Under', 'Bad Education'],\n",
        "    'The Net 2.0': ['Beyond the Blackboard', 'The Loreley\\'s Grasp', 'Amy', 'The Rocketeer', 'Scavengers'],\n",
        "}\n",
        "\n",
        "# Compute the metrics for cosine similarity-based recommendations\n",
        "precision_at_k, recall_at_k, f1, avg_precision = compute_metrics_at_k(recommendations, ground_truth, k=5)\n",
        "\n",
        "# Output the computed metrics\n",
        "print(f\"Precision@5: {precision_at_k:.4f}\")\n",
        "print(f\"Recall@5: {recall_at_k:.4f}\")\n",
        "print(f\"F1-Score: {f1:.4f}\")\n",
        "print(f\"Average Precision: {avg_precision:.4f}\")"
      ]
    },
    {
      "cell_type": "markdown",
      "metadata": {
        "id": "D7qBk6DIgtnB"
      },
      "source": [
        "# Singular Value Decomposition (SVD)"
      ]
    },
    {
      "cell_type": "code",
      "execution_count": null,
      "metadata": {
        "colab": {
          "base_uri": "https://localhost:8080/"
        },
        "id": "8r-RV9z9gub7",
        "outputId": "c105f9e9-acd7-47d1-8f78-732d82a137c5"
      },
      "outputs": [
        {
          "name": "stdout",
          "output_type": "stream",
          "text": [
            "Predicted rating for user 15 on movie 10: 3.3473833723886948\n",
            "Root Mean Squared Error (RMSE): 3.189199636166083\n"
          ]
        }
      ],
      "source": [
        "import pandas as pd\n",
        "import numpy as np\n",
        "from sklearn.decomposition import TruncatedSVD\n",
        "from sklearn.metrics import mean_squared_error\n",
        "from sklearn.model_selection import train_test_split\n",
        "\n",
        "# Load the dataset\n",
        "path = '/content/drive/MyDrive/movies_metadata/'\n",
        "\n",
        "# Loading the ratings_small file\n",
        "ratings_small = pd.read_csv(path + 'ratings_small.csv')\n",
        "\n",
        "# Create a User-Item Matrix (pivot table)\n",
        "user_movie_matrix = ratings_small.pivot(index='userId', columns='movieId', values='rating')\n",
        "\n",
        "# Fill NaN values with 0 (since we want to predict ratings for unseen movies)\n",
        "user_movie_matrix = user_movie_matrix.fillna(0)\n",
        "\n",
        "# Apply Singular Value Decomposition (SVD)\n",
        "svd = TruncatedSVD(n_components=50, random_state=42)\n",
        "svd_matrix = svd.fit_transform(user_movie_matrix)\n",
        "\n",
        "# Reconstruct the matrix using the SVD components\n",
        "reconstructed_matrix = np.dot(svd_matrix, svd.components_)\n",
        "\n",
        "# Convert the reconstructed matrix back to a DataFrame with the same shape as the original user_movie_matrix\n",
        "predicted_ratings = pd.DataFrame(reconstructed_matrix, columns=user_movie_matrix.columns, index=user_movie_matrix.index)\n",
        "\n",
        "# Function to predict ratings for a given user\n",
        "def predict_rating(user_id, movie_id):\n",
        "    return predicted_ratings.loc[user_id, movie_id]\n",
        "\n",
        "# Example: Predict rating for user 1 and movie 10\n",
        "user_id = 15\n",
        "movie_id = 10\n",
        "predicted_rating = predict_rating(user_id, movie_id)\n",
        "print(f\"Predicted rating for user {user_id} on movie {movie_id}: {predicted_rating}\")\n",
        "\n",
        "# Split the data into training and testing sets\n",
        "train_data, test_data = train_test_split(ratings_small, test_size=0.2, random_state=42)\n",
        "\n",
        "# Create the user-item matrix for the train set\n",
        "train_user_movie_matrix = train_data.pivot(index='userId', columns='movieId', values='rating').fillna(0)\n",
        "\n",
        "# Create the user-item matrix for the test set (ensure we only use the movies that are in the train set)\n",
        "test_user_movie_matrix = test_data.pivot(index='userId', columns='movieId', values='rating').fillna(0)\n",
        "\n",
        "# Only retain the common movies between train and test sets (columns)\n",
        "common_movies = train_user_movie_matrix.columns.intersection(test_user_movie_matrix.columns)\n",
        "\n",
        "train_user_movie_matrix = train_user_movie_matrix[common_movies]\n",
        "test_user_movie_matrix = test_user_movie_matrix[common_movies]\n",
        "\n",
        "# Apply SVD on the training matrix\n",
        "svd_train_matrix = svd.fit_transform(train_user_movie_matrix)\n",
        "\n",
        "# Reconstruct the matrix for predictions\n",
        "svd_train_reconstructed = np.dot(svd_train_matrix, svd.components_)\n",
        "\n",
        "# Predict ratings for the test set (make sure to use the common movies)\n",
        "predicted_test_matrix = np.dot(svd_train_matrix, svd.components_)\n",
        "predicted_ratings_test_matrix = pd.DataFrame(predicted_test_matrix, columns=train_user_movie_matrix.columns, index=train_user_movie_matrix.index)\n",
        "\n",
        "# Filter the test matrix to only contain the relevant users and movies\n",
        "predicted_ratings_test_matrix = predicted_ratings_test_matrix.loc[test_user_movie_matrix.index, test_user_movie_matrix.columns]\n",
        "\n",
        "# Flatten the actual and predicted ratings for the test set\n",
        "test_ratings_flat = test_user_movie_matrix.values.flatten()\n",
        "predicted_ratings_flat = predicted_ratings_test_matrix.values.flatten()\n",
        "\n",
        "# Create a mask for the non-zero values in the test data (ratings present in the test set)\n",
        "mask = test_ratings_flat != 0\n",
        "\n",
        "# Filter out the masked values for both test and predicted ratings\n",
        "test_ratings_flat = test_ratings_flat[mask]\n",
        "predicted_ratings_flat = predicted_ratings_flat[mask]\n",
        "\n",
        "# Ensure that the lengths of both arrays match after applying the mask\n",
        "assert len(test_ratings_flat) == len(predicted_ratings_flat), \"Arrays do not match in length!\"\n",
        "\n",
        "# Calculate RMSE\n",
        "rmse = np.sqrt(mean_squared_error(test_ratings_flat, predicted_ratings_flat))\n",
        "print(f\"Root Mean Squared Error (RMSE): {rmse}\")"
      ]
    },
    {
      "cell_type": "code",
      "execution_count": null,
      "metadata": {
        "id": "Y747NGjOato7"
      },
      "outputs": [],
      "source": []
    },
    {
      "cell_type": "markdown",
      "metadata": {
        "id": "k_oADXGhaE7M"
      },
      "source": [
        "# Performance Metrics SVD"
      ]
    },
    {
      "cell_type": "code",
      "execution_count": null,
      "metadata": {
        "colab": {
          "base_uri": "https://localhost:8080/"
        },
        "id": "xrROJGiXaNqL",
        "outputId": "a9581dba-d14d-4615-e1cb-2e3ffbf8e2e3"
      },
      "outputs": [
        {
          "name": "stdout",
          "output_type": "stream",
          "text": [
            "Root Mean Squared Error (RMSE): 3.189199636166083\n",
            "Mean Absolute Error (MAE): 2.9736152412267396\n",
            "Precision at k=10: 0.0496274217585693\n",
            "Recall at k=10: 0.017290617373695416\n"
          ]
        }
      ],
      "source": [
        "from sklearn.metrics import mean_absolute_error, precision_score, recall_score\n",
        "import numpy as np\n",
        "\n",
        "# Function to compute precision and recall (for binary classification: relevant or not)\n",
        "def precision_recall_at_k(actual_ratings, predicted_ratings, k=10):\n",
        "    # Get top-k recommended movies for each user\n",
        "    top_k_recommended = np.argsort(predicted_ratings, axis=1)[:, -k:]\n",
        "\n",
        "    # For each user, get the true ratings for the top-k movies\n",
        "    true_relevant = np.array([actual_ratings[user_id][top_k_recommended[user_id]] > 0 for user_id in range(actual_ratings.shape[0])])\n",
        "\n",
        "    # Calculate Precision and Recall at k\n",
        "    true_positive = np.sum(true_relevant)\n",
        "    precision = true_positive / (k * actual_ratings.shape[0])\n",
        "    recall = true_positive / np.sum(actual_ratings > 0)\n",
        "\n",
        "    return precision, recall\n",
        "\n",
        "# Flatten the actual and predicted ratings for the test set\n",
        "test_ratings_flat = test_user_movie_matrix.values.flatten()\n",
        "predicted_ratings_flat = predicted_ratings_test_matrix.values.flatten()\n",
        "\n",
        "# Create a mask for the non-zero values in the test data (ratings present in the test set)\n",
        "mask = test_ratings_flat != 0\n",
        "\n",
        "# Filter out the masked values for both test and predicted ratings\n",
        "test_ratings_flat = test_ratings_flat[mask]\n",
        "predicted_ratings_flat = predicted_ratings_flat[mask]\n",
        "\n",
        "# Ensure that the lengths of both arrays match after applying the mask\n",
        "assert len(test_ratings_flat) == len(predicted_ratings_flat), \"Arrays do not match in length!\"\n",
        "\n",
        "# Calculate RMSE\n",
        "rmse = np.sqrt(mean_squared_error(test_ratings_flat, predicted_ratings_flat))\n",
        "print(f\"Root Mean Squared Error (RMSE): {rmse}\")\n",
        "\n",
        "# Calculate MAE (Mean Absolute Error)\n",
        "mae = mean_absolute_error(test_ratings_flat, predicted_ratings_flat)\n",
        "print(f\"Mean Absolute Error (MAE): {mae}\")\n",
        "\n",
        "# Precision and Recall at k (Top-10 recommendations)\n",
        "precision, recall = precision_recall_at_k(test_user_movie_matrix.values, predicted_ratings_test_matrix.values, k=10)\n",
        "print(f\"Precision at k=10: {precision}\")\n",
        "print(f\"Recall at k=10: {recall}\")"
      ]
    },
    {
      "cell_type": "markdown",
      "metadata": {
        "id": "CQ0PhyW2ZVA9"
      },
      "source": [
        "# Non-negative Matrix Factorization (NMF)"
      ]
    },
    {
      "cell_type": "markdown",
      "metadata": {
        "id": "sXoVt3cNZjaV"
      },
      "source": [
        "SVD factors contains both positive and negative entries while NMF factors are strictly positive."
      ]
    },
    {
      "cell_type": "code",
      "execution_count": null,
      "metadata": {
        "colab": {
          "base_uri": "https://localhost:8080/"
        },
        "id": "DbkORUfVYLiQ",
        "outputId": "1c23af3c-c2ae-4273-9419-c3b2e66faa25"
      },
      "outputs": [
        {
          "name": "stderr",
          "output_type": "stream",
          "text": [
            "/usr/local/lib/python3.10/dist-packages/sklearn/decomposition/_nmf.py:1759: ConvergenceWarning: Maximum number of iterations 200 reached. Increase it to improve convergence.\n",
            "  warnings.warn(\n"
          ]
        },
        {
          "name": "stdout",
          "output_type": "stream",
          "text": [
            "Predicted rating for user 15 on movie 10: 5.381325313278228\n",
            "Root Mean Squared Error (RMSE): 3.1907335349372925\n"
          ]
        },
        {
          "name": "stderr",
          "output_type": "stream",
          "text": [
            "/usr/local/lib/python3.10/dist-packages/sklearn/decomposition/_nmf.py:1759: ConvergenceWarning: Maximum number of iterations 200 reached. Increase it to improve convergence.\n",
            "  warnings.warn(\n"
          ]
        }
      ],
      "source": [
        "import pandas as pd\n",
        "import numpy as np\n",
        "from sklearn.decomposition import NMF\n",
        "from sklearn.metrics import mean_squared_error\n",
        "from sklearn.model_selection import train_test_split\n",
        "\n",
        "# Load the dataset\n",
        "path = '/content/drive/MyDrive/movies_metadata/'\n",
        "\n",
        "# Loading the ratings_small file\n",
        "ratings_small = pd.read_csv(path + 'ratings_small.csv')\n",
        "\n",
        "# Create a User-Item Matrix (pivot table)\n",
        "user_movie_matrix = ratings_small.pivot(index='userId', columns='movieId', values='rating')\n",
        "\n",
        "# ***Improvement 1: Normalize the ratings while ensuring no negative values***\n",
        "user_movie_matrix_normalized = user_movie_matrix.apply(lambda row: row - row.mean(), axis=1)\n",
        "# Add a constant value to ensure no negative values remain\n",
        "min_rating = user_movie_matrix_normalized.min().min()\n",
        "user_movie_matrix_normalized += abs(min_rating) + 1  # Add enough to make all values positive\n",
        "\n",
        "# Fill NaN values with 0 (since we want to predict ratings for unseen movies)\n",
        "user_movie_matrix_normalized = user_movie_matrix_normalized.fillna(0)\n",
        "\n",
        "# Apply Non-negative Matrix Factorization (NMF)\n",
        "# ***Improvement 2: Use NMF instead of SVD***\n",
        "nmf = NMF(n_components=50, random_state=42)\n",
        "nmf_matrix = nmf.fit_transform(user_movie_matrix_normalized)\n",
        "\n",
        "# Reconstruct the matrix using the NMF components\n",
        "reconstructed_matrix = np.dot(nmf_matrix, nmf.components_)\n",
        "\n",
        "# Convert the reconstructed matrix back to a DataFrame with the same shape as the original user_movie_matrix\n",
        "predicted_ratings = pd.DataFrame(reconstructed_matrix, columns=user_movie_matrix.columns, index=user_movie_matrix.index)\n",
        "\n",
        "# Function to predict ratings for a given user\n",
        "def predict_rating(user_id, movie_id):\n",
        "    return predicted_ratings.loc[user_id, movie_id]\n",
        "\n",
        "# Example: Predict rating for user 1 and movie 10\n",
        "user_id = 15\n",
        "movie_id = 10\n",
        "predicted_rating = predict_rating(user_id, movie_id)\n",
        "print(f\"Predicted rating for user {user_id} on movie {movie_id}: {predicted_rating}\")\n",
        "\n",
        "# Split the data into training and testing sets\n",
        "train_data, test_data = train_test_split(ratings_small, test_size=0.2, random_state=42)\n",
        "\n",
        "# Create the user-item matrix for the train set\n",
        "train_user_movie_matrix = train_data.pivot(index='userId', columns='movieId', values='rating').fillna(0)\n",
        "\n",
        "# Create the user-item matrix for the test set (ensure we only use the movies that are in the train set)\n",
        "test_user_movie_matrix = test_data.pivot(index='userId', columns='movieId', values='rating').fillna(0)\n",
        "\n",
        "# Only retain the common movies between train and test sets (columns)\n",
        "common_movies = train_user_movie_matrix.columns.intersection(test_user_movie_matrix.columns)\n",
        "\n",
        "train_user_movie_matrix = train_user_movie_matrix[common_movies]\n",
        "test_user_movie_matrix = test_user_movie_matrix[common_movies]\n",
        "\n",
        "# Apply NMF on the training matrix\n",
        "nmf_train_matrix = nmf.fit_transform(train_user_movie_matrix)\n",
        "\n",
        "# Reconstruct the matrix for predictions\n",
        "nmf_train_reconstructed = np.dot(nmf_train_matrix, nmf.components_)\n",
        "\n",
        "# Predict ratings for the test set (make sure to use the common movies)\n",
        "predicted_test_matrix = np.dot(nmf_train_matrix, nmf.components_)\n",
        "\n",
        "# Convert predictions into DataFrame\n",
        "predicted_ratings_test_matrix = pd.DataFrame(predicted_test_matrix, columns=train_user_movie_matrix.columns, index=train_user_movie_matrix.index)\n",
        "\n",
        "# Filter the test matrix to only contain the relevant users and movies\n",
        "predicted_ratings_test_matrix = predicted_ratings_test_matrix.loc[test_user_movie_matrix.index, test_user_movie_matrix.columns]\n",
        "\n",
        "# Flatten the actual and predicted ratings for the test set\n",
        "test_ratings_flat = test_user_movie_matrix.values.flatten()\n",
        "predicted_ratings_flat = predicted_ratings_test_matrix.values.flatten()\n",
        "\n",
        "# Create a mask for the non-zero values in the test data (ratings present in the test set)\n",
        "mask = test_ratings_flat != 0\n",
        "\n",
        "# Filter out the masked values for both test and predicted ratings\n",
        "test_ratings_flat = test_ratings_flat[mask]\n",
        "predicted_ratings_flat = predicted_ratings_flat[mask]\n",
        "\n",
        "# Ensure that the lengths of both arrays match after applying the mask\n",
        "assert len(test_ratings_flat) == len(predicted_ratings_flat), \"Arrays do not match in length!\"\n",
        "\n",
        "# Calculate RMSE\n",
        "rmse = np.sqrt(mean_squared_error(test_ratings_flat, predicted_ratings_flat))\n",
        "print(f\"Root Mean Squared Error (RMSE): {rmse}\")\n"
      ]
    },
    {
      "cell_type": "markdown",
      "metadata": {
        "id": "yG0xYejCbUnm"
      },
      "source": [
        "# Neural Collaborative Filtering (NCF)"
      ]
    },
    {
      "cell_type": "code",
      "execution_count": null,
      "metadata": {
        "colab": {
          "base_uri": "https://localhost:8080/"
        },
        "id": "sWtSrVh7bt2X",
        "outputId": "68d9852f-f7aa-4461-a516-6145594fc994"
      },
      "outputs": [
        {
          "name": "stdout",
          "output_type": "stream",
          "text": [
            "Epoch 1/10\n",
            "\u001b[1m1251/1251\u001b[0m \u001b[32m━━━━━━━━━━━━━━━━━━━━\u001b[0m\u001b[37m\u001b[0m \u001b[1m13s\u001b[0m 9ms/step - loss: 7.8882 - val_loss: 7.6316\n",
            "Epoch 2/10\n",
            "\u001b[1m1251/1251\u001b[0m \u001b[32m━━━━━━━━━━━━━━━━━━━━\u001b[0m\u001b[37m\u001b[0m \u001b[1m10s\u001b[0m 8ms/step - loss: 7.5918 - val_loss: 7.6316\n",
            "Epoch 3/10\n",
            "\u001b[1m1251/1251\u001b[0m \u001b[32m━━━━━━━━━━━━━━━━━━━━\u001b[0m\u001b[37m\u001b[0m \u001b[1m10s\u001b[0m 8ms/step - loss: 7.5936 - val_loss: 7.6316\n",
            "Epoch 4/10\n",
            "\u001b[1m1251/1251\u001b[0m \u001b[32m━━━━━━━━━━━━━━━━━━━━\u001b[0m\u001b[37m\u001b[0m \u001b[1m12s\u001b[0m 9ms/step - loss: 7.5888 - val_loss: 7.6317\n",
            "Epoch 5/10\n",
            "\u001b[1m1251/1251\u001b[0m \u001b[32m━━━━━━━━━━━━━━━━━━━━\u001b[0m\u001b[37m\u001b[0m \u001b[1m20s\u001b[0m 9ms/step - loss: 7.5869 - val_loss: 7.6316\n",
            "Epoch 6/10\n",
            "\u001b[1m1251/1251\u001b[0m \u001b[32m━━━━━━━━━━━━━━━━━━━━\u001b[0m\u001b[37m\u001b[0m \u001b[1m22s\u001b[0m 10ms/step - loss: 7.5975 - val_loss: 7.6315\n",
            "Epoch 7/10\n",
            "\u001b[1m1251/1251\u001b[0m \u001b[32m━━━━━━━━━━━━━━━━━━━━\u001b[0m\u001b[37m\u001b[0m \u001b[1m19s\u001b[0m 8ms/step - loss: 7.5910 - val_loss: 7.6318\n",
            "Epoch 8/10\n",
            "\u001b[1m1251/1251\u001b[0m \u001b[32m━━━━━━━━━━━━━━━━━━━━\u001b[0m\u001b[37m\u001b[0m \u001b[1m11s\u001b[0m 9ms/step - loss: 7.5722 - val_loss: 7.6320\n",
            "Epoch 9/10\n",
            "\u001b[1m1251/1251\u001b[0m \u001b[32m━━━━━━━━━━━━━━━━━━━━\u001b[0m\u001b[37m\u001b[0m \u001b[1m9s\u001b[0m 7ms/step - loss: 7.5804 - val_loss: 7.6318\n",
            "Epoch 10/10\n",
            "\u001b[1m1251/1251\u001b[0m \u001b[32m━━━━━━━━━━━━━━━━━━━━\u001b[0m\u001b[37m\u001b[0m \u001b[1m11s\u001b[0m 9ms/step - loss: 7.5889 - val_loss: 7.6319\n",
            "\u001b[1m626/626\u001b[0m \u001b[32m━━━━━━━━━━━━━━━━━━━━\u001b[0m\u001b[37m\u001b[0m \u001b[1m1s\u001b[0m 1ms/step - loss: 7.6810\n",
            "Test Loss (MSE): 7.631901264190674\n",
            "\u001b[1m1/1\u001b[0m \u001b[32m━━━━━━━━━━━━━━━━━━━━\u001b[0m\u001b[37m\u001b[0m \u001b[1m1s\u001b[0m 513ms/step\n",
            "Predicted rating for user 1 on movie 10: 1.0\n"
          ]
        }
      ],
      "source": [
        "import pandas as pd\n",
        "import numpy as np\n",
        "from sklearn.model_selection import train_test_split\n",
        "from tensorflow.keras.models import Model\n",
        "from tensorflow.keras.layers import Input, Embedding, Flatten, Concatenate, Dense\n",
        "from tensorflow.keras.optimizers import Adam\n",
        "import tensorflow as tf\n",
        "\n",
        "# Load the ratings_small dataset\n",
        "path = '/content/drive/MyDrive/movies_metadata/'\n",
        "ratings_small = pd.read_csv(path + 'ratings_small.csv')\n",
        "\n",
        "# Reindex the userId and movieId\n",
        "ratings_small['userId'] = ratings_small['userId'].astype('category').cat.codes\n",
        "ratings_small['movieId'] = ratings_small['movieId'].astype('category').cat.codes\n",
        "\n",
        "# Prepare the data\n",
        "user_ids = ratings_small['userId'].values\n",
        "movie_ids = ratings_small['movieId'].values\n",
        "ratings = ratings_small['rating'].values\n",
        "\n",
        "# Split the data into train and test sets\n",
        "X_train, X_test, y_train, y_test = train_test_split(\n",
        "    list(zip(user_ids, movie_ids)), ratings, test_size=0.2, random_state=42\n",
        ")\n",
        "\n",
        "# Convert train and test data into arrays for the model\n",
        "X_train = np.array(X_train)\n",
        "X_test = np.array(X_test)\n",
        "\n",
        "# Define the NCF model\n",
        "user_input = Input(shape=(1,), dtype=tf.int32, name=\"user\")\n",
        "movie_input = Input(shape=(1,), dtype=tf.int32, name=\"movie\")\n",
        "\n",
        "user_embedding = Embedding(input_dim=ratings_small['userId'].nunique(), output_dim=50)(user_input)\n",
        "movie_embedding = Embedding(input_dim=ratings_small['movieId'].nunique(), output_dim=50)(movie_input)\n",
        "\n",
        "# Flatten the embeddings\n",
        "user_embedding = Flatten()(user_embedding)\n",
        "movie_embedding = Flatten()(movie_embedding)\n",
        "\n",
        "# Concatenate the user and movie embeddings\n",
        "merged = Concatenate()([user_embedding, movie_embedding])\n",
        "\n",
        "# Add fully connected layers\n",
        "fc = Dense(128, activation='relu')(merged)\n",
        "fc = Dense(64, activation='relu')(fc)\n",
        "output = Dense(1, activation='sigmoid')(fc)\n",
        "\n",
        "# Create the model\n",
        "model = Model(inputs=[user_input, movie_input], outputs=output)\n",
        "\n",
        "# Compile the model\n",
        "model.compile(optimizer=Adam(learning_rate=0.001), loss='mean_squared_error')\n",
        "\n",
        "# Train the model\n",
        "model.fit([X_train[:, 0], X_train[:, 1]], y_train, epochs=10, batch_size=64, validation_data=([X_test[:, 0], X_test[:, 1]], y_test))\n",
        "\n",
        "# Evaluate the model\n",
        "test_loss = model.evaluate([X_test[:, 0], X_test[:, 1]], y_test)\n",
        "print(f\"Test Loss (MSE): {test_loss}\")\n",
        "\n",
        "# Make predictions (example)\n",
        "user_id = 1\n",
        "movie_id = 10\n",
        "predicted_rating = model.predict([np.array([user_id]), np.array([movie_id])])\n",
        "print(f\"Predicted rating for user {user_id} on movie {movie_id}: {predicted_rating[0][0]}\")"
      ]
    },
    {
      "cell_type": "code",
      "execution_count": null,
      "metadata": {
        "colab": {
          "base_uri": "https://localhost:8080/"
        },
        "id": "5x4Nc6yTh-yM",
        "outputId": "6e608eea-2062-4312-d5b6-30fc6a8d63f8"
      },
      "outputs": [
        {
          "name": "stdout",
          "output_type": "stream",
          "text": [
            "Epoch 1/20\n",
            "\u001b[1m1251/1251\u001b[0m \u001b[32m━━━━━━━━━━━━━━━━━━━━\u001b[0m\u001b[37m\u001b[0m \u001b[1m30s\u001b[0m 22ms/step - loss: 4.3031 - val_loss: 0.8842 - learning_rate: 0.0010\n",
            "Epoch 2/20\n",
            "\u001b[1m1251/1251\u001b[0m \u001b[32m━━━━━━━━━━━━━━━━━━━━\u001b[0m\u001b[37m\u001b[0m \u001b[1m26s\u001b[0m 21ms/step - loss: 0.7254 - val_loss: 0.8697 - learning_rate: 0.0010\n",
            "Epoch 3/20\n",
            "\u001b[1m1251/1251\u001b[0m \u001b[32m━━━━━━━━━━━━━━━━━━━━\u001b[0m\u001b[37m\u001b[0m \u001b[1m39s\u001b[0m 19ms/step - loss: 0.6069 - val_loss: 0.8984 - learning_rate: 0.0010\n",
            "Epoch 4/20\n",
            "\u001b[1m1251/1251\u001b[0m \u001b[32m━━━━━━━━━━━━━━━━━━━━\u001b[0m\u001b[37m\u001b[0m \u001b[1m40s\u001b[0m 18ms/step - loss: 0.5239 - val_loss: 0.9381 - learning_rate: 0.0010\n",
            "Epoch 5/20\n",
            "\u001b[1m1251/1251\u001b[0m \u001b[32m━━━━━━━━━━━━━━━━━━━━\u001b[0m\u001b[37m\u001b[0m \u001b[1m47s\u001b[0m 23ms/step - loss: 0.4591 - val_loss: 0.9399 - learning_rate: 0.0010\n",
            "Epoch 6/20\n",
            "\u001b[1m1251/1251\u001b[0m \u001b[32m━━━━━━━━━━━━━━━━━━━━\u001b[0m\u001b[37m\u001b[0m \u001b[1m25s\u001b[0m 20ms/step - loss: 0.3943 - val_loss: 0.9344 - learning_rate: 9.0000e-04\n",
            "Epoch 7/20\n",
            "\u001b[1m1251/1251\u001b[0m \u001b[32m━━━━━━━━━━━━━━━━━━━━\u001b[0m\u001b[37m\u001b[0m \u001b[1m45s\u001b[0m 23ms/step - loss: 0.3334 - val_loss: 0.9469 - learning_rate: 8.1000e-04\n",
            "Epoch 8/20\n",
            "\u001b[1m1251/1251\u001b[0m \u001b[32m━━━━━━━━━━━━━━━━━━━━\u001b[0m\u001b[37m\u001b[0m \u001b[1m37s\u001b[0m 20ms/step - loss: 0.2895 - val_loss: 0.9693 - learning_rate: 7.2900e-04\n",
            "Epoch 9/20\n",
            "\u001b[1m1251/1251\u001b[0m \u001b[32m━━━━━━━━━━━━━━━━━━━━\u001b[0m\u001b[37m\u001b[0m \u001b[1m39s\u001b[0m 19ms/step - loss: 0.2538 - val_loss: 0.9718 - learning_rate: 6.5610e-04\n",
            "Epoch 10/20\n",
            "\u001b[1m1251/1251\u001b[0m \u001b[32m━━━━━━━━━━━━━━━━━━━━\u001b[0m\u001b[37m\u001b[0m \u001b[1m42s\u001b[0m 20ms/step - loss: 0.2212 - val_loss: 0.9722 - learning_rate: 5.9049e-04\n",
            "Epoch 11/20\n",
            "\u001b[1m1251/1251\u001b[0m \u001b[32m━━━━━━━━━━━━━━━━━━━━\u001b[0m\u001b[37m\u001b[0m \u001b[1m41s\u001b[0m 20ms/step - loss: 0.2024 - val_loss: 0.9843 - learning_rate: 5.3144e-04\n",
            "Epoch 12/20\n",
            "\u001b[1m1251/1251\u001b[0m \u001b[32m━━━━━━━━━━━━━━━━━━━━\u001b[0m\u001b[37m\u001b[0m \u001b[1m40s\u001b[0m 18ms/step - loss: 0.1805 - val_loss: 0.9887 - learning_rate: 4.7830e-04\n",
            "Epoch 13/20\n",
            "\u001b[1m1251/1251\u001b[0m \u001b[32m━━━━━━━━━━━━━━━━━━━━\u001b[0m\u001b[37m\u001b[0m \u001b[1m25s\u001b[0m 20ms/step - loss: 0.1658 - val_loss: 0.9940 - learning_rate: 4.3047e-04\n",
            "Epoch 14/20\n",
            "\u001b[1m1251/1251\u001b[0m \u001b[32m━━━━━━━━━━━━━━━━━━━━\u001b[0m\u001b[37m\u001b[0m \u001b[1m40s\u001b[0m 19ms/step - loss: 0.1526 - val_loss: 0.9975 - learning_rate: 3.8742e-04\n",
            "Epoch 15/20\n",
            "\u001b[1m1251/1251\u001b[0m \u001b[32m━━━━━━━━━━━━━━━━━━━━\u001b[0m\u001b[37m\u001b[0m \u001b[1m26s\u001b[0m 21ms/step - loss: 0.1406 - val_loss: 0.9935 - learning_rate: 3.4868e-04\n",
            "Epoch 16/20\n",
            "\u001b[1m1251/1251\u001b[0m \u001b[32m━━━━━━━━━━━━━━━━━━━━\u001b[0m\u001b[37m\u001b[0m \u001b[1m39s\u001b[0m 19ms/step - loss: 0.1308 - val_loss: 0.9991 - learning_rate: 3.1381e-04\n",
            "Epoch 17/20\n",
            "\u001b[1m1251/1251\u001b[0m \u001b[32m━━━━━━━━━━━━━━━━━━━━\u001b[0m\u001b[37m\u001b[0m \u001b[1m41s\u001b[0m 19ms/step - loss: 0.1250 - val_loss: 1.0049 - learning_rate: 2.8243e-04\n",
            "Epoch 18/20\n",
            "\u001b[1m1251/1251\u001b[0m \u001b[32m━━━━━━━━━━━━━━━━━━━━\u001b[0m\u001b[37m\u001b[0m \u001b[1m25s\u001b[0m 20ms/step - loss: 0.1139 - val_loss: 1.0037 - learning_rate: 2.5419e-04\n",
            "Epoch 19/20\n",
            "\u001b[1m1251/1251\u001b[0m \u001b[32m━━━━━━━━━━━━━━━━━━━━\u001b[0m\u001b[37m\u001b[0m \u001b[1m24s\u001b[0m 19ms/step - loss: 0.1092 - val_loss: 0.9965 - learning_rate: 2.2877e-04\n",
            "Epoch 20/20\n",
            "\u001b[1m1251/1251\u001b[0m \u001b[32m━━━━━━━━━━━━━━━━━━━━\u001b[0m\u001b[37m\u001b[0m \u001b[1m43s\u001b[0m 21ms/step - loss: 0.1044 - val_loss: 1.0025 - learning_rate: 2.0589e-04\n",
            "\u001b[1m626/626\u001b[0m \u001b[32m━━━━━━━━━━━━━━━━━━━━\u001b[0m\u001b[37m\u001b[0m \u001b[1m2s\u001b[0m 3ms/step - loss: 0.9806\n",
            "Test Loss (MSE): 1.0025209188461304\n",
            "\u001b[1m1/1\u001b[0m \u001b[32m━━━━━━━━━━━━━━━━━━━━\u001b[0m\u001b[37m\u001b[0m \u001b[1m0s\u001b[0m 158ms/step\n",
            "Predicted rating for user 1 on movie 10: 3.536179780960083\n"
          ]
        }
      ],
      "source": [
        "import pandas as pd\n",
        "import numpy as np\n",
        "from sklearn.model_selection import train_test_split\n",
        "from tensorflow.keras.models import Model\n",
        "from tensorflow.keras.layers import Input, Embedding, Flatten, Concatenate, Dense, BatchNormalization\n",
        "from tensorflow.keras.optimizers import Adam\n",
        "from tensorflow.keras import regularizers\n",
        "import tensorflow as tf\n",
        "from tensorflow.keras.callbacks import LearningRateScheduler\n",
        "\n",
        "# Load the ratings_small dataset\n",
        "path = '/content/drive/MyDrive/movies_metadata/'\n",
        "ratings_small = pd.read_csv(path + 'ratings_small.csv')\n",
        "\n",
        "# Reindex the userId and movieId\n",
        "ratings_small['userId'] = ratings_small['userId'].astype('category').cat.codes\n",
        "ratings_small['movieId'] = ratings_small['movieId'].astype('category').cat.codes\n",
        "\n",
        "# Prepare the data\n",
        "user_ids = ratings_small['userId'].values\n",
        "movie_ids = ratings_small['movieId'].values\n",
        "ratings = ratings_small['rating'].values\n",
        "\n",
        "# Split the data into train and test sets\n",
        "X_train, X_test, y_train, y_test = train_test_split(\n",
        "    list(zip(user_ids, movie_ids)), ratings, test_size=0.2, random_state=42\n",
        ")\n",
        "\n",
        "# Convert train and test data into arrays for the model\n",
        "X_train = np.array(X_train)\n",
        "X_test = np.array(X_test)\n",
        "\n",
        "# Define the NCF model\n",
        "user_input = Input(shape=(1,), dtype=tf.int32, name=\"user\")\n",
        "movie_input = Input(shape=(1,), dtype=tf.int32, name=\"movie\")\n",
        "\n",
        "user_embedding = Embedding(input_dim=ratings_small['userId'].nunique(), output_dim=100,\n",
        "                           embeddings_regularizer=regularizers.l2(1e-5))(user_input)\n",
        "movie_embedding = Embedding(input_dim=ratings_small['movieId'].nunique(), output_dim=100,\n",
        "                            embeddings_regularizer=regularizers.l2(1e-5))(movie_input)\n",
        "\n",
        "# Flatten the embeddings\n",
        "user_embedding = Flatten()(user_embedding)\n",
        "movie_embedding = Flatten()(movie_embedding)\n",
        "\n",
        "# Concatenate the user and movie embeddings\n",
        "merged = Concatenate()([user_embedding, movie_embedding])\n",
        "\n",
        "# Add fully connected layers with batch normalization\n",
        "fc = Dense(128, activation='relu')(merged)\n",
        "fc = BatchNormalization()(fc)  # Add batch normalization\n",
        "fc = Dense(64, activation='relu')(fc)\n",
        "fc = BatchNormalization()(fc)  # Add batch normalization\n",
        "output = Dense(1, activation='linear')(fc)  # Use linear activation for continuous output\n",
        "\n",
        "# Create the model\n",
        "model = Model(inputs=[user_input, movie_input], outputs=output)\n",
        "\n",
        "# Learning rate scheduler\n",
        "def scheduler(epoch, lr):\n",
        "    if epoch < 5:\n",
        "        return lr\n",
        "    else:\n",
        "        return lr * 0.9  # Reduce the learning rate by 10% every 5 epochs\n",
        "\n",
        "# Compile the model\n",
        "model.compile(optimizer=Adam(learning_rate=0.001), loss='mean_squared_error')\n",
        "\n",
        "# Train the model with learning rate scheduler\n",
        "model.fit([X_train[:, 0], X_train[:, 1]], y_train, epochs=20, batch_size=64,\n",
        "          validation_data=([X_test[:, 0], X_test[:, 1]], y_test),\n",
        "          callbacks=[LearningRateScheduler(scheduler)])\n",
        "\n",
        "# Evaluate the model\n",
        "test_loss = model.evaluate([X_test[:, 0], X_test[:, 1]], y_test)\n",
        "print(f\"Test Loss (MSE): {test_loss}\")\n",
        "\n",
        "# Make predictions (example)\n",
        "user_id = 1\n",
        "movie_id = 10\n",
        "predicted_rating = model.predict([np.array([user_id]), np.array([movie_id])])\n",
        "print(f\"Predicted rating for user {user_id} on movie {movie_id}: {predicted_rating[0][0]}\")"
      ]
    },
    {
      "cell_type": "code",
      "execution_count": null,
      "metadata": {
        "colab": {
          "base_uri": "https://localhost:8080/"
        },
        "id": "B1JUPB9ii27R",
        "outputId": "d4e2eea3-4df0-4f0a-f60b-7ec7ffa82e33"
      },
      "outputs": [
        {
          "name": "stdout",
          "output_type": "stream",
          "text": [
            "Epoch 1/20\n",
            "\u001b[1m1251/1251\u001b[0m \u001b[32m━━━━━━━━━━━━━━━━━━━━\u001b[0m\u001b[37m\u001b[0m \u001b[1m35s\u001b[0m 25ms/step - loss: 2.8491 - val_loss: 0.9583 - learning_rate: 0.0010\n",
            "Epoch 2/20\n",
            "\u001b[1m1251/1251\u001b[0m \u001b[32m━━━━━━━━━━━━━━━━━━━━\u001b[0m\u001b[37m\u001b[0m \u001b[1m38s\u001b[0m 22ms/step - loss: 1.1110 - val_loss: 0.8558 - learning_rate: 0.0010\n",
            "Epoch 3/20\n",
            "\u001b[1m1251/1251\u001b[0m \u001b[32m━━━━━━━━━━━━━━━━━━━━\u001b[0m\u001b[37m\u001b[0m \u001b[1m29s\u001b[0m 23ms/step - loss: 0.9177 - val_loss: 0.8218 - learning_rate: 0.0010\n",
            "Epoch 4/20\n",
            "\u001b[1m1251/1251\u001b[0m \u001b[32m━━━━━━━━━━━━━━━━━━━━\u001b[0m\u001b[37m\u001b[0m \u001b[1m42s\u001b[0m 25ms/step - loss: 0.8313 - val_loss: 0.8204 - learning_rate: 0.0010\n",
            "Epoch 5/20\n",
            "\u001b[1m1251/1251\u001b[0m \u001b[32m━━━━━━━━━━━━━━━━━━━━\u001b[0m\u001b[37m\u001b[0m \u001b[1m45s\u001b[0m 28ms/step - loss: 0.7807 - val_loss: 0.8196 - learning_rate: 0.0010\n",
            "Epoch 6/20\n",
            "\u001b[1m1251/1251\u001b[0m \u001b[32m━━━━━━━━━━━━━━━━━━━━\u001b[0m\u001b[37m\u001b[0m \u001b[1m34s\u001b[0m 23ms/step - loss: 0.7326 - val_loss: 0.8217 - learning_rate: 9.0000e-04\n",
            "Epoch 7/20\n",
            "\u001b[1m1251/1251\u001b[0m \u001b[32m━━━━━━━━━━━━━━━━━━━━\u001b[0m\u001b[37m\u001b[0m \u001b[1m39s\u001b[0m 21ms/step - loss: 0.6884 - val_loss: 0.8131 - learning_rate: 8.1000e-04\n",
            "Epoch 8/20\n",
            "\u001b[1m1251/1251\u001b[0m \u001b[32m━━━━━━━━━━━━━━━━━━━━\u001b[0m\u001b[37m\u001b[0m \u001b[1m43s\u001b[0m 23ms/step - loss: 0.6680 - val_loss: 0.8253 - learning_rate: 7.2900e-04\n",
            "Epoch 9/20\n",
            "\u001b[1m1251/1251\u001b[0m \u001b[32m━━━━━━━━━━━━━━━━━━━━\u001b[0m\u001b[37m\u001b[0m \u001b[1m41s\u001b[0m 23ms/step - loss: 0.6346 - val_loss: 0.8226 - learning_rate: 6.5610e-04\n",
            "Epoch 10/20\n",
            "\u001b[1m1251/1251\u001b[0m \u001b[32m━━━━━━━━━━━━━━━━━━━━\u001b[0m\u001b[37m\u001b[0m \u001b[1m41s\u001b[0m 23ms/step - loss: 0.5988 - val_loss: 0.8376 - learning_rate: 5.9049e-04\n",
            "\u001b[1m626/626\u001b[0m \u001b[32m━━━━━━━━━━━━━━━━━━━━\u001b[0m\u001b[37m\u001b[0m \u001b[1m2s\u001b[0m 4ms/step - loss: 0.7952\n",
            "Test Loss (MSE): 0.8130719661712646\n",
            "\u001b[1m1/1\u001b[0m \u001b[32m━━━━━━━━━━━━━━━━━━━━\u001b[0m\u001b[37m\u001b[0m \u001b[1m0s\u001b[0m 180ms/step\n",
            "Predicted rating for user 1 on movie 10: 3.681853771209717\n"
          ]
        }
      ],
      "source": [
        "import pandas as pd\n",
        "import numpy as np\n",
        "from sklearn.model_selection import train_test_split\n",
        "from tensorflow.keras.models import Model\n",
        "from tensorflow.keras.layers import Input, Embedding, Flatten, Concatenate, Dense, Dropout, BatchNormalization\n",
        "from tensorflow.keras.optimizers import Adam\n",
        "from tensorflow.keras import regularizers\n",
        "import tensorflow as tf\n",
        "from tensorflow.keras.callbacks import LearningRateScheduler, EarlyStopping\n",
        "\n",
        "# Load the ratings_small dataset\n",
        "path = '/content/drive/MyDrive/movies_metadata/'\n",
        "ratings_small = pd.read_csv(path + 'ratings_small.csv')\n",
        "\n",
        "# Reindex the userId and movieId\n",
        "ratings_small['userId'] = ratings_small['userId'].astype('category').cat.codes\n",
        "ratings_small['movieId'] = ratings_small['movieId'].astype('category').cat.codes\n",
        "\n",
        "# Prepare the data\n",
        "user_ids = ratings_small['userId'].values\n",
        "movie_ids = ratings_small['movieId'].values\n",
        "ratings = ratings_small['rating'].values\n",
        "\n",
        "# Split the data into train and test sets\n",
        "X_train, X_test, y_train, y_test = train_test_split(\n",
        "    list(zip(user_ids, movie_ids)), ratings, test_size=0.2, random_state=42\n",
        ")\n",
        "\n",
        "# Convert train and test data into arrays for the model\n",
        "X_train = np.array(X_train)\n",
        "X_test = np.array(X_test)\n",
        "\n",
        "# Define the NCF model\n",
        "user_input = Input(shape=(1,), dtype=tf.int32, name=\"user\")\n",
        "movie_input = Input(shape=(1,), dtype=tf.int32, name=\"movie\")\n",
        "\n",
        "user_embedding = Embedding(input_dim=ratings_small['userId'].nunique(), output_dim=100,\n",
        "                           embeddings_regularizer=regularizers.l2(1e-5))(user_input)\n",
        "movie_embedding = Embedding(input_dim=ratings_small['movieId'].nunique(), output_dim=100,\n",
        "                            embeddings_regularizer=regularizers.l2(1e-5))(movie_input)\n",
        "\n",
        "# Flatten the embeddings\n",
        "user_embedding = Flatten()(user_embedding)\n",
        "movie_embedding = Flatten()(movie_embedding)\n",
        "\n",
        "# Concatenate the user and movie embeddings\n",
        "merged = Concatenate()([user_embedding, movie_embedding])\n",
        "\n",
        "# Add fully connected layers with batch normalization and dropout\n",
        "fc = Dense(256)(merged)\n",
        "fc = BatchNormalization()(fc)\n",
        "fc = tf.keras.layers.LeakyReLU()(fc)  # LeakyReLU for better gradient flow\n",
        "fc = Dropout(0.3)(fc)  # Dropout layer for regularization\n",
        "fc = Dense(128)(fc)\n",
        "fc = BatchNormalization()(fc)\n",
        "fc = tf.keras.layers.LeakyReLU()(fc)\n",
        "fc = Dropout(0.3)(fc)\n",
        "fc = Dense(64)(fc)\n",
        "fc = BatchNormalization()(fc)\n",
        "fc = tf.keras.layers.LeakyReLU()(fc)\n",
        "fc = Dropout(0.3)(fc)\n",
        "\n",
        "# Output layer\n",
        "output = Dense(1, activation='linear')(fc)  # Use linear activation for continuous output\n",
        "\n",
        "# Create the model\n",
        "model = Model(inputs=[user_input, movie_input], outputs=output)\n",
        "\n",
        "# Learning rate scheduler\n",
        "def scheduler(epoch, lr):\n",
        "    if epoch < 5:\n",
        "        return lr\n",
        "    else:\n",
        "        return lr * 0.9  # Reduce the learning rate by 10% every 5 epochs\n",
        "\n",
        "# Early stopping callback to prevent overfitting\n",
        "early_stopping = EarlyStopping(monitor='val_loss', patience=3, restore_best_weights=True)\n",
        "\n",
        "# Compile the model\n",
        "model.compile(optimizer=Adam(learning_rate=0.001), loss='mean_squared_error')\n",
        "\n",
        "# Train the model with learning rate scheduler and early stopping\n",
        "model.fit([X_train[:, 0], X_train[:, 1]], y_train, epochs=20, batch_size=64,\n",
        "          validation_data=([X_test[:, 0], X_test[:, 1]], y_test),\n",
        "          callbacks=[LearningRateScheduler(scheduler), early_stopping])\n",
        "\n",
        "# Evaluate the model\n",
        "test_loss = model.evaluate([X_test[:, 0], X_test[:, 1]], y_test)\n",
        "print(f\"Test Loss (MSE): {test_loss}\")\n",
        "\n",
        "# Make predictions (example)\n",
        "user_id = 1\n",
        "movie_id = 10\n",
        "predicted_rating = model.predict([np.array([user_id]), np.array([movie_id])])\n",
        "print(f\"Predicted rating for user {user_id} on movie {movie_id}: {predicted_rating[0][0]}\")"
      ]
    },
    {
      "cell_type": "markdown",
      "metadata": {
        "id": "A0kh0DMGm8rl"
      },
      "source": [
        "# Standard Performace Metrics for CNF"
      ]
    },
    {
      "cell_type": "code",
      "execution_count": null,
      "metadata": {
        "colab": {
          "base_uri": "https://localhost:8080/"
        },
        "id": "j8bx2QMJnJN-",
        "outputId": "6f75056f-d164-497e-9e03-36d07c6e0c28"
      },
      "outputs": [
        {
          "name": "stdout",
          "output_type": "stream",
          "text": [
            "\u001b[1m626/626\u001b[0m \u001b[32m━━━━━━━━━━━━━━━━━━━━\u001b[0m\u001b[37m\u001b[0m \u001b[1m2s\u001b[0m 3ms/step\n",
            "Mean Squared Error (MSE): 0.7938683704641178\n",
            "Root Mean Squared Error (RMSE): 0.8909929126901728\n",
            "Mean Absolute Error (MAE): 0.6839885206128602\n",
            "R-squared (R²): 0.29353092651267065\n"
          ]
        }
      ],
      "source": [
        "import pandas as pd\n",
        "import numpy as np\n",
        "from sklearn.metrics import mean_squared_error, mean_absolute_error, r2_score\n",
        "import math\n",
        "\n",
        "# Assuming 'model' is your trained recommendation model\n",
        "# And 'X_test', 'y_test' are the test dataset inputs (user, movie) and true ratings\n",
        "\n",
        "# Predict ratings for the test set\n",
        "y_pred = model.predict([X_test[:, 0], X_test[:, 1]])\n",
        "\n",
        "# Convert y_pred to a 1D array (flatten it)\n",
        "y_pred = y_pred.flatten()\n",
        "\n",
        "# Mean Squared Error (MSE)\n",
        "mse = mean_squared_error(y_test, y_pred)\n",
        "print(f'Mean Squared Error (MSE): {mse}')\n",
        "\n",
        "# Root Mean Squared Error (RMSE)\n",
        "rmse = math.sqrt(mse)\n",
        "print(f'Root Mean Squared Error (RMSE): {rmse}')\n",
        "\n",
        "# Mean Absolute Error (MAE)\n",
        "mae = mean_absolute_error(y_test, y_pred)\n",
        "print(f'Mean Absolute Error (MAE): {mae}')\n",
        "\n",
        "# R-squared (R²)\n",
        "r2 = r2_score(y_test, y_pred)\n",
        "print(f'R-squared (R²): {r2}')"
      ]
    },
    {
      "cell_type": "code",
      "execution_count": null,
      "metadata": {
        "colab": {
          "base_uri": "https://localhost:8080/"
        },
        "id": "Z6lTXVCwng7w",
        "outputId": "3e11ddd4-8f1e-4bf5-bff6-c422d34cfb41"
      },
      "outputs": [
        {
          "name": "stdout",
          "output_type": "stream",
          "text": [
            "Epoch 1/20\n"
          ]
        },
        {
          "name": "stderr",
          "output_type": "stream",
          "text": [
            "/usr/local/lib/python3.10/dist-packages/keras/src/layers/activations/leaky_relu.py:41: UserWarning: Argument `alpha` is deprecated. Use `negative_slope` instead.\n",
            "  warnings.warn(\n"
          ]
        },
        {
          "name": "stdout",
          "output_type": "stream",
          "text": [
            "\u001b[1m1251/1251\u001b[0m \u001b[32m━━━━━━━━━━━━━━━━━━━━\u001b[0m\u001b[37m\u001b[0m \u001b[1m54s\u001b[0m 42ms/step - loss: 2.0487 - val_loss: 0.8858 - learning_rate: 0.0010\n",
            "Epoch 2/20\n",
            "\u001b[1m1251/1251\u001b[0m \u001b[32m━━━━━━━━━━━━━━━━━━━━\u001b[0m\u001b[37m\u001b[0m \u001b[1m81s\u001b[0m 41ms/step - loss: 0.9297 - val_loss: 0.8382 - learning_rate: 0.0010\n",
            "Epoch 3/20\n",
            "\u001b[1m1251/1251\u001b[0m \u001b[32m━━━━━━━━━━━━━━━━━━━━\u001b[0m\u001b[37m\u001b[0m \u001b[1m84s\u001b[0m 42ms/step - loss: 0.8645 - val_loss: 0.8478 - learning_rate: 0.0010\n",
            "Epoch 4/20\n",
            "\u001b[1m1251/1251\u001b[0m \u001b[32m━━━━━━━━━━━━━━━━━━━━\u001b[0m\u001b[37m\u001b[0m \u001b[1m77s\u001b[0m 38ms/step - loss: 0.8058 - val_loss: 0.8224 - learning_rate: 0.0010\n",
            "Epoch 5/20\n",
            "\u001b[1m1251/1251\u001b[0m \u001b[32m━━━━━━━━━━━━━━━━━━━━\u001b[0m\u001b[37m\u001b[0m \u001b[1m86s\u001b[0m 41ms/step - loss: 0.7615 - val_loss: 0.8288 - learning_rate: 0.0010\n",
            "Epoch 6/20\n",
            "\u001b[1m1251/1251\u001b[0m \u001b[32m━━━━━━━━━━━━━━━━━━━━\u001b[0m\u001b[37m\u001b[0m \u001b[1m78s\u001b[0m 38ms/step - loss: 0.7204 - val_loss: 0.8283 - learning_rate: 9.0000e-04\n",
            "Epoch 7/20\n",
            "\u001b[1m1251/1251\u001b[0m \u001b[32m━━━━━━━━━━━━━━━━━━━━\u001b[0m\u001b[37m\u001b[0m \u001b[1m77s\u001b[0m 34ms/step - loss: 0.6808 - val_loss: 0.8423 - learning_rate: 8.1000e-04\n",
            "Epoch 8/20\n",
            "\u001b[1m1251/1251\u001b[0m \u001b[32m━━━━━━━━━━━━━━━━━━━━\u001b[0m\u001b[37m\u001b[0m \u001b[1m49s\u001b[0m 39ms/step - loss: 0.6407 - val_loss: 0.8447 - learning_rate: 7.2900e-04\n",
            "Epoch 9/20\n",
            "\u001b[1m1251/1251\u001b[0m \u001b[32m━━━━━━━━━━━━━━━━━━━━\u001b[0m\u001b[37m\u001b[0m \u001b[1m97s\u001b[0m 51ms/step - loss: 0.5986 - val_loss: 0.8610 - learning_rate: 6.5610e-04\n",
            "Epoch 10/20\n",
            "\u001b[1m1251/1251\u001b[0m \u001b[32m━━━━━━━━━━━━━━━━━━━━\u001b[0m\u001b[37m\u001b[0m \u001b[1m70s\u001b[0m 41ms/step - loss: 0.5602 - val_loss: 0.8501 - learning_rate: 5.9049e-04\n",
            "Epoch 11/20\n",
            "\u001b[1m1251/1251\u001b[0m \u001b[32m━━━━━━━━━━━━━━━━━━━━\u001b[0m\u001b[37m\u001b[0m \u001b[1m81s\u001b[0m 40ms/step - loss: 0.5179 - val_loss: 0.8622 - learning_rate: 5.3144e-04\n",
            "Epoch 12/20\n",
            "\u001b[1m1251/1251\u001b[0m \u001b[32m━━━━━━━━━━━━━━━━━━━━\u001b[0m\u001b[37m\u001b[0m \u001b[1m83s\u001b[0m 41ms/step - loss: 0.4928 - val_loss: 0.8534 - learning_rate: 4.7830e-04\n",
            "Epoch 13/20\n",
            "\u001b[1m1251/1251\u001b[0m \u001b[32m━━━━━━━━━━━━━━━━━━━━\u001b[0m\u001b[37m\u001b[0m \u001b[1m81s\u001b[0m 41ms/step - loss: 0.4677 - val_loss: 0.8581 - learning_rate: 4.3047e-04\n",
            "Epoch 14/20\n",
            "\u001b[1m1251/1251\u001b[0m \u001b[32m━━━━━━━━━━━━━━━━━━━━\u001b[0m\u001b[37m\u001b[0m \u001b[1m80s\u001b[0m 40ms/step - loss: 0.4504 - val_loss: 0.8606 - learning_rate: 3.8742e-04\n",
            "Epoch 15/20\n",
            "\u001b[1m1251/1251\u001b[0m \u001b[32m━━━━━━━━━━━━━━━━━━━━\u001b[0m\u001b[37m\u001b[0m \u001b[1m50s\u001b[0m 40ms/step - loss: 0.4308 - val_loss: 0.8661 - learning_rate: 3.4868e-04\n",
            "Epoch 16/20\n",
            "\u001b[1m1251/1251\u001b[0m \u001b[32m━━━━━━━━━━━━━━━━━━━━\u001b[0m\u001b[37m\u001b[0m \u001b[1m82s\u001b[0m 41ms/step - loss: 0.4084 - val_loss: 0.8597 - learning_rate: 3.1381e-04\n",
            "Epoch 17/20\n",
            "\u001b[1m1251/1251\u001b[0m \u001b[32m━━━━━━━━━━━━━━━━━━━━\u001b[0m\u001b[37m\u001b[0m \u001b[1m53s\u001b[0m 43ms/step - loss: 0.3935 - val_loss: 0.8577 - learning_rate: 2.8243e-04\n",
            "Epoch 18/20\n",
            "\u001b[1m1251/1251\u001b[0m \u001b[32m━━━━━━━━━━━━━━━━━━━━\u001b[0m\u001b[37m\u001b[0m \u001b[1m80s\u001b[0m 41ms/step - loss: 0.3816 - val_loss: 0.8525 - learning_rate: 2.5419e-04\n",
            "Epoch 19/20\n",
            "\u001b[1m1251/1251\u001b[0m \u001b[32m━━━━━━━━━━━━━━━━━━━━\u001b[0m\u001b[37m\u001b[0m \u001b[1m82s\u001b[0m 41ms/step - loss: 0.3725 - val_loss: 0.8565 - learning_rate: 2.2877e-04\n",
            "Epoch 20/20\n",
            "\u001b[1m1251/1251\u001b[0m \u001b[32m━━━━━━━━━━━━━━━━━━━━\u001b[0m\u001b[37m\u001b[0m \u001b[1m82s\u001b[0m 41ms/step - loss: 0.3698 - val_loss: 0.8558 - learning_rate: 2.0589e-04\n",
            "\u001b[1m626/626\u001b[0m \u001b[32m━━━━━━━━━━━━━━━━━━━━\u001b[0m\u001b[37m\u001b[0m \u001b[1m3s\u001b[0m 4ms/step - loss: 0.8425\n",
            "Test Loss (MSE): 0.8558478355407715\n",
            "\u001b[1m626/626\u001b[0m \u001b[32m━━━━━━━━━━━━━━━━━━━━\u001b[0m\u001b[37m\u001b[0m \u001b[1m3s\u001b[0m 4ms/step\n",
            "Mean Squared Error (MSE): 0.818576042619365\n",
            "Root Mean Squared Error (RMSE): 0.9047519232471214\n",
            "Mean Absolute Error (MAE): 0.6919599623449099\n",
            "R-squared (R²): 0.271543394441905\n",
            "\u001b[1m1/1\u001b[0m \u001b[32m━━━━━━━━━━━━━━━━━━━━\u001b[0m\u001b[37m\u001b[0m \u001b[1m0s\u001b[0m 113ms/step\n",
            "Predicted rating for user 1 on movie 10: 3.3149523735046387\n"
          ]
        }
      ],
      "source": [
        "import pandas as pd\n",
        "import numpy as np\n",
        "from sklearn.model_selection import train_test_split\n",
        "from tensorflow.keras.models import Model\n",
        "from tensorflow.keras.layers import Input, Embedding, Flatten, Concatenate, Dense, Dropout, BatchNormalization, LeakyReLU\n",
        "from tensorflow.keras.optimizers import Adam\n",
        "from tensorflow.keras import regularizers\n",
        "import tensorflow as tf\n",
        "from tensorflow.keras.callbacks import LearningRateScheduler\n",
        "from sklearn.metrics import mean_squared_error, mean_absolute_error, r2_score\n",
        "\n",
        "# Load the ratings_small dataset\n",
        "path = '/content/drive/MyDrive/movies_metadata/'\n",
        "ratings_small = pd.read_csv(path + 'ratings_small.csv')\n",
        "\n",
        "# Reindex the userId and movieId\n",
        "ratings_small['userId'] = ratings_small['userId'].astype('category').cat.codes\n",
        "ratings_small['movieId'] = ratings_small['movieId'].astype('category').cat.codes\n",
        "\n",
        "# Prepare the data\n",
        "user_ids = ratings_small['userId'].values\n",
        "movie_ids = ratings_small['movieId'].values\n",
        "ratings = ratings_small['rating'].values\n",
        "\n",
        "# Split the data into train and test sets\n",
        "X_train, X_test, y_train, y_test = train_test_split(\n",
        "    list(zip(user_ids, movie_ids)), ratings, test_size=0.2, random_state=42\n",
        ")\n",
        "\n",
        "# Convert train and test data into arrays for the model\n",
        "X_train = np.array(X_train)\n",
        "X_test = np.array(X_test)\n",
        "\n",
        "# Define the NCF model with added layers and dropout for regularization\n",
        "user_input = Input(shape=(1,), dtype=tf.int32, name=\"user\")\n",
        "movie_input = Input(shape=(1,), dtype=tf.int32, name=\"movie\")\n",
        "\n",
        "user_embedding = Embedding(input_dim=ratings_small['userId'].nunique(), output_dim=200,\n",
        "                           embeddings_regularizer=regularizers.l2(1e-5))(user_input)\n",
        "movie_embedding = Embedding(input_dim=ratings_small['movieId'].nunique(), output_dim=200,\n",
        "                            embeddings_regularizer=regularizers.l2(1e-5))(movie_input)\n",
        "\n",
        "# Flatten the embeddings\n",
        "user_embedding = Flatten()(user_embedding)\n",
        "movie_embedding = Flatten()(movie_embedding)\n",
        "\n",
        "# Concatenate the user and movie embeddings\n",
        "merged = Concatenate()([user_embedding, movie_embedding])\n",
        "\n",
        "# Add more fully connected layers with LeakyReLU and dropout\n",
        "fc = Dense(256)(merged)\n",
        "fc = LeakyReLU(alpha=0.1)(fc)\n",
        "fc = Dropout(0.5)(fc)  # Added Dropout\n",
        "fc = Dense(128)(fc)\n",
        "fc = LeakyReLU(alpha=0.1)(fc)\n",
        "fc = Dropout(0.5)(fc)  # Added Dropout\n",
        "output = Dense(1, activation='linear')(fc)  # Use linear activation for continuous output\n",
        "\n",
        "# Create the model\n",
        "model = Model(inputs=[user_input, movie_input], outputs=output)\n",
        "\n",
        "# Learning rate scheduler function\n",
        "def scheduler(epoch, lr):\n",
        "    if epoch < 5:\n",
        "        return lr\n",
        "    else:\n",
        "        return lr * 0.9  # Reduce learning rate by 10% every 5 epochs\n",
        "\n",
        "# Compile the model using AdamW optimizer for better generalization\n",
        "model.compile(optimizer=Adam(learning_rate=0.001), loss='mean_squared_error')\n",
        "\n",
        "# Train the model with learning rate scheduler\n",
        "model.fit([X_train[:, 0], X_train[:, 1]], y_train, epochs=20, batch_size=64,\n",
        "          validation_data=([X_test[:, 0], X_test[:, 1]], y_test),\n",
        "          callbacks=[LearningRateScheduler(scheduler)])\n",
        "\n",
        "# Evaluate the model\n",
        "test_loss = model.evaluate([X_test[:, 0], X_test[:, 1]], y_test)\n",
        "print(f\"Test Loss (MSE): {test_loss}\")\n",
        "\n",
        "# Predict ratings for the test set\n",
        "y_pred = model.predict([X_test[:, 0], X_test[:, 1]])\n",
        "\n",
        "# Calculate performance metrics\n",
        "mse = mean_squared_error(y_test, y_pred)\n",
        "rmse = np.sqrt(mse)\n",
        "mae = mean_absolute_error(y_test, y_pred)\n",
        "r2 = r2_score(y_test, y_pred)\n",
        "\n",
        "# Print the performance metrics\n",
        "print(f\"Mean Squared Error (MSE): {mse}\")\n",
        "print(f\"Root Mean Squared Error (RMSE): {rmse}\")\n",
        "print(f\"Mean Absolute Error (MAE): {mae}\")\n",
        "print(f\"R-squared (R²): {r2}\")\n",
        "\n",
        "# Example: Make predictions for a single user and movie\n",
        "user_id = 1\n",
        "movie_id = 10\n",
        "predicted_rating = model.predict([np.array([user_id]), np.array([movie_id])])\n",
        "print(f\"Predicted rating for user {user_id} on movie {movie_id}: {predicted_rating[0][0]}\")"
      ]
    },
    {
      "cell_type": "markdown",
      "metadata": {
        "id": "VKQ_wHkybt9v"
      },
      "source": [
        "# Recurrent Neural Network (RNN)"
      ]
    },
    {
      "cell_type": "code",
      "execution_count": null,
      "metadata": {
        "colab": {
          "base_uri": "https://localhost:8080/"
        },
        "id": "OH4TsH4rbuFf",
        "outputId": "f348337e-cf42-432a-93bd-a42310c0aba1"
      },
      "outputs": [
        {
          "name": "stdout",
          "output_type": "stream",
          "text": [
            "   userId  movieId  rating   timestamp\n",
            "0       1       31     2.5  1260759144\n",
            "1       1     1029     3.0  1260759179\n",
            "2       1     1061     3.0  1260759182\n",
            "3       1     1129     2.0  1260759185\n",
            "4       1     1172     4.0  1260759205\n",
            "<class 'pandas.core.frame.DataFrame'>\n",
            "RangeIndex: 100004 entries, 0 to 100003\n",
            "Data columns (total 4 columns):\n",
            " #   Column     Non-Null Count   Dtype  \n",
            "---  ------     --------------   -----  \n",
            " 0   userId     100004 non-null  int64  \n",
            " 1   movieId    100004 non-null  int64  \n",
            " 2   rating     100004 non-null  float64\n",
            " 3   timestamp  100004 non-null  int64  \n",
            "dtypes: float64(1), int64(3)\n",
            "memory usage: 3.1 MB\n",
            "None\n",
            "Epoch 1/10\n"
          ]
        },
        {
          "name": "stderr",
          "output_type": "stream",
          "text": [
            "/usr/local/lib/python3.10/dist-packages/keras/src/layers/core/embedding.py:90: UserWarning: Argument `input_length` is deprecated. Just remove it.\n",
            "  warnings.warn(\n"
          ]
        },
        {
          "name": "stdout",
          "output_type": "stream",
          "text": [
            "\u001b[1m2501/2501\u001b[0m \u001b[32m━━━━━━━━━━━━━━━━━━━━\u001b[0m\u001b[37m\u001b[0m \u001b[1m47s\u001b[0m 17ms/step - loss: 1.8553 - mae: 0.9893 - val_loss: 0.8388 - val_mae: 0.7140\n",
            "Epoch 2/10\n",
            "\u001b[1m2501/2501\u001b[0m \u001b[32m━━━━━━━━━━━━━━━━━━━━\u001b[0m\u001b[37m\u001b[0m \u001b[1m82s\u001b[0m 17ms/step - loss: 0.8258 - mae: 0.7055 - val_loss: 0.8054 - val_mae: 0.6916\n",
            "Epoch 3/10\n",
            "\u001b[1m2501/2501\u001b[0m \u001b[32m━━━━━━━━━━━━━━━━━━━━\u001b[0m\u001b[37m\u001b[0m \u001b[1m82s\u001b[0m 17ms/step - loss: 0.7649 - mae: 0.6771 - val_loss: 0.8029 - val_mae: 0.6805\n",
            "Epoch 4/10\n",
            "\u001b[1m2501/2501\u001b[0m \u001b[32m━━━━━━━━━━━━━━━━━━━━\u001b[0m\u001b[37m\u001b[0m \u001b[1m40s\u001b[0m 16ms/step - loss: 0.7279 - mae: 0.6568 - val_loss: 0.7881 - val_mae: 0.6772\n",
            "Epoch 5/10\n",
            "\u001b[1m2501/2501\u001b[0m \u001b[32m━━━━━━━━━━━━━━━━━━━━\u001b[0m\u001b[37m\u001b[0m \u001b[1m44s\u001b[0m 17ms/step - loss: 0.6900 - mae: 0.6370 - val_loss: 0.7823 - val_mae: 0.6748\n",
            "Epoch 6/10\n",
            "\u001b[1m2501/2501\u001b[0m \u001b[32m━━━━━━━━━━━━━━━━━━━━\u001b[0m\u001b[37m\u001b[0m \u001b[1m82s\u001b[0m 18ms/step - loss: 0.6643 - mae: 0.6223 - val_loss: 0.7907 - val_mae: 0.6804\n",
            "Epoch 7/10\n",
            "\u001b[1m2501/2501\u001b[0m \u001b[32m━━━━━━━━━━━━━━━━━━━━\u001b[0m\u001b[37m\u001b[0m \u001b[1m40s\u001b[0m 16ms/step - loss: 0.6415 - mae: 0.6097 - val_loss: 0.7959 - val_mae: 0.6835\n",
            "Epoch 8/10\n",
            "\u001b[1m2501/2501\u001b[0m \u001b[32m━━━━━━━━━━━━━━━━━━━━\u001b[0m\u001b[37m\u001b[0m \u001b[1m42s\u001b[0m 17ms/step - loss: 0.6135 - mae: 0.5959 - val_loss: 0.8059 - val_mae: 0.6873\n",
            "Epoch 9/10\n",
            "\u001b[1m2501/2501\u001b[0m \u001b[32m━━━━━━━━━━━━━━━━━━━━\u001b[0m\u001b[37m\u001b[0m \u001b[1m83s\u001b[0m 17ms/step - loss: 0.5926 - mae: 0.5844 - val_loss: 0.8215 - val_mae: 0.6864\n",
            "Epoch 10/10\n",
            "\u001b[1m2501/2501\u001b[0m \u001b[32m━━━━━━━━━━━━━━━━━━━━\u001b[0m\u001b[37m\u001b[0m \u001b[1m83s\u001b[0m 18ms/step - loss: 0.5605 - mae: 0.5664 - val_loss: 0.8309 - val_mae: 0.6913\n",
            "\u001b[1m626/626\u001b[0m \u001b[32m━━━━━━━━━━━━━━━━━━━━\u001b[0m\u001b[37m\u001b[0m \u001b[1m2s\u001b[0m 4ms/step - loss: 0.8198 - mae: 0.6868\n",
            "Test Loss: 0.8308543562889099, Test MAE: 0.6912781596183777\n",
            "\u001b[1m626/626\u001b[0m \u001b[32m━━━━━━━━━━━━━━━━━━━━\u001b[0m\u001b[37m\u001b[0m \u001b[1m3s\u001b[0m 4ms/step\n",
            "Predictions saved to rnn_predictions.csv\n"
          ]
        }
      ],
      "source": [
        "import pandas as pd\n",
        "import numpy as np\n",
        "from sklearn.model_selection import train_test_split\n",
        "from keras.models import Sequential\n",
        "from keras.layers import Embedding, LSTM, Dense, Dropout\n",
        "from keras.preprocessing.sequence import pad_sequences\n",
        "\n",
        "# Load your dataset (example uses ratings_small.csv)\n",
        "dataset_path = '/content/drive/MyDrive/movies_metadata/ratings_small.csv'\n",
        "data = pd.read_csv(dataset_path)\n",
        "\n",
        "# Inspect the dataset\n",
        "print(data.head())\n",
        "print(data.info())\n",
        "\n",
        "# Preprocess the data\n",
        "# Convert userId and movieId to categorical values\n",
        "data['userId'] = data['userId'].astype('category').cat.codes\n",
        "data['movieId'] = data['movieId'].astype('category').cat.codes\n",
        "\n",
        "# Create sequences and labels\n",
        "sequences = data[['userId', 'movieId']].values\n",
        "labels = data['rating'].values\n",
        "\n",
        "# Split the data into training and testing sets\n",
        "X_train, X_test, y_train, y_test = train_test_split(sequences, labels, test_size=0.2, random_state=42)\n",
        "\n",
        "# Pad sequences (if needed)\n",
        "max_sequence_length = sequences.shape[1]\n",
        "X_train = pad_sequences(X_train, maxlen=max_sequence_length)\n",
        "X_test = pad_sequences(X_test, maxlen=max_sequence_length)\n",
        "\n",
        "# Define the RNN model\n",
        "embedding_dim = 50\n",
        "model = Sequential([\n",
        "    Embedding(input_dim=max(data['userId'].max(), data['movieId'].max()) + 1,\n",
        "              output_dim=embedding_dim, input_length=max_sequence_length),\n",
        "    LSTM(128, return_sequences=True),\n",
        "    Dropout(0.2),\n",
        "    LSTM(64),\n",
        "    Dropout(0.2),\n",
        "    Dense(1, activation='linear')\n",
        "])\n",
        "\n",
        "# Compile the model\n",
        "model.compile(optimizer='adam', loss='mean_squared_error', metrics=['mae'])\n",
        "\n",
        "# Train the model\n",
        "epochs = 10\n",
        "batch_size = 32\n",
        "history = model.fit(X_train, y_train,\n",
        "                    validation_data=(X_test, y_test),\n",
        "                    epochs=epochs,\n",
        "                    batch_size=batch_size,\n",
        "                    verbose=1)\n",
        "\n",
        "# Evaluate the model\n",
        "results = model.evaluate(X_test, y_test, verbose=1)\n",
        "print(f\"Test Loss: {results[0]}, Test MAE: {results[1]}\")\n",
        "\n",
        "# Predict ratings for the test set\n",
        "predictions = model.predict(X_test)\n",
        "\n",
        "# Post-process and save the results\n",
        "results_df = pd.DataFrame({'Actual': y_test, 'Predicted': predictions.flatten()})\n",
        "results_df.to_csv('rnn_predictions.csv', index=False)\n",
        "print(\"Predictions saved to rnn_predictions.csv\")"
      ]
    },
    {
      "cell_type": "markdown",
      "metadata": {
        "id": "E7DQMXyRbuMy"
      },
      "source": [
        "# RNN with evalution metrics"
      ]
    },
    {
      "cell_type": "code",
      "execution_count": null,
      "metadata": {
        "colab": {
          "base_uri": "https://localhost:8080/"
        },
        "id": "qXFrdlYbbuTE",
        "outputId": "ff14c6fc-a5ab-4281-d9b2-0c58b2fba066"
      },
      "outputs": [
        {
          "name": "stdout",
          "output_type": "stream",
          "text": [
            "   userId  movieId  rating   timestamp\n",
            "0       1       31     2.5  1260759144\n",
            "1       1     1029     3.0  1260759179\n",
            "2       1     1061     3.0  1260759182\n",
            "3       1     1129     2.0  1260759185\n",
            "4       1     1172     4.0  1260759205\n",
            "<class 'pandas.core.frame.DataFrame'>\n",
            "RangeIndex: 100004 entries, 0 to 100003\n",
            "Data columns (total 4 columns):\n",
            " #   Column     Non-Null Count   Dtype  \n",
            "---  ------     --------------   -----  \n",
            " 0   userId     100004 non-null  int64  \n",
            " 1   movieId    100004 non-null  int64  \n",
            " 2   rating     100004 non-null  float64\n",
            " 3   timestamp  100004 non-null  int64  \n",
            "dtypes: float64(1), int64(3)\n",
            "memory usage: 3.1 MB\n",
            "None\n"
          ]
        },
        {
          "name": "stderr",
          "output_type": "stream",
          "text": [
            "/usr/local/lib/python3.10/dist-packages/keras/src/layers/core/embedding.py:90: UserWarning: Argument `input_length` is deprecated. Just remove it.\n",
            "  warnings.warn(\n"
          ]
        },
        {
          "name": "stdout",
          "output_type": "stream",
          "text": [
            "Epoch 1/10\n",
            "\u001b[1m2501/2501\u001b[0m \u001b[32m━━━━━━━━━━━━━━━━━━━━\u001b[0m\u001b[37m\u001b[0m \u001b[1m50s\u001b[0m 17ms/step - loss: 1.8513 - mae: 0.9855 - val_loss: 0.8529 - val_mae: 0.7273\n",
            "Epoch 2/10\n",
            "\u001b[1m2501/2501\u001b[0m \u001b[32m━━━━━━━━━━━━━━━━━━━━\u001b[0m\u001b[37m\u001b[0m \u001b[1m80s\u001b[0m 16ms/step - loss: 0.8208 - mae: 0.7041 - val_loss: 0.8098 - val_mae: 0.6989\n",
            "Epoch 3/10\n",
            "\u001b[1m2501/2501\u001b[0m \u001b[32m━━━━━━━━━━━━━━━━━━━━\u001b[0m\u001b[37m\u001b[0m \u001b[1m39s\u001b[0m 16ms/step - loss: 0.7672 - mae: 0.6776 - val_loss: 0.7883 - val_mae: 0.6869\n",
            "Epoch 4/10\n",
            "\u001b[1m2501/2501\u001b[0m \u001b[32m━━━━━━━━━━━━━━━━━━━━\u001b[0m\u001b[37m\u001b[0m \u001b[1m42s\u001b[0m 16ms/step - loss: 0.7237 - mae: 0.6535 - val_loss: 0.7833 - val_mae: 0.6782\n",
            "Epoch 5/10\n",
            "\u001b[1m2501/2501\u001b[0m \u001b[32m━━━━━━━━━━━━━━━━━━━━\u001b[0m\u001b[37m\u001b[0m \u001b[1m40s\u001b[0m 16ms/step - loss: 0.6954 - mae: 0.6391 - val_loss: 0.7795 - val_mae: 0.6798\n",
            "Epoch 6/10\n",
            "\u001b[1m2501/2501\u001b[0m \u001b[32m━━━━━━━━━━━━━━━━━━━━\u001b[0m\u001b[37m\u001b[0m \u001b[1m43s\u001b[0m 16ms/step - loss: 0.6652 - mae: 0.6235 - val_loss: 0.7923 - val_mae: 0.6810\n",
            "Epoch 7/10\n",
            "\u001b[1m2501/2501\u001b[0m \u001b[32m━━━━━━━━━━━━━━━━━━━━\u001b[0m\u001b[37m\u001b[0m \u001b[1m41s\u001b[0m 16ms/step - loss: 0.6418 - mae: 0.6115 - val_loss: 0.7995 - val_mae: 0.6923\n",
            "Epoch 8/10\n",
            "\u001b[1m2501/2501\u001b[0m \u001b[32m━━━━━━━━━━━━━━━━━━━━\u001b[0m\u001b[37m\u001b[0m \u001b[1m41s\u001b[0m 16ms/step - loss: 0.6078 - mae: 0.5919 - val_loss: 0.8264 - val_mae: 0.6860\n",
            "Epoch 9/10\n",
            "\u001b[1m2501/2501\u001b[0m \u001b[32m━━━━━━━━━━━━━━━━━━━━\u001b[0m\u001b[37m\u001b[0m \u001b[1m41s\u001b[0m 17ms/step - loss: 0.5784 - mae: 0.5774 - val_loss: 0.8150 - val_mae: 0.6935\n",
            "Epoch 10/10\n",
            "\u001b[1m2501/2501\u001b[0m \u001b[32m━━━━━━━━━━━━━━━━━━━━\u001b[0m\u001b[37m\u001b[0m \u001b[1m80s\u001b[0m 16ms/step - loss: 0.5601 - mae: 0.5669 - val_loss: 0.8279 - val_mae: 0.6959\n",
            "\u001b[1m626/626\u001b[0m \u001b[32m━━━━━━━━━━━━━━━━━━━━\u001b[0m\u001b[37m\u001b[0m \u001b[1m4s\u001b[0m 6ms/step - loss: 0.8162 - mae: 0.6909\n",
            "Test Loss: 0.8279002904891968, Test MAE: 0.6959139108657837\n",
            "\u001b[1m626/626\u001b[0m \u001b[32m━━━━━━━━━━━━━━━━━━━━\u001b[0m\u001b[37m\u001b[0m \u001b[1m3s\u001b[0m 4ms/step\n",
            "Predictions saved to rnn_predictions.csv\n",
            "Mean Absolute Error (MAE): 0.6959139150587608\n",
            "Root Mean Squared Error (RMSE): 0.90989030956212\n",
            "Precision: 0.8897186955439382\n",
            "Recall: 0.8704335119337555\n",
            "F1-Score: 0.8799704542656654\n"
          ]
        }
      ],
      "source": [
        "import pandas as pd\n",
        "import numpy as np\n",
        "from sklearn.model_selection import train_test_split\n",
        "from keras.models import Sequential\n",
        "from keras.layers import Embedding, LSTM, Dense, Dropout\n",
        "from keras.preprocessing.sequence import pad_sequences\n",
        "from sklearn.metrics import mean_absolute_error, mean_squared_error, precision_score, recall_score, f1_score\n",
        "\n",
        "# Load your dataset (example uses ratings_small.csv)\n",
        "dataset_path = '/content/drive/MyDrive/movies_metadata/ratings_small.csv'\n",
        "data = pd.read_csv(dataset_path)\n",
        "\n",
        "# Inspect the dataset\n",
        "print(data.head())\n",
        "print(data.info())\n",
        "\n",
        "# Preprocess the data\n",
        "# Convert userId and movieId to categorical values\n",
        "data['userId'] = data['userId'].astype('category').cat.codes\n",
        "data['movieId'] = data['movieId'].astype('category').cat.codes\n",
        "\n",
        "# Create sequences and labels\n",
        "sequences = data[['userId', 'movieId']].values\n",
        "labels = data['rating'].values\n",
        "\n",
        "# Split the data into training and testing sets\n",
        "X_train, X_test, y_train, y_test = train_test_split(sequences, labels, test_size=0.2, random_state=42)\n",
        "\n",
        "# Pad sequences (if needed)\n",
        "max_sequence_length = sequences.shape[1]\n",
        "X_train = pad_sequences(X_train, maxlen=max_sequence_length)\n",
        "X_test = pad_sequences(X_test, maxlen=max_sequence_length)\n",
        "\n",
        "# Define the RNN model\n",
        "embedding_dim = 50\n",
        "model = Sequential([\n",
        "    Embedding(input_dim=max(data['userId'].max(), data['movieId'].max()) + 1,\n",
        "              output_dim=embedding_dim, input_length=max_sequence_length),\n",
        "    LSTM(128, return_sequences=True),\n",
        "    Dropout(0.2),\n",
        "    LSTM(64),\n",
        "    Dropout(0.2),\n",
        "    Dense(1, activation='linear')\n",
        "])\n",
        "\n",
        "# Compile the model\n",
        "model.compile(optimizer='adam', loss='mean_squared_error', metrics=['mae'])\n",
        "\n",
        "# Train the model\n",
        "epochs = 10\n",
        "batch_size = 32\n",
        "history = model.fit(X_train, y_train,\n",
        "                    validation_data=(X_test, y_test),\n",
        "                    epochs=epochs,\n",
        "                    batch_size=batch_size,\n",
        "                    verbose=1)\n",
        "\n",
        "# Evaluate the model\n",
        "results = model.evaluate(X_test, y_test, verbose=1)\n",
        "print(f\"Test Loss: {results[0]}, Test MAE: {results[1]}\")\n",
        "\n",
        "# Predict ratings for the test set\n",
        "predictions = model.predict(X_test)\n",
        "\n",
        "# Post-process and save the results\n",
        "results_df = pd.DataFrame({'Actual': y_test, 'Predicted': predictions.flatten()})\n",
        "results_df.to_csv('rnn_predictions.csv', index=False)\n",
        "print(\"Predictions saved to rnn_predictions.csv\")\n",
        "\n",
        "# Evaluate predictions with additional metrics\n",
        "mae = mean_absolute_error(y_test, predictions)\n",
        "rmse = np.sqrt(mean_squared_error(y_test, predictions))\n",
        "\n",
        "# Convert ratings to binary classes for classification metrics\n",
        "threshold = 3.0  # Example threshold\n",
        "y_test_binary = (y_test >= threshold).astype(int)\n",
        "predictions_binary = (predictions.flatten() >= threshold).astype(int)\n",
        "\n",
        "precision = precision_score(y_test_binary, predictions_binary, zero_division=1)\n",
        "recall = recall_score(y_test_binary, predictions_binary, zero_division=1)\n",
        "f1 = f1_score(y_test_binary, predictions_binary, zero_division=1)\n",
        "\n",
        "# Print the metrics\n",
        "print(f\"Mean Absolute Error (MAE): {mae}\")\n",
        "print(f\"Root Mean Squared Error (RMSE): {rmse}\")\n",
        "print(f\"Precision: {precision}\")\n",
        "print(f\"Recall: {recall}\")\n",
        "print(f\"F1-Score: {f1}\")"
      ]
    },
    {
      "cell_type": "markdown",
      "metadata": {
        "id": "NC3JujQT2b_E"
      },
      "source": [
        "# RNN Model Fine-Tuning and Evaluation"
      ]
    },
    {
      "cell_type": "markdown",
      "metadata": {
        "id": "qsnJ3avi2ngh"
      },
      "source": [
        " Train-Test Split"
      ]
    },
    {
      "cell_type": "code",
      "execution_count": null,
      "metadata": {
        "colab": {
          "base_uri": "https://localhost:8080/"
        },
        "id": "9m5qITjawa0J",
        "outputId": "2b608c47-c4aa-4d07-f1ad-05a412a92900"
      },
      "outputs": [
        {
          "name": "stdout",
          "output_type": "stream",
          "text": [
            "Training with 70-30 train-test split...\n",
            "Epoch 1/10\n"
          ]
        },
        {
          "name": "stderr",
          "output_type": "stream",
          "text": [
            "/usr/local/lib/python3.10/dist-packages/keras/src/layers/core/embedding.py:90: UserWarning: Argument `input_length` is deprecated. Just remove it.\n",
            "  warnings.warn(\n"
          ]
        },
        {
          "name": "stdout",
          "output_type": "stream",
          "text": [
            "\u001b[1m2188/2188\u001b[0m \u001b[32m━━━━━━━━━━━━━━━━━━━━\u001b[0m\u001b[37m\u001b[0m \u001b[1m77s\u001b[0m 28ms/step - loss: 1.9317 - mae: 1.0057 - val_loss: 0.8410 - val_mae: 0.7177\n",
            "Epoch 2/10\n",
            "\u001b[1m2188/2188\u001b[0m \u001b[32m━━━━━━━━━━━━━━━━━━━━\u001b[0m\u001b[37m\u001b[0m \u001b[1m64s\u001b[0m 19ms/step - loss: 0.8341 - mae: 0.7088 - val_loss: 0.8171 - val_mae: 0.7045\n",
            "Epoch 3/10\n",
            "\u001b[1m2188/2188\u001b[0m \u001b[32m━━━━━━━━━━━━━━━━━━━━\u001b[0m\u001b[37m\u001b[0m \u001b[1m76s\u001b[0m 17ms/step - loss: 0.7677 - mae: 0.6755 - val_loss: 0.7973 - val_mae: 0.6912\n",
            "Epoch 4/10\n",
            "\u001b[1m2188/2188\u001b[0m \u001b[32m━━━━━━━━━━━━━━━━━━━━\u001b[0m\u001b[37m\u001b[0m \u001b[1m40s\u001b[0m 16ms/step - loss: 0.7237 - mae: 0.6550 - val_loss: 0.7913 - val_mae: 0.6842\n",
            "Epoch 5/10\n",
            "\u001b[1m2188/2188\u001b[0m \u001b[32m━━━━━━━━━━━━━━━━━━━━\u001b[0m\u001b[37m\u001b[0m \u001b[1m42s\u001b[0m 17ms/step - loss: 0.6939 - mae: 0.6402 - val_loss: 0.7835 - val_mae: 0.6843\n",
            "Epoch 6/10\n",
            "\u001b[1m2188/2188\u001b[0m \u001b[32m━━━━━━━━━━━━━━━━━━━━\u001b[0m\u001b[37m\u001b[0m \u001b[1m43s\u001b[0m 17ms/step - loss: 0.6731 - mae: 0.6268 - val_loss: 0.7998 - val_mae: 0.6888\n",
            "Epoch 7/10\n",
            "\u001b[1m2188/2188\u001b[0m \u001b[32m━━━━━━━━━━━━━━━━━━━━\u001b[0m\u001b[37m\u001b[0m \u001b[1m41s\u001b[0m 18ms/step - loss: 0.6408 - mae: 0.6114 - val_loss: 0.8169 - val_mae: 0.6967\n",
            "Epoch 8/10\n",
            "\u001b[1m2188/2188\u001b[0m \u001b[32m━━━━━━━━━━━━━━━━━━━━\u001b[0m\u001b[37m\u001b[0m \u001b[1m42s\u001b[0m 18ms/step - loss: 0.6174 - mae: 0.5972 - val_loss: 0.8143 - val_mae: 0.6883\n",
            "Epoch 9/10\n",
            "\u001b[1m2188/2188\u001b[0m \u001b[32m━━━━━━━━━━━━━━━━━━━━\u001b[0m\u001b[37m\u001b[0m \u001b[1m36s\u001b[0m 16ms/step - loss: 0.5818 - mae: 0.5792 - val_loss: 0.8282 - val_mae: 0.6962\n",
            "Epoch 10/10\n",
            "\u001b[1m2188/2188\u001b[0m \u001b[32m━━━━━━━━━━━━━━━━━━━━\u001b[0m\u001b[37m\u001b[0m \u001b[1m42s\u001b[0m 16ms/step - loss: 0.5583 - mae: 0.5643 - val_loss: 0.8375 - val_mae: 0.6955\n",
            "\u001b[1m938/938\u001b[0m \u001b[32m━━━━━━━━━━━━━━━━━━━━\u001b[0m\u001b[37m\u001b[0m \u001b[1m4s\u001b[0m 5ms/step - loss: 0.8276 - mae: 0.6918\n",
            "Training with 80-19 train-test split...\n",
            "Epoch 1/10\n"
          ]
        },
        {
          "name": "stderr",
          "output_type": "stream",
          "text": [
            "/usr/local/lib/python3.10/dist-packages/keras/src/layers/core/embedding.py:90: UserWarning: Argument `input_length` is deprecated. Just remove it.\n",
            "  warnings.warn(\n"
          ]
        },
        {
          "name": "stdout",
          "output_type": "stream",
          "text": [
            "\u001b[1m2501/2501\u001b[0m \u001b[32m━━━━━━━━━━━━━━━━━━━━\u001b[0m\u001b[37m\u001b[0m \u001b[1m48s\u001b[0m 17ms/step - loss: 1.8574 - mae: 0.9883 - val_loss: 0.8301 - val_mae: 0.7015\n",
            "Epoch 2/10\n",
            "\u001b[1m2501/2501\u001b[0m \u001b[32m━━━━━━━━━━━━━━━━━━━━\u001b[0m\u001b[37m\u001b[0m \u001b[1m40s\u001b[0m 16ms/step - loss: 0.8338 - mae: 0.7093 - val_loss: 0.8226 - val_mae: 0.7118\n",
            "Epoch 3/10\n",
            "\u001b[1m2501/2501\u001b[0m \u001b[32m━━━━━━━━━━━━━━━━━━━━\u001b[0m\u001b[37m\u001b[0m \u001b[1m41s\u001b[0m 16ms/step - loss: 0.7671 - mae: 0.6771 - val_loss: 0.7929 - val_mae: 0.6786\n",
            "Epoch 4/10\n",
            "\u001b[1m2501/2501\u001b[0m \u001b[32m━━━━━━━━━━━━━━━━━━━━\u001b[0m\u001b[37m\u001b[0m \u001b[1m51s\u001b[0m 20ms/step - loss: 0.7313 - mae: 0.6578 - val_loss: 0.7926 - val_mae: 0.6829\n",
            "Epoch 5/10\n",
            "\u001b[1m2501/2501\u001b[0m \u001b[32m━━━━━━━━━━━━━━━━━━━━\u001b[0m\u001b[37m\u001b[0m \u001b[1m74s\u001b[0m 17ms/step - loss: 0.6986 - mae: 0.6414 - val_loss: 0.7876 - val_mae: 0.6886\n",
            "Epoch 6/10\n",
            "\u001b[1m2501/2501\u001b[0m \u001b[32m━━━━━━━━━━━━━━━━━━━━\u001b[0m\u001b[37m\u001b[0m \u001b[1m80s\u001b[0m 16ms/step - loss: 0.6669 - mae: 0.6238 - val_loss: 0.7894 - val_mae: 0.6803\n",
            "Epoch 7/10\n",
            "\u001b[1m2501/2501\u001b[0m \u001b[32m━━━━━━━━━━━━━━━━━━━━\u001b[0m\u001b[37m\u001b[0m \u001b[1m83s\u001b[0m 17ms/step - loss: 0.6395 - mae: 0.6093 - val_loss: 0.7995 - val_mae: 0.6863\n",
            "Epoch 8/10\n",
            "\u001b[1m2501/2501\u001b[0m \u001b[32m━━━━━━━━━━━━━━━━━━━━\u001b[0m\u001b[37m\u001b[0m \u001b[1m82s\u001b[0m 17ms/step - loss: 0.6086 - mae: 0.5916 - val_loss: 0.8165 - val_mae: 0.6870\n",
            "Epoch 9/10\n",
            "\u001b[1m2501/2501\u001b[0m \u001b[32m━━━━━━━━━━━━━━━━━━━━\u001b[0m\u001b[37m\u001b[0m \u001b[1m41s\u001b[0m 16ms/step - loss: 0.5814 - mae: 0.5780 - val_loss: 0.8093 - val_mae: 0.6894\n",
            "Epoch 10/10\n",
            "\u001b[1m2501/2501\u001b[0m \u001b[32m━━━━━━━━━━━━━━━━━━━━\u001b[0m\u001b[37m\u001b[0m \u001b[1m42s\u001b[0m 17ms/step - loss: 0.5646 - mae: 0.5679 - val_loss: 0.8234 - val_mae: 0.6985\n",
            "\u001b[1m626/626\u001b[0m \u001b[32m━━━━━━━━━━━━━━━━━━━━\u001b[0m\u001b[37m\u001b[0m \u001b[1m2s\u001b[0m 3ms/step - loss: 0.8107 - mae: 0.6934\n",
            "Training with 90-9 train-test split...\n",
            "Epoch 1/10\n"
          ]
        },
        {
          "name": "stderr",
          "output_type": "stream",
          "text": [
            "/usr/local/lib/python3.10/dist-packages/keras/src/layers/core/embedding.py:90: UserWarning: Argument `input_length` is deprecated. Just remove it.\n",
            "  warnings.warn(\n"
          ]
        },
        {
          "name": "stdout",
          "output_type": "stream",
          "text": [
            "\u001b[1m2813/2813\u001b[0m \u001b[32m━━━━━━━━━━━━━━━━━━━━\u001b[0m\u001b[37m\u001b[0m \u001b[1m55s\u001b[0m 17ms/step - loss: 1.8033 - mae: 0.9731 - val_loss: 0.8268 - val_mae: 0.7058\n",
            "Epoch 2/10\n",
            "\u001b[1m2813/2813\u001b[0m \u001b[32m━━━━━━━━━━━━━━━━━━━━\u001b[0m\u001b[37m\u001b[0m \u001b[1m80s\u001b[0m 16ms/step - loss: 0.8204 - mae: 0.7034 - val_loss: 0.7978 - val_mae: 0.6900\n",
            "Epoch 3/10\n",
            "\u001b[1m2813/2813\u001b[0m \u001b[32m━━━━━━━━━━━━━━━━━━━━\u001b[0m\u001b[37m\u001b[0m \u001b[1m82s\u001b[0m 16ms/step - loss: 0.7702 - mae: 0.6778 - val_loss: 0.7901 - val_mae: 0.6766\n",
            "Epoch 4/10\n",
            "\u001b[1m2813/2813\u001b[0m \u001b[32m━━━━━━━━━━━━━━━━━━━━\u001b[0m\u001b[37m\u001b[0m \u001b[1m84s\u001b[0m 17ms/step - loss: 0.7205 - mae: 0.6528 - val_loss: 0.7987 - val_mae: 0.6895\n",
            "Epoch 5/10\n",
            "\u001b[1m2813/2813\u001b[0m \u001b[32m━━━━━━━━━━━━━━━━━━━━\u001b[0m\u001b[37m\u001b[0m \u001b[1m81s\u001b[0m 16ms/step - loss: 0.6900 - mae: 0.6370 - val_loss: 0.7803 - val_mae: 0.6826\n",
            "Epoch 6/10\n",
            "\u001b[1m2813/2813\u001b[0m \u001b[32m━━━━━━━━━━━━━━━━━━━━\u001b[0m\u001b[37m\u001b[0m \u001b[1m82s\u001b[0m 16ms/step - loss: 0.6609 - mae: 0.6203 - val_loss: 0.7925 - val_mae: 0.6793\n",
            "Epoch 7/10\n",
            "\u001b[1m2813/2813\u001b[0m \u001b[32m━━━━━━━━━━━━━━━━━━━━\u001b[0m\u001b[37m\u001b[0m \u001b[1m85s\u001b[0m 17ms/step - loss: 0.6274 - mae: 0.6040 - val_loss: 0.8044 - val_mae: 0.6822\n",
            "Epoch 8/10\n",
            "\u001b[1m2813/2813\u001b[0m \u001b[32m━━━━━━━━━━━━━━━━━━━━\u001b[0m\u001b[37m\u001b[0m \u001b[1m78s\u001b[0m 16ms/step - loss: 0.5992 - mae: 0.5875 - val_loss: 0.8196 - val_mae: 0.6931\n",
            "Epoch 9/10\n",
            "\u001b[1m2813/2813\u001b[0m \u001b[32m━━━━━━━━━━━━━━━━━━━━\u001b[0m\u001b[37m\u001b[0m \u001b[1m79s\u001b[0m 15ms/step - loss: 0.5768 - mae: 0.5747 - val_loss: 0.8082 - val_mae: 0.6875\n",
            "Epoch 10/10\n",
            "\u001b[1m2813/2813\u001b[0m \u001b[32m━━━━━━━━━━━━━━━━━━━━\u001b[0m\u001b[37m\u001b[0m \u001b[1m46s\u001b[0m 16ms/step - loss: 0.5551 - mae: 0.5618 - val_loss: 0.8344 - val_mae: 0.6928\n",
            "\u001b[1m313/313\u001b[0m \u001b[32m━━━━━━━━━━━━━━━━━━━━\u001b[0m\u001b[37m\u001b[0m \u001b[1m1s\u001b[0m 3ms/step - loss: 0.8160 - mae: 0.6855\n",
            "\n",
            "For 70-30 split:\n",
            "Test Loss: 0.8375234603881836, Test MAE: 0.695518970489502\n",
            "\n",
            "For 80-19 split:\n",
            "Test Loss: 0.8234400749206543, Test MAE: 0.6985287070274353\n",
            "\n",
            "For 90-9 split:\n",
            "Test Loss: 0.8343965411186218, Test MAE: 0.6927697062492371\n"
          ]
        }
      ],
      "source": [
        "# Function to experiment with different train-test splits\n",
        "def experiment_with_splits(data, split_ratio):\n",
        "    sequences = data[['userId', 'movieId']].values\n",
        "    labels = data['rating'].values\n",
        "\n",
        "    # Train-test split\n",
        "    X_train, X_test, y_train, y_test = train_test_split(sequences, labels, test_size=1-split_ratio, random_state=42)\n",
        "\n",
        "    # Pad sequences (if needed)\n",
        "    max_sequence_length = sequences.shape[1]\n",
        "    X_train = pad_sequences(X_train, maxlen=max_sequence_length)\n",
        "    X_test = pad_sequences(X_test, maxlen=max_sequence_length)\n",
        "\n",
        "    return X_train, X_test, y_train, y_test\n",
        "\n",
        "# Experiment with different splits: 70-30, 80-20, 90-10\n",
        "split_ratios = [0.7, 0.8, 0.9]\n",
        "results_by_split = {}\n",
        "\n",
        "for split_ratio in split_ratios:\n",
        "    print(f\"Training with {int(split_ratio*100)}-{int((1-split_ratio)*100)} train-test split...\")\n",
        "    X_train, X_test, y_train, y_test = experiment_with_splits(data, split_ratio)\n",
        "\n",
        "    # Train and evaluate the model\n",
        "    model = Sequential([\n",
        "        Embedding(input_dim=max(data['userId'].max(), data['movieId'].max()) + 1,\n",
        "                  output_dim=embedding_dim, input_length=max_sequence_length),\n",
        "        LSTM(128, return_sequences=True),\n",
        "        Dropout(0.2),\n",
        "        LSTM(64),\n",
        "        Dropout(0.2),\n",
        "        Dense(1, activation='linear')\n",
        "    ])\n",
        "\n",
        "    model.compile(optimizer='adam', loss='mean_squared_error', metrics=['mae'])\n",
        "\n",
        "    # Train the model\n",
        "    history = model.fit(X_train, y_train,\n",
        "                        validation_data=(X_test, y_test),\n",
        "                        epochs=10,\n",
        "                        batch_size=32,\n",
        "                        verbose=1)\n",
        "\n",
        "    # Evaluate the model\n",
        "    results = model.evaluate(X_test, y_test, verbose=1)\n",
        "    results_by_split[split_ratio] = results  # Store the results for each split\n",
        "\n",
        "# Print out the results for each split\n",
        "for split_ratio, result in results_by_split.items():\n",
        "    print(f\"\\nFor {int(split_ratio*100)}-{int((1-split_ratio)*100)} split:\")\n",
        "    print(f\"Test Loss: {result[0]}, Test MAE: {result[1]}\")"
      ]
    },
    {
      "cell_type": "markdown",
      "metadata": {
        "id": "22hFe-e72r5s"
      },
      "source": [
        "Hyperparameter Tuning"
      ]
    },
    {
      "cell_type": "code",
      "execution_count": null,
      "metadata": {
        "colab": {
          "base_uri": "https://localhost:8080/"
        },
        "id": "FqJ0e0XL2qvr",
        "outputId": "2c0df078-d2ef-4451-905b-dfd364306a6b"
      },
      "outputs": [
        {
          "name": "stdout",
          "output_type": "stream",
          "text": [
            "\n",
            "Training with embedding_dim=50, lstm_units_1=128, lstm_units_2=64, dropout_rate=0.2...\n",
            "Epoch 1/10\n"
          ]
        },
        {
          "name": "stderr",
          "output_type": "stream",
          "text": [
            "/usr/local/lib/python3.10/dist-packages/keras/src/layers/core/embedding.py:90: UserWarning: Argument `input_length` is deprecated. Just remove it.\n",
            "  warnings.warn(\n"
          ]
        },
        {
          "name": "stdout",
          "output_type": "stream",
          "text": [
            "\u001b[1m2501/2501\u001b[0m \u001b[32m━━━━━━━━━━━━━━━━━━━━\u001b[0m\u001b[37m\u001b[0m \u001b[1m47s\u001b[0m 16ms/step - loss: 1.8404 - mae: 0.9875 - val_loss: 0.8395 - val_mae: 0.7187\n",
            "Epoch 2/10\n",
            "\u001b[1m2501/2501\u001b[0m \u001b[32m━━━━━━━━━━━━━━━━━━━━\u001b[0m\u001b[37m\u001b[0m \u001b[1m45s\u001b[0m 18ms/step - loss: 0.8237 - mae: 0.7050 - val_loss: 0.8393 - val_mae: 0.6925\n",
            "Epoch 3/10\n",
            "\u001b[1m2501/2501\u001b[0m \u001b[32m━━━━━━━━━━━━━━━━━━━━\u001b[0m\u001b[37m\u001b[0m \u001b[1m41s\u001b[0m 16ms/step - loss: 0.7634 - mae: 0.6738 - val_loss: 0.7868 - val_mae: 0.6877\n",
            "Epoch 4/10\n",
            "\u001b[1m2501/2501\u001b[0m \u001b[32m━━━━━━━━━━━━━━━━━━━━\u001b[0m\u001b[37m\u001b[0m \u001b[1m40s\u001b[0m 16ms/step - loss: 0.7202 - mae: 0.6538 - val_loss: 0.7817 - val_mae: 0.6755\n",
            "Epoch 5/10\n",
            "\u001b[1m2501/2501\u001b[0m \u001b[32m━━━━━━━━━━━━━━━━━━━━\u001b[0m\u001b[37m\u001b[0m \u001b[1m43s\u001b[0m 17ms/step - loss: 0.6932 - mae: 0.6389 - val_loss: 0.7845 - val_mae: 0.6791\n",
            "Epoch 6/10\n",
            "\u001b[1m2501/2501\u001b[0m \u001b[32m━━━━━━━━━━━━━━━━━━━━\u001b[0m\u001b[37m\u001b[0m \u001b[1m83s\u001b[0m 17ms/step - loss: 0.6662 - mae: 0.6238 - val_loss: 0.7978 - val_mae: 0.6945\n",
            "Epoch 7/10\n",
            "\u001b[1m2501/2501\u001b[0m \u001b[32m━━━━━━━━━━━━━━━━━━━━\u001b[0m\u001b[37m\u001b[0m \u001b[1m82s\u001b[0m 17ms/step - loss: 0.6306 - mae: 0.6051 - val_loss: 0.7970 - val_mae: 0.6804\n",
            "Epoch 8/10\n",
            "\u001b[1m2501/2501\u001b[0m \u001b[32m━━━━━━━━━━━━━━━━━━━━\u001b[0m\u001b[37m\u001b[0m \u001b[1m80s\u001b[0m 16ms/step - loss: 0.6128 - mae: 0.5959 - val_loss: 0.8480 - val_mae: 0.7156\n",
            "Epoch 9/10\n",
            "\u001b[1m2501/2501\u001b[0m \u001b[32m━━━━━━━━━━━━━━━━━━━━\u001b[0m\u001b[37m\u001b[0m \u001b[1m43s\u001b[0m 17ms/step - loss: 0.5729 - mae: 0.5739 - val_loss: 0.8201 - val_mae: 0.6983\n",
            "Epoch 10/10\n",
            "\u001b[1m2501/2501\u001b[0m \u001b[32m━━━━━━━━━━━━━━━━━━━━\u001b[0m\u001b[37m\u001b[0m \u001b[1m82s\u001b[0m 17ms/step - loss: 0.5605 - mae: 0.5657 - val_loss: 0.8234 - val_mae: 0.6909\n",
            "\u001b[1m626/626\u001b[0m \u001b[32m━━━━━━━━━━━━━━━━━━━━\u001b[0m\u001b[37m\u001b[0m \u001b[1m2s\u001b[0m 3ms/step - loss: 0.8101 - mae: 0.6862\n",
            "Test Loss: 0.8234434127807617, Test MAE: 0.6908573508262634\n",
            "\n",
            "Training with embedding_dim=100, lstm_units_1=64, lstm_units_2=32, dropout_rate=0.3...\n",
            "Epoch 1/10\n"
          ]
        },
        {
          "name": "stderr",
          "output_type": "stream",
          "text": [
            "/usr/local/lib/python3.10/dist-packages/keras/src/layers/core/embedding.py:90: UserWarning: Argument `input_length` is deprecated. Just remove it.\n",
            "  warnings.warn(\n"
          ]
        },
        {
          "name": "stdout",
          "output_type": "stream",
          "text": [
            "\u001b[1m2501/2501\u001b[0m \u001b[32m━━━━━━━━━━━━━━━━━━━━\u001b[0m\u001b[37m\u001b[0m \u001b[1m50s\u001b[0m 18ms/step - loss: 2.2130 - mae: 1.0932 - val_loss: 0.8445 - val_mae: 0.7072\n",
            "Epoch 2/10\n",
            "\u001b[1m2501/2501\u001b[0m \u001b[32m━━━━━━━━━━━━━━━━━━━━\u001b[0m\u001b[37m\u001b[0m \u001b[1m44s\u001b[0m 18ms/step - loss: 0.9295 - mae: 0.7542 - val_loss: 0.8086 - val_mae: 0.6971\n",
            "Epoch 3/10\n",
            "\u001b[1m2501/2501\u001b[0m \u001b[32m━━━━━━━━━━━━━━━━━━━━\u001b[0m\u001b[37m\u001b[0m \u001b[1m84s\u001b[0m 18ms/step - loss: 0.8330 - mae: 0.7117 - val_loss: 0.7951 - val_mae: 0.6914\n",
            "Epoch 4/10\n",
            "\u001b[1m2501/2501\u001b[0m \u001b[32m━━━━━━━━━━━━━━━━━━━━\u001b[0m\u001b[37m\u001b[0m \u001b[1m45s\u001b[0m 18ms/step - loss: 0.7684 - mae: 0.6772 - val_loss: 0.7844 - val_mae: 0.6816\n",
            "Epoch 5/10\n",
            "\u001b[1m2501/2501\u001b[0m \u001b[32m━━━━━━━━━━━━━━━━━━━━\u001b[0m\u001b[37m\u001b[0m \u001b[1m76s\u001b[0m 15ms/step - loss: 0.7056 - mae: 0.6463 - val_loss: 0.7852 - val_mae: 0.6809\n",
            "Epoch 6/10\n",
            "\u001b[1m2501/2501\u001b[0m \u001b[32m━━━━━━━━━━━━━━━━━━━━\u001b[0m\u001b[37m\u001b[0m \u001b[1m45s\u001b[0m 17ms/step - loss: 0.6699 - mae: 0.6281 - val_loss: 0.8002 - val_mae: 0.6875\n",
            "Epoch 7/10\n",
            "\u001b[1m2501/2501\u001b[0m \u001b[32m━━━━━━━━━━━━━━━━━━━━\u001b[0m\u001b[37m\u001b[0m \u001b[1m83s\u001b[0m 18ms/step - loss: 0.6239 - mae: 0.6032 - val_loss: 0.7969 - val_mae: 0.6899\n",
            "Epoch 8/10\n",
            "\u001b[1m2501/2501\u001b[0m \u001b[32m━━━━━━━━━━━━━━━━━━━━\u001b[0m\u001b[37m\u001b[0m \u001b[1m80s\u001b[0m 17ms/step - loss: 0.6098 - mae: 0.5932 - val_loss: 0.8020 - val_mae: 0.6855\n",
            "Epoch 9/10\n",
            "\u001b[1m2501/2501\u001b[0m \u001b[32m━━━━━━━━━━━━━━━━━━━━\u001b[0m\u001b[37m\u001b[0m \u001b[1m85s\u001b[0m 18ms/step - loss: 0.5849 - mae: 0.5789 - val_loss: 0.8241 - val_mae: 0.6918\n",
            "Epoch 10/10\n",
            "\u001b[1m2501/2501\u001b[0m \u001b[32m━━━━━━━━━━━━━━━━━━━━\u001b[0m\u001b[37m\u001b[0m \u001b[1m81s\u001b[0m 18ms/step - loss: 0.5590 - mae: 0.5649 - val_loss: 0.8440 - val_mae: 0.6977\n",
            "\u001b[1m626/626\u001b[0m \u001b[32m━━━━━━━━━━━━━━━━━━━━\u001b[0m\u001b[37m\u001b[0m \u001b[1m2s\u001b[0m 4ms/step - loss: 0.8322 - mae: 0.6933\n",
            "Test Loss: 0.8439623117446899, Test MAE: 0.6977349519729614\n",
            "\n",
            "Training with embedding_dim=50, lstm_units_1=256, lstm_units_2=128, dropout_rate=0.1...\n",
            "Epoch 1/10\n"
          ]
        },
        {
          "name": "stderr",
          "output_type": "stream",
          "text": [
            "/usr/local/lib/python3.10/dist-packages/keras/src/layers/core/embedding.py:90: UserWarning: Argument `input_length` is deprecated. Just remove it.\n",
            "  warnings.warn(\n"
          ]
        },
        {
          "name": "stdout",
          "output_type": "stream",
          "text": [
            "\u001b[1m2501/2501\u001b[0m \u001b[32m━━━━━━━━━━━━━━━━━━━━\u001b[0m\u001b[37m\u001b[0m \u001b[1m80s\u001b[0m 30ms/step - loss: 1.6002 - mae: 0.9186 - val_loss: 0.8334 - val_mae: 0.6993\n",
            "Epoch 2/10\n",
            "\u001b[1m2501/2501\u001b[0m \u001b[32m━━━━━━━━━━━━━━━━━━━━\u001b[0m\u001b[37m\u001b[0m \u001b[1m80s\u001b[0m 29ms/step - loss: 0.7864 - mae: 0.6862 - val_loss: 0.8012 - val_mae: 0.6886\n",
            "Epoch 3/10\n",
            "\u001b[1m2501/2501\u001b[0m \u001b[32m━━━━━━━━━━━━━━━━━━━━\u001b[0m\u001b[37m\u001b[0m \u001b[1m82s\u001b[0m 29ms/step - loss: 0.7303 - mae: 0.6571 - val_loss: 0.7822 - val_mae: 0.6767\n",
            "Epoch 4/10\n",
            "\u001b[1m2501/2501\u001b[0m \u001b[32m━━━━━━━━━━━━━━━━━━━━\u001b[0m\u001b[37m\u001b[0m \u001b[1m80s\u001b[0m 28ms/step - loss: 0.6870 - mae: 0.6328 - val_loss: 0.7760 - val_mae: 0.6738\n",
            "Epoch 5/10\n",
            "\u001b[1m2501/2501\u001b[0m \u001b[32m━━━━━━━━━━━━━━━━━━━━\u001b[0m\u001b[37m\u001b[0m \u001b[1m89s\u001b[0m 31ms/step - loss: 0.6623 - mae: 0.6207 - val_loss: 0.7835 - val_mae: 0.6717\n",
            "Epoch 6/10\n",
            "\u001b[1m2501/2501\u001b[0m \u001b[32m━━━━━━━━━━━━━━━━━━━━\u001b[0m\u001b[37m\u001b[0m \u001b[1m76s\u001b[0m 29ms/step - loss: 0.6351 - mae: 0.6057 - val_loss: 0.7921 - val_mae: 0.6850\n",
            "Epoch 7/10\n",
            "\u001b[1m2501/2501\u001b[0m \u001b[32m━━━━━━━━━━━━━━━━━━━━\u001b[0m\u001b[37m\u001b[0m \u001b[1m80s\u001b[0m 28ms/step - loss: 0.6097 - mae: 0.5938 - val_loss: 0.8096 - val_mae: 0.6918\n",
            "Epoch 8/10\n",
            "\u001b[1m2501/2501\u001b[0m \u001b[32m━━━━━━━━━━━━━━━━━━━━\u001b[0m\u001b[37m\u001b[0m \u001b[1m81s\u001b[0m 28ms/step - loss: 0.5810 - mae: 0.5754 - val_loss: 0.8192 - val_mae: 0.6866\n",
            "Epoch 9/10\n",
            "\u001b[1m2501/2501\u001b[0m \u001b[32m━━━━━━━━━━━━━━━━━━━━\u001b[0m\u001b[37m\u001b[0m \u001b[1m85s\u001b[0m 29ms/step - loss: 0.5587 - mae: 0.5642 - val_loss: 0.8320 - val_mae: 0.7003\n",
            "Epoch 10/10\n",
            "\u001b[1m2501/2501\u001b[0m \u001b[32m━━━━━━━━━━━━━━━━━━━━\u001b[0m\u001b[37m\u001b[0m \u001b[1m78s\u001b[0m 27ms/step - loss: 0.5312 - mae: 0.5494 - val_loss: 0.8346 - val_mae: 0.6941\n",
            "\u001b[1m626/626\u001b[0m \u001b[32m━━━━━━━━━━━━━━━━━━━━\u001b[0m\u001b[37m\u001b[0m \u001b[1m6s\u001b[0m 9ms/step - loss: 0.8182 - mae: 0.6876\n",
            "Test Loss: 0.8346195220947266, Test MAE: 0.6940508484840393\n"
          ]
        }
      ],
      "source": [
        "# Function for Hyperparameter tuning\n",
        "def tune_hyperparameters(data, embedding_dim, lstm_units_1, lstm_units_2, dropout_rate):\n",
        "    sequences = data[['userId', 'movieId']].values\n",
        "    labels = data['rating'].values\n",
        "\n",
        "    # Train-test split (80-20 for now)\n",
        "    X_train, X_test, y_train, y_test = train_test_split(sequences, labels, test_size=0.2, random_state=42)\n",
        "\n",
        "    # Pad sequences\n",
        "    max_sequence_length = sequences.shape[1]\n",
        "    X_train = pad_sequences(X_train, maxlen=max_sequence_length)\n",
        "    X_test = pad_sequences(X_test, maxlen=max_sequence_length)\n",
        "\n",
        "    # Define the model\n",
        "    model = Sequential([\n",
        "        Embedding(input_dim=max(data['userId'].max(), data['movieId'].max()) + 1,\n",
        "                  output_dim=embedding_dim, input_length=max_sequence_length),\n",
        "        LSTM(lstm_units_1, return_sequences=True),\n",
        "        Dropout(dropout_rate),\n",
        "        LSTM(lstm_units_2),\n",
        "        Dropout(dropout_rate),\n",
        "        Dense(1, activation='linear')\n",
        "    ])\n",
        "\n",
        "    model.compile(optimizer='adam', loss='mean_squared_error', metrics=['mae'])\n",
        "\n",
        "    # Train the model\n",
        "    history = model.fit(X_train, y_train,\n",
        "                        validation_data=(X_test, y_test),\n",
        "                        epochs=10,\n",
        "                        batch_size=32,\n",
        "                        verbose=1)\n",
        "\n",
        "    # Evaluate the model\n",
        "    results = model.evaluate(X_test, y_test, verbose=1)\n",
        "\n",
        "    return results\n",
        "\n",
        "# Experiment with different hyperparameters\n",
        "hyperparameters = [\n",
        "    (50, 128, 64, 0.2),  # embedding_dim, lstm_units_1, lstm_units_2, dropout_rate\n",
        "    (100, 64, 32, 0.3),\n",
        "    (50, 256, 128, 0.1)\n",
        "]\n",
        "\n",
        "for embedding_dim, lstm_units_1, lstm_units_2, dropout_rate in hyperparameters:\n",
        "    print(f\"\\nTraining with embedding_dim={embedding_dim}, lstm_units_1={lstm_units_1}, lstm_units_2={lstm_units_2}, dropout_rate={dropout_rate}...\")\n",
        "    result = tune_hyperparameters(data, embedding_dim, lstm_units_1, lstm_units_2, dropout_rate)\n",
        "    print(f\"Test Loss: {result[0]}, Test MAE: {result[1]}\")"
      ]
    },
    {
      "cell_type": "markdown",
      "metadata": {
        "id": "isd3tKZW2txN"
      },
      "source": [
        "Evaluation Metrics after hyperparameter tuning and experimentation"
      ]
    },
    {
      "cell_type": "code",
      "execution_count": null,
      "metadata": {
        "colab": {
          "base_uri": "https://localhost:8080/"
        },
        "id": "wZy0Hf8b2uAM",
        "outputId": "ac98dd7b-eb55-427f-f1e0-a1ebf66b89f3"
      },
      "outputs": [
        {
          "name": "stdout",
          "output_type": "stream",
          "text": [
            "\u001b[1m313/313\u001b[0m \u001b[32m━━━━━━━━━━━━━━━━━━━━\u001b[0m\u001b[37m\u001b[0m \u001b[1m2s\u001b[0m 5ms/step\n",
            "Mean Absolute Error (MAE): 0.6927695687252716\n",
            "Root Mean Squared Error (RMSE): 0.9134531305538222\n",
            "Precision: 0.8942742340532396\n",
            "Recall: 0.8660019455252919\n",
            "F1-Score: 0.8799110452186805\n"
          ]
        },
        {
          "data": {
            "text/plain": [
              "(0.6927695687252716,\n",
              " 0.9134531305538222,\n",
              " 0.8942742340532396,\n",
              " 0.8660019455252919,\n",
              " 0.8799110452186805)"
            ]
          },
          "execution_count": 41,
          "metadata": {},
          "output_type": "execute_result"
        }
      ],
      "source": [
        "# Re-define the evaluation function with the updated model\n",
        "def evaluate_model(y_test, predictions):\n",
        "    mae = mean_absolute_error(y_test, predictions)\n",
        "    rmse = np.sqrt(mean_squared_error(y_test, predictions))\n",
        "\n",
        "    # Convert ratings to binary classes for classification metrics\n",
        "    threshold = 3.0  # Example threshold\n",
        "    y_test_binary = (y_test >= threshold).astype(int)\n",
        "    predictions_binary = (predictions.flatten() >= threshold).astype(int)\n",
        "\n",
        "    precision = precision_score(y_test_binary, predictions_binary, zero_division=1)\n",
        "    recall = recall_score(y_test_binary, predictions_binary, zero_division=1)\n",
        "    f1 = f1_score(y_test_binary, predictions_binary, zero_division=1)\n",
        "\n",
        "    # Print the metrics\n",
        "    print(f\"Mean Absolute Error (MAE): {mae}\")\n",
        "    print(f\"Root Mean Squared Error (RMSE): {rmse}\")\n",
        "    print(f\"Precision: {precision}\")\n",
        "    print(f\"Recall: {recall}\")\n",
        "    print(f\"F1-Score: {f1}\")\n",
        "    return mae, rmse, precision, recall, f1\n",
        "\n",
        "# After training and prediction, evaluate using the function\n",
        "predictions = model.predict(X_test)\n",
        "evaluate_model(y_test, predictions)"
      ]
    },
    {
      "cell_type": "markdown",
      "metadata": {
        "id": "srV8atQO2uRu"
      },
      "source": [
        "# Further fine tuning"
      ]
    },
    {
      "cell_type": "code",
      "execution_count": null,
      "metadata": {
        "id": "VC6lbtNd2ufh"
      },
      "outputs": [],
      "source": [
        "from keras.optimizers import Adam\n",
        "\n",
        "# Modify the learning rate\n",
        "learning_rate = 0.0005  # Reduce the learning rate for finer adjustments\n",
        "optimizer = Adam(learning_rate=learning_rate)\n",
        "\n",
        "# Modify the batch size for better convergence\n",
        "batch_size = 64  # A larger batch size might help the model generalize better\n",
        "\n",
        "model.compile(optimizer=optimizer, loss='mean_squared_error', metrics=['mae'])"
      ]
    },
    {
      "cell_type": "markdown",
      "metadata": {
        "id": "P7JaOMZC2utf"
      },
      "source": []
    },
    {
      "cell_type": "code",
      "execution_count": null,
      "metadata": {
        "colab": {
          "base_uri": "https://localhost:8080/"
        },
        "id": "NhzIJLuN2u6w",
        "outputId": "194cc229-9a19-41e9-bfa0-c69f8b2ba823"
      },
      "outputs": [
        {
          "name": "stderr",
          "output_type": "stream",
          "text": [
            "/usr/local/lib/python3.10/dist-packages/keras/src/layers/core/embedding.py:90: UserWarning: Argument `input_length` is deprecated. Just remove it.\n",
            "  warnings.warn(\n"
          ]
        }
      ],
      "source": [
        "# Modify the model by adding more layers or increasing units in existing layers\n",
        "model = Sequential([\n",
        "    Embedding(input_dim=max(data['userId'].max(), data['movieId'].max()) + 1,\n",
        "              output_dim=embedding_dim, input_length=max_sequence_length),\n",
        "    LSTM(256, return_sequences=True),  # Increase LSTM units for better learning capacity\n",
        "    Dropout(0.3),  # Increase dropout to prevent overfitting\n",
        "    LSTM(128),\n",
        "    Dropout(0.3),\n",
        "    Dense(64, activation='relu'),  # Add more Dense layers for better feature representation\n",
        "    Dense(1, activation='linear')\n",
        "])\n",
        "\n",
        "model.compile(optimizer=optimizer, loss='mean_squared_error', metrics=['mae'])"
      ]
    },
    {
      "cell_type": "markdown",
      "metadata": {
        "id": "njjB784O2vI3"
      },
      "source": []
    },
    {
      "cell_type": "code",
      "execution_count": null,
      "metadata": {
        "colab": {
          "base_uri": "https://localhost:8080/"
        },
        "id": "MswjpgjH2vWe",
        "outputId": "ed8b1376-a908-4fe1-ea49-e4955177b4c5"
      },
      "outputs": [
        {
          "name": "stderr",
          "output_type": "stream",
          "text": [
            "/usr/local/lib/python3.10/dist-packages/keras/src/layers/core/embedding.py:90: UserWarning: Argument `input_length` is deprecated. Just remove it.\n",
            "  warnings.warn(\n"
          ]
        }
      ],
      "source": [
        "from keras.regularizers import l2\n",
        "\n",
        "# Add L2 regularization to LSTM layers\n",
        "model = Sequential([\n",
        "    Embedding(input_dim=max(data['userId'].max(), data['movieId'].max()) + 1,\n",
        "              output_dim=embedding_dim, input_length=max_sequence_length),\n",
        "    LSTM(128, return_sequences=True, kernel_regularizer=l2(0.01)),  # L2 regularization\n",
        "    Dropout(0.2),\n",
        "    LSTM(64, kernel_regularizer=l2(0.01)),\n",
        "    Dropout(0.2),\n",
        "    Dense(1, activation='linear')\n",
        "])\n",
        "\n",
        "model.compile(optimizer=optimizer, loss='mean_squared_error', metrics=['mae'])"
      ]
    },
    {
      "cell_type": "markdown",
      "metadata": {
        "id": "jINJK1jr2vkj"
      },
      "source": []
    },
    {
      "cell_type": "code",
      "execution_count": null,
      "metadata": {
        "colab": {
          "background_save": true,
          "base_uri": "https://localhost:8080/"
        },
        "id": "1VwKOb_E2vxd",
        "outputId": "dbd6516e-92fa-4a8a-dbb9-cb04c725656e"
      },
      "outputs": [
        {
          "name": "stdout",
          "output_type": "stream",
          "text": [
            "Epoch 1/20\n"
          ]
        },
        {
          "name": "stderr",
          "output_type": "stream",
          "text": [
            "/usr/local/lib/python3.10/dist-packages/keras/src/layers/core/embedding.py:90: UserWarning: Argument `input_length` is deprecated. Just remove it.\n",
            "  warnings.warn(\n"
          ]
        },
        {
          "name": "stdout",
          "output_type": "stream",
          "text": [
            "\u001b[1m1407/1407\u001b[0m \u001b[32m━━━━━━━━━━━━━━━━━━━━\u001b[0m\u001b[37m\u001b[0m \u001b[1m58s\u001b[0m 30ms/step - loss: 3.0887 - mae: 1.2895 - val_loss: 0.8620 - val_mae: 0.7186\n",
            "Epoch 2/20\n",
            "\u001b[1m1407/1407\u001b[0m \u001b[32m━━━━━━━━━━━━━━━━━━━━\u001b[0m\u001b[37m\u001b[0m \u001b[1m25s\u001b[0m 17ms/step - loss: 0.9653 - mae: 0.7701 - val_loss: 0.8355 - val_mae: 0.7028\n",
            "Epoch 3/20\n",
            "\u001b[1m1407/1407\u001b[0m \u001b[32m━━━━━━━━━━━━━━━━━━━━\u001b[0m\u001b[37m\u001b[0m \u001b[1m27s\u001b[0m 19ms/step - loss: 0.8843 - mae: 0.7365 - val_loss: 0.8241 - val_mae: 0.7023\n",
            "Epoch 4/20\n",
            "\u001b[1m1407/1407\u001b[0m \u001b[32m━━━━━━━━━━━━━━━━━━━━\u001b[0m\u001b[37m\u001b[0m \u001b[1m42s\u001b[0m 20ms/step - loss: 0.8546 - mae: 0.7189 - val_loss: 0.8119 - val_mae: 0.6938\n",
            "Epoch 5/20\n",
            "\u001b[1m1407/1407\u001b[0m \u001b[32m━━━━━━━━━━━━━━━━━━━━\u001b[0m\u001b[37m\u001b[0m \u001b[1m42s\u001b[0m 20ms/step - loss: 0.8140 - mae: 0.6991 - val_loss: 0.8013 - val_mae: 0.6857\n",
            "Epoch 6/20\n",
            "\u001b[1m1407/1407\u001b[0m \u001b[32m━━━━━━━━━━━━━━━━━━━━\u001b[0m\u001b[37m\u001b[0m \u001b[1m40s\u001b[0m 19ms/step - loss: 0.7875 - mae: 0.6882 - val_loss: 0.7998 - val_mae: 0.6869\n",
            "Epoch 7/20\n",
            "\u001b[1m1407/1407\u001b[0m \u001b[32m━━━━━━━━━━━━━━━━━━━━\u001b[0m\u001b[37m\u001b[0m \u001b[1m43s\u001b[0m 21ms/step - loss: 0.7681 - mae: 0.6791 - val_loss: 0.7998 - val_mae: 0.6854\n",
            "Epoch 8/20\n",
            "\u001b[1m1407/1407\u001b[0m \u001b[32m━━━━━━━━━━━━━━━━━━━━\u001b[0m\u001b[37m\u001b[0m \u001b[1m39s\u001b[0m 20ms/step - loss: 0.7436 - mae: 0.6667 - val_loss: 0.7987 - val_mae: 0.6855\n",
            "Epoch 9/20\n",
            "\u001b[1m1407/1407\u001b[0m \u001b[32m━━━━━━━━━━━━━━━━━━━━\u001b[0m\u001b[37m\u001b[0m \u001b[1m44s\u001b[0m 22ms/step - loss: 0.7275 - mae: 0.6574 - val_loss: 0.7943 - val_mae: 0.6834\n",
            "Epoch 10/20\n",
            "\u001b[1m1407/1407\u001b[0m \u001b[32m━━━━━━━━━━━━━━━━━━━━\u001b[0m\u001b[37m\u001b[0m \u001b[1m26s\u001b[0m 19ms/step - loss: 0.7047 - mae: 0.6465 - val_loss: 0.7889 - val_mae: 0.6778\n",
            "Epoch 11/20\n",
            "\u001b[1m1407/1407\u001b[0m \u001b[32m━━━━━━━━━━━━━━━━━━━━\u001b[0m\u001b[37m\u001b[0m \u001b[1m41s\u001b[0m 19ms/step - loss: 0.6918 - mae: 0.6365 - val_loss: 0.7865 - val_mae: 0.6758\n",
            "Epoch 12/20\n",
            "\u001b[1m1407/1407\u001b[0m \u001b[32m━━━━━━━━━━━━━━━━━━━━\u001b[0m\u001b[37m\u001b[0m \u001b[1m41s\u001b[0m 19ms/step - loss: 0.6644 - mae: 0.6253 - val_loss: 0.7935 - val_mae: 0.6837\n",
            "Epoch 13/20\n",
            "\u001b[1m1407/1407\u001b[0m \u001b[32m━━━━━━━━━━━━━━━━━━━━\u001b[0m\u001b[37m\u001b[0m \u001b[1m27s\u001b[0m 19ms/step - loss: 0.6463 - mae: 0.6143 - val_loss: 0.8039 - val_mae: 0.6883\n",
            "Epoch 14/20\n",
            "\u001b[1m1407/1407\u001b[0m \u001b[32m━━━━━━━━━━━━━━━━━━━━\u001b[0m\u001b[37m\u001b[0m \u001b[1m29s\u001b[0m 21ms/step - loss: 0.6334 - mae: 0.6077 - val_loss: 0.8017 - val_mae: 0.6874\n",
            "Epoch 15/20\n",
            "\u001b[1m1407/1407\u001b[0m \u001b[32m━━━━━━━━━━━━━━━━━━━━\u001b[0m\u001b[37m\u001b[0m \u001b[1m26s\u001b[0m 19ms/step - loss: 0.6177 - mae: 0.5980 - val_loss: 0.8118 - val_mae: 0.6869\n",
            "Epoch 16/20\n",
            "\u001b[1m1407/1407\u001b[0m \u001b[32m━━━━━━━━━━━━━━━━━━━━\u001b[0m\u001b[37m\u001b[0m \u001b[1m40s\u001b[0m 18ms/step - loss: 0.6143 - mae: 0.5958 - val_loss: 0.8091 - val_mae: 0.6898\n",
            "Epoch 17/20\n",
            "\u001b[1m1407/1407\u001b[0m \u001b[32m━━━━━━━━━━━━━━━━━━━━\u001b[0m\u001b[37m\u001b[0m \u001b[1m40s\u001b[0m 17ms/step - loss: 0.6038 - mae: 0.5904 - val_loss: 0.8142 - val_mae: 0.6898\n",
            "Epoch 18/20\n",
            "\u001b[1m1407/1407\u001b[0m \u001b[32m━━━━━━━━━━━━━━━━━━━━\u001b[0m\u001b[37m\u001b[0m \u001b[1m44s\u001b[0m 20ms/step - loss: 0.5882 - mae: 0.5815 - val_loss: 0.8227 - val_mae: 0.6919\n",
            "Epoch 19/20\n",
            "\u001b[1m1407/1407\u001b[0m \u001b[32m━━━━━━━━━━━━━━━━━━━━\u001b[0m\u001b[37m\u001b[0m \u001b[1m25s\u001b[0m 18ms/step - loss: 0.5778 - mae: 0.5764 - val_loss: 0.8298 - val_mae: 0.6953\n",
            "Epoch 20/20\n",
            "\u001b[1m1407/1407\u001b[0m \u001b[32m━━━━━━━━━━━━━━━━━━━━\u001b[0m\u001b[37m\u001b[0m \u001b[1m42s\u001b[0m 18ms/step - loss: 0.5727 - mae: 0.5736 - val_loss: 0.8361 - val_mae: 0.6964\n"
          ]
        }
      ],
      "source": [
        "# Try tuning dropout rates and epochs\n",
        "model = Sequential([\n",
        "    Embedding(input_dim=max(data['userId'].max(), data['movieId'].max()) + 1,\n",
        "              output_dim=embedding_dim, input_length=max_sequence_length),\n",
        "    LSTM(128, return_sequences=True),\n",
        "    Dropout(0.4),  # Increase dropout to avoid overfitting\n",
        "    LSTM(64),\n",
        "    Dropout(0.4),\n",
        "    Dense(1, activation='linear')\n",
        "])\n",
        "\n",
        "model.compile(optimizer=optimizer, loss='mean_squared_error', metrics=['mae'])\n",
        "\n",
        "# Increase the number of epochs to allow more training\n",
        "epochs = 20\n",
        "history = model.fit(X_train, y_train, validation_data=(X_test, y_test), epochs=epochs,\n",
        "                    batch_size=batch_size, verbose=1)"
      ]
    },
    {
      "cell_type": "code",
      "execution_count": null,
      "metadata": {
        "colab": {
          "background_save": true
        },
        "id": "RkmA8Ph4IXVm",
        "outputId": "31cc3041-b016-4745-8b78-552794517a24"
      },
      "outputs": [
        {
          "name": "stdout",
          "output_type": "stream",
          "text": [
            "\u001b[1m313/313\u001b[0m \u001b[32m━━━━━━━━━━━━━━━━━━━━\u001b[0m\u001b[37m\u001b[0m \u001b[1m2s\u001b[0m 4ms/step\n",
            "Predictions saved to rnn_tuned_predictions.csv\n",
            "Mean Absolute Error (MAE): 0.6964489571297959\n",
            "Root Mean Squared Error (RMSE): 0.9143753497116135\n",
            "Precision: 0.8944263118252573\n",
            "Recall: 0.8663667315175098\n",
            "F1-Score: 0.8801729462631254\n"
          ]
        }
      ],
      "source": [
        "# Predict ratings for the test set\n",
        "predictions = model.predict(X_test)\n",
        "\n",
        "# Post-process and save the results\n",
        "results_df = pd.DataFrame({'Actual': y_test, 'Predicted': predictions.flatten()})\n",
        "results_df.to_csv('rnn_tuned_predictions.csv', index=False)\n",
        "print(\"Predictions saved to rnn_tuned_predictions.csv\")\n",
        "\n",
        "# Evaluate predictions with additional metrics\n",
        "mae = mean_absolute_error(y_test, predictions)\n",
        "rmse = np.sqrt(mean_squared_error(y_test, predictions))\n",
        "\n",
        "# Convert ratings to binary classes for classification metrics\n",
        "threshold = 3.0  # Example threshold\n",
        "y_test_binary = (y_test >= threshold).astype(int)\n",
        "predictions_binary = (predictions.flatten() >= threshold).astype(int)\n",
        "\n",
        "precision = precision_score(y_test_binary, predictions_binary, zero_division=1)\n",
        "recall = recall_score(y_test_binary, predictions_binary, zero_division=1)\n",
        "f1 = f1_score(y_test_binary, predictions_binary, zero_division=1)\n",
        "\n",
        "# Print the metrics after fine-tuning\n",
        "print(f\"Mean Absolute Error (MAE): {mae}\")\n",
        "print(f\"Root Mean Squared Error (RMSE): {rmse}\")\n",
        "print(f\"Precision: {precision}\")\n",
        "print(f\"Recall: {recall}\")\n",
        "print(f\"F1-Score: {f1}\")"
      ]
    },
    {
      "cell_type": "code",
      "execution_count": null,
      "metadata": {
        "id": "zMtyPxeIIbKe"
      },
      "outputs": [],
      "source": []
    }
  ],
  "metadata": {
    "colab": {
      "provenance": []
    },
    "kernelspec": {
      "display_name": "Python 3",
      "name": "python3"
    },
    "language_info": {
      "name": "python"
    }
  },
  "nbformat": 4,
  "nbformat_minor": 0
}