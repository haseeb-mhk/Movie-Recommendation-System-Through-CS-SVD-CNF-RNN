{
 "cells": [
  {
   "cell_type": "markdown",
   "id": "142c7e90-1fb9-454e-9a5f-02c7de5f4f79",
   "metadata": {},
   "source": [
    "# Neural Collaborative Filtering (NCF)"
   ]
  },
  {
   "cell_type": "code",
   "execution_count": 2,
   "id": "373df649-6fd3-432d-b7c5-2f0ee664a7a5",
   "metadata": {},
   "outputs": [],
   "source": [
    "\n",
    "import pandas as pd\n",
    "import numpy as np\n",
    "\n",
    "# To create deep learning models\n",
    "import tensorflow as tf\n",
    "from tensorflow import keras\n",
    "from keras.layers import Input, Embedding, Reshape, Dot, Concatenate, Dense, Dropout\n",
    "from keras.models import Model\n",
    "# from keras.utils.vis_utils import plot_model\n",
    "from tensorflow.keras.utils import plot_model\n",
    "\n",
    "\n",
    "# To stack sparse matrices\n",
    "from scipy.sparse import vstack\n",
    "# For visulazation\n",
    "import matplotlib.pyplot as plt\n",
    "\n",
    "from sklearn.metrics import mean_squared_error"
   ]
  },
  {
   "cell_type": "code",
   "execution_count": 28,
   "id": "24480b00-f11e-44f0-acf4-82781bdc3356",
   "metadata": {},
   "outputs": [
    {
     "name": "stdout",
     "output_type": "stream",
     "text": [
      "Shape of Ratings Dataset: (1000209, 3)\n",
      "   user_id  movie_id  rating\n",
      "0        1      1193       5\n",
      "1        1       661       3\n",
      "2        1       914       3\n",
      "3        1      3408       4\n",
      "4        1      2355       5\n",
      "\n",
      "Shape of Movies Dataset: (3883, 3)\n",
      "   movie_id                               title                        genres\n",
      "0         1                    Toy Story (1995)   Animation|Children's|Comedy\n",
      "1         2                      Jumanji (1995)  Adventure|Children's|Fantasy\n",
      "2         3             Grumpier Old Men (1995)                Comedy|Romance\n",
      "3         4            Waiting to Exhale (1995)                  Comedy|Drama\n",
      "4         5  Father of the Bride Part II (1995)                        Comedy\n"
     ]
    }
   ],
   "source": [
    "# Load datasets (replace with your file paths)\n",
    "ratings = pd.read_csv('Dataset/ratings.csv')\n",
    "movies = pd.read_csv('Dataset/movies.csv')\n",
    "\n",
    "# Drop unnecessary columns (like timestamp) from ratings\n",
    "ratings.drop(\"timestamp\", axis=1, inplace=True)\n",
    "\n",
    "# Display shapes and inspect the first few rows\n",
    "print(f\"Shape of Ratings Dataset: {ratings.shape}\")\n",
    "print(ratings.head())\n",
    "print()\n",
    "print(f\"Shape of Movies Dataset: {movies.shape}\")\n",
    "print(movies.head())"
   ]
  },
  {
   "cell_type": "markdown",
   "id": "5bfb4857-f58a-4297-b641-f23c27de53fb",
   "metadata": {},
   "source": [
    "# Transform The User-Ratings To User-Movie-Matrix"
   ]
  },
  {
   "cell_type": "code",
   "execution_count": 29,
   "id": "ad095569-412b-43ea-9dc5-b88728cbe28b",
   "metadata": {},
   "outputs": [
    {
     "name": "stdout",
     "output_type": "stream",
     "text": [
      "User-Movie Matrix Shape: (6040, 3706)\n"
     ]
    },
    {
     "data": {
      "text/html": [
       "<div>\n",
       "<style scoped>\n",
       "    .dataframe tbody tr th:only-of-type {\n",
       "        vertical-align: middle;\n",
       "    }\n",
       "\n",
       "    .dataframe tbody tr th {\n",
       "        vertical-align: top;\n",
       "    }\n",
       "\n",
       "    .dataframe thead th {\n",
       "        text-align: right;\n",
       "    }\n",
       "</style>\n",
       "<table border=\"1\" class=\"dataframe\">\n",
       "  <thead>\n",
       "    <tr style=\"text-align: right;\">\n",
       "      <th>movie_id</th>\n",
       "      <th>1</th>\n",
       "      <th>2</th>\n",
       "      <th>3</th>\n",
       "      <th>4</th>\n",
       "      <th>5</th>\n",
       "      <th>6</th>\n",
       "      <th>7</th>\n",
       "      <th>8</th>\n",
       "      <th>9</th>\n",
       "      <th>10</th>\n",
       "      <th>...</th>\n",
       "      <th>3943</th>\n",
       "      <th>3944</th>\n",
       "      <th>3945</th>\n",
       "      <th>3946</th>\n",
       "      <th>3947</th>\n",
       "      <th>3948</th>\n",
       "      <th>3949</th>\n",
       "      <th>3950</th>\n",
       "      <th>3951</th>\n",
       "      <th>3952</th>\n",
       "    </tr>\n",
       "    <tr>\n",
       "      <th>user_id</th>\n",
       "      <th></th>\n",
       "      <th></th>\n",
       "      <th></th>\n",
       "      <th></th>\n",
       "      <th></th>\n",
       "      <th></th>\n",
       "      <th></th>\n",
       "      <th></th>\n",
       "      <th></th>\n",
       "      <th></th>\n",
       "      <th></th>\n",
       "      <th></th>\n",
       "      <th></th>\n",
       "      <th></th>\n",
       "      <th></th>\n",
       "      <th></th>\n",
       "      <th></th>\n",
       "      <th></th>\n",
       "      <th></th>\n",
       "      <th></th>\n",
       "      <th></th>\n",
       "    </tr>\n",
       "  </thead>\n",
       "  <tbody>\n",
       "    <tr>\n",
       "      <th>5630</th>\n",
       "      <td>4.0</td>\n",
       "      <td>NaN</td>\n",
       "      <td>NaN</td>\n",
       "      <td>NaN</td>\n",
       "      <td>NaN</td>\n",
       "      <td>NaN</td>\n",
       "      <td>NaN</td>\n",
       "      <td>NaN</td>\n",
       "      <td>NaN</td>\n",
       "      <td>NaN</td>\n",
       "      <td>...</td>\n",
       "      <td>NaN</td>\n",
       "      <td>NaN</td>\n",
       "      <td>NaN</td>\n",
       "      <td>NaN</td>\n",
       "      <td>NaN</td>\n",
       "      <td>4.0</td>\n",
       "      <td>NaN</td>\n",
       "      <td>NaN</td>\n",
       "      <td>NaN</td>\n",
       "      <td>NaN</td>\n",
       "    </tr>\n",
       "    <tr>\n",
       "      <th>4918</th>\n",
       "      <td>3.0</td>\n",
       "      <td>NaN</td>\n",
       "      <td>NaN</td>\n",
       "      <td>NaN</td>\n",
       "      <td>NaN</td>\n",
       "      <td>4.0</td>\n",
       "      <td>NaN</td>\n",
       "      <td>NaN</td>\n",
       "      <td>NaN</td>\n",
       "      <td>NaN</td>\n",
       "      <td>...</td>\n",
       "      <td>NaN</td>\n",
       "      <td>NaN</td>\n",
       "      <td>NaN</td>\n",
       "      <td>NaN</td>\n",
       "      <td>NaN</td>\n",
       "      <td>NaN</td>\n",
       "      <td>NaN</td>\n",
       "      <td>NaN</td>\n",
       "      <td>NaN</td>\n",
       "      <td>NaN</td>\n",
       "    </tr>\n",
       "    <tr>\n",
       "      <th>3654</th>\n",
       "      <td>NaN</td>\n",
       "      <td>NaN</td>\n",
       "      <td>NaN</td>\n",
       "      <td>NaN</td>\n",
       "      <td>NaN</td>\n",
       "      <td>4.0</td>\n",
       "      <td>NaN</td>\n",
       "      <td>NaN</td>\n",
       "      <td>NaN</td>\n",
       "      <td>4.0</td>\n",
       "      <td>...</td>\n",
       "      <td>NaN</td>\n",
       "      <td>NaN</td>\n",
       "      <td>NaN</td>\n",
       "      <td>NaN</td>\n",
       "      <td>NaN</td>\n",
       "      <td>NaN</td>\n",
       "      <td>NaN</td>\n",
       "      <td>NaN</td>\n",
       "      <td>NaN</td>\n",
       "      <td>NaN</td>\n",
       "    </tr>\n",
       "    <tr>\n",
       "      <th>5245</th>\n",
       "      <td>NaN</td>\n",
       "      <td>NaN</td>\n",
       "      <td>NaN</td>\n",
       "      <td>2.0</td>\n",
       "      <td>2.0</td>\n",
       "      <td>NaN</td>\n",
       "      <td>NaN</td>\n",
       "      <td>NaN</td>\n",
       "      <td>NaN</td>\n",
       "      <td>NaN</td>\n",
       "      <td>...</td>\n",
       "      <td>NaN</td>\n",
       "      <td>NaN</td>\n",
       "      <td>NaN</td>\n",
       "      <td>NaN</td>\n",
       "      <td>NaN</td>\n",
       "      <td>NaN</td>\n",
       "      <td>NaN</td>\n",
       "      <td>NaN</td>\n",
       "      <td>NaN</td>\n",
       "      <td>NaN</td>\n",
       "    </tr>\n",
       "    <tr>\n",
       "      <th>225</th>\n",
       "      <td>4.0</td>\n",
       "      <td>NaN</td>\n",
       "      <td>NaN</td>\n",
       "      <td>2.0</td>\n",
       "      <td>NaN</td>\n",
       "      <td>4.0</td>\n",
       "      <td>NaN</td>\n",
       "      <td>NaN</td>\n",
       "      <td>NaN</td>\n",
       "      <td>NaN</td>\n",
       "      <td>...</td>\n",
       "      <td>NaN</td>\n",
       "      <td>NaN</td>\n",
       "      <td>NaN</td>\n",
       "      <td>1.0</td>\n",
       "      <td>NaN</td>\n",
       "      <td>NaN</td>\n",
       "      <td>5.0</td>\n",
       "      <td>NaN</td>\n",
       "      <td>NaN</td>\n",
       "      <td>NaN</td>\n",
       "    </tr>\n",
       "    <tr>\n",
       "      <th>3099</th>\n",
       "      <td>NaN</td>\n",
       "      <td>NaN</td>\n",
       "      <td>NaN</td>\n",
       "      <td>NaN</td>\n",
       "      <td>NaN</td>\n",
       "      <td>NaN</td>\n",
       "      <td>NaN</td>\n",
       "      <td>NaN</td>\n",
       "      <td>NaN</td>\n",
       "      <td>NaN</td>\n",
       "      <td>...</td>\n",
       "      <td>NaN</td>\n",
       "      <td>NaN</td>\n",
       "      <td>NaN</td>\n",
       "      <td>NaN</td>\n",
       "      <td>NaN</td>\n",
       "      <td>NaN</td>\n",
       "      <td>NaN</td>\n",
       "      <td>NaN</td>\n",
       "      <td>NaN</td>\n",
       "      <td>NaN</td>\n",
       "    </tr>\n",
       "  </tbody>\n",
       "</table>\n",
       "<p>6 rows × 3706 columns</p>\n",
       "</div>"
      ],
      "text/plain": [
       "movie_id  1     2     3     4     5     6     7     8     9     10    ...  \\\n",
       "user_id                                                               ...   \n",
       "5630       4.0   NaN   NaN   NaN   NaN   NaN   NaN   NaN   NaN   NaN  ...   \n",
       "4918       3.0   NaN   NaN   NaN   NaN   4.0   NaN   NaN   NaN   NaN  ...   \n",
       "3654       NaN   NaN   NaN   NaN   NaN   4.0   NaN   NaN   NaN   4.0  ...   \n",
       "5245       NaN   NaN   NaN   2.0   2.0   NaN   NaN   NaN   NaN   NaN  ...   \n",
       "225        4.0   NaN   NaN   2.0   NaN   4.0   NaN   NaN   NaN   NaN  ...   \n",
       "3099       NaN   NaN   NaN   NaN   NaN   NaN   NaN   NaN   NaN   NaN  ...   \n",
       "\n",
       "movie_id  3943  3944  3945  3946  3947  3948  3949  3950  3951  3952  \n",
       "user_id                                                               \n",
       "5630       NaN   NaN   NaN   NaN   NaN   4.0   NaN   NaN   NaN   NaN  \n",
       "4918       NaN   NaN   NaN   NaN   NaN   NaN   NaN   NaN   NaN   NaN  \n",
       "3654       NaN   NaN   NaN   NaN   NaN   NaN   NaN   NaN   NaN   NaN  \n",
       "5245       NaN   NaN   NaN   NaN   NaN   NaN   NaN   NaN   NaN   NaN  \n",
       "225        NaN   NaN   NaN   1.0   NaN   NaN   5.0   NaN   NaN   NaN  \n",
       "3099       NaN   NaN   NaN   NaN   NaN   NaN   NaN   NaN   NaN   NaN  \n",
       "\n",
       "[6 rows x 3706 columns]"
      ]
     },
     "execution_count": 29,
     "metadata": {},
     "output_type": "execute_result"
    }
   ],
   "source": [
    "# Create the user-movie interaction matrix\n",
    "df_p = ratings.pivot_table(index='user_id', columns='movie_id', values='rating')\n",
    "print(f\"User-Movie Matrix Shape: {df_p.shape}\")\n",
    "\n",
    "# Inspect a few samples\n",
    "df_p.sample(6)\n"
   ]
  },
  {
   "cell_type": "code",
   "execution_count": 5,
   "id": "63427050-ad50-46dd-90db-f50d4c52e38b",
   "metadata": {},
   "outputs": [],
   "source": [
    "df = movie_ratings\n",
    "\n",
    "\n",
    "#create mappings or enconding \n",
    "user_ids = df[\"user_id\"].unique().tolist()\n",
    "user2user_encoded = {x: i for i, x in enumerate(user_ids)} #assigning a unique index to each user\n",
    "userencoded2user = {i: x for i, x in enumerate(user_ids)} #mapping the index back to orignal user_id\n",
    "\n",
    "movie_ids = df[\"movie_id\"].unique().tolist()\n",
    "movie2movie_encoded = {x: i for i, x in enumerate(movie_ids)} # assigning a unique index to each movie\n",
    "movie_encoded2movie = {i: x for i, x in enumerate(movie_ids)} # mapping the indexes back to orignal movie_id\n",
    "\n",
    "# adding the columns to datafram\n",
    "df[\"user\"] = df[\"user_id\"].map(user2user_encoded)\n",
    "df[\"movie\"] = df[\"movie_id\"].map(movie2movie_encoded)\n",
    "\n",
    "# Determining number of unique users and movies\n",
    "num_users = len(user2user_encoded)\n",
    "num_movies = len(movie_encoded2movie)\n",
    "\n",
    " # shuffle the rows of the dataframe to ensure that the training, validation, and test sets are random and not ordered by some pattern.\n",
    "df = df.sample(frac=1, random_state=42)\n",
    "\n",
    "\n",
    "# x contains the pairs of encoded user and movie IDs. These are the inputs to the model.\n",
    "# It's a 2D array where each row represents a user-movie pair.\n",
    "\n",
    "x = df[[\"user\", \"movie\"]].values\n",
    "\n",
    "# y represents the normalized ratings.\n",
    "y = df[\"rating\"].apply(lambda x: (x - 0.5) / (4.5)).values\n",
    "\n",
    "# Prepare training, validation and testing data \n",
    "# training on 90% of the data, validating on 10% and testing on 1000 seperate samples.\n",
    "train_indices = int(0.8 * df.shape[0])  # 80% for training\n",
    "val_indices = int(0.9 * df.shape[0])    # 10% for validation\n",
    "x_train, x_val, x_test, y_train, y_val, y_test = (\n",
    "    x[:train_indices],\n",
    "    x[train_indices:val_indices],\n",
    "    x[val_indices:],\n",
    "    y[:train_indices],\n",
    "    y[train_indices:val_indices],\n",
    "    y[val_indices:],\n",
    ")\n"
   ]
  },
  {
   "cell_type": "markdown",
   "id": "29ec0e94-3b58-4f9e-bb1d-482e617b7f32",
   "metadata": {},
   "source": [
    "# creating the model"
   ]
  },
  {
   "cell_type": "code",
   "execution_count": 88,
   "id": "c0fa3585-79e2-46c8-9c5e-a9920669087b",
   "metadata": {},
   "outputs": [
    {
     "name": "stdout",
     "output_type": "stream",
     "text": [
      "Epoch 1/6\n",
      "\u001b[1m3126/3126\u001b[0m \u001b[32m━━━━━━━━━━━━━━━━━━━━\u001b[0m\u001b[37m\u001b[0m \u001b[1m137s\u001b[0m 43ms/step - loss: 0.0468 - val_loss: 0.0434\n",
      "Epoch 2/6\n",
      "\u001b[1m3126/3126\u001b[0m \u001b[32m━━━━━━━━━━━━━━━━━━━━\u001b[0m\u001b[37m\u001b[0m \u001b[1m135s\u001b[0m 43ms/step - loss: 0.0428 - val_loss: 0.0427\n",
      "Epoch 3/6\n",
      "\u001b[1m3126/3126\u001b[0m \u001b[32m━━━━━━━━━━━━━━━━━━━━\u001b[0m\u001b[37m\u001b[0m \u001b[1m142s\u001b[0m 43ms/step - loss: 0.0422 - val_loss: 0.0424\n",
      "Epoch 4/6\n",
      "\u001b[1m3126/3126\u001b[0m \u001b[32m━━━━━━━━━━━━━━━━━━━━\u001b[0m\u001b[37m\u001b[0m \u001b[1m140s\u001b[0m 42ms/step - loss: 0.0419 - val_loss: 0.0422\n",
      "Epoch 5/6\n",
      "\u001b[1m3126/3126\u001b[0m \u001b[32m━━━━━━━━━━━━━━━━━━━━\u001b[0m\u001b[37m\u001b[0m \u001b[1m141s\u001b[0m 42ms/step - loss: 0.0418 - val_loss: 0.0421\n",
      "Epoch 6/6\n",
      "\u001b[1m3126/3126\u001b[0m \u001b[32m━━━━━━━━━━━━━━━━━━━━\u001b[0m\u001b[37m\u001b[0m \u001b[1m144s\u001b[0m 43ms/step - loss: 0.0415 - val_loss: 0.0420\n"
     ]
    }
   ],
   "source": [
    "#embed both users and movies in to 50-dimensional vectors, controls the size of the dense vector for each user and movie.\n",
    "embedding_size= 200   # embedding size is increases from 50 to 100 for model performance improvement\n",
    "\n",
    "\n",
    "\n",
    "# Create model\n",
    "# Set input layers\n",
    "user_id_input = Input(shape=[1], name='user')\n",
    "movie_id_input = Input(shape=[1], name='movie')\n",
    "\n",
    "# Create embedding layers for users and movies, Embedding layer converts the integer-encoded user and movie IDs\n",
    "#into dense vectors (embeddings) of size embedding_size (200 in this case)., the below two layers will perform GMF for movies and users\n",
    "user_embedding = Embedding(output_dim=embedding_size, \n",
    "                           input_dim=num_users,\n",
    "                           input_length=1, \n",
    "                           embeddings_initializer=\"he_normal\",\n",
    "                           embeddings_regularizer=keras.regularizers.l2(1e-6),\n",
    "                           name='user_embedding')(user_id_input)\n",
    "movie_embedding = Embedding(output_dim=embedding_size, \n",
    "                            input_dim=num_movies,\n",
    "                            input_length=1, \n",
    "                            embeddings_initializer=\"he_normal\",\n",
    "                            embeddings_regularizer=keras.regularizers.l2(1e-6),\n",
    "                            name='movie_embedding')(movie_id_input)\n",
    "\n",
    "# Reshape the embedding layers, Reshape layer,\n",
    "#The Embedding layer produces a tensor of shape (batch_size, 1, embedding_size) for both user and movie. You use the Reshape layer \n",
    "#to reshape the output to (batch_size, embedding_size) so that each user and movie is represented as a flat vector of size embedding_size.\n",
    "user_vector = Reshape([embedding_size])(user_embedding)\n",
    "movie_vector = Reshape([embedding_size])(movie_embedding)\n",
    "\n",
    "# Concatenate the reshaped embedding layers, and pass it to the neural network \n",
    "concat = Concatenate()([user_vector, movie_vector])\n",
    "#concat = Dot(1, normalize=False)([user_vector, movie_vector])\n",
    "\n",
    "# Combine with dense layers, the below layers will work as MLP layer\n",
    "dense1 = Dense(256)(concat)\n",
    "dense = Dropout(0.2)(dense1)\n",
    "y = Dense(1, activation=\"sigmoid\")(dense) # The sigmoid activation forces the rating to between 0 and 1\n",
    "\n",
    "\n",
    "# compile model\n",
    "model = Model(inputs=[user_id_input, movie_id_input], outputs=y)\n",
    "model.compile(loss='mse',  optimizer = 'adam')\n",
    " \n",
    "\n",
    "# Fit the model\n",
    "history = model.fit(x = [x_train[:,0],x_train[:,1]],\n",
    "          y = y_train,\n",
    "          batch_size=256, \n",
    "          epochs=6,\n",
    "          validation_data = ([x_val[:,0], x_val[:,1]], y_val),\n",
    "          )\n",
    "     "
   ]
  },
  {
   "cell_type": "code",
   "execution_count": 89,
   "id": "537ab037-9335-4ddd-8c8f-4ac6f828257b",
   "metadata": {},
   "outputs": [
    {
     "data": {
      "text/html": [
       "<pre style=\"white-space:pre;overflow-x:auto;line-height:normal;font-family:Menlo,'DejaVu Sans Mono',consolas,'Courier New',monospace\"><span style=\"font-weight: bold\">Model: \"functional_9\"</span>\n",
       "</pre>\n"
      ],
      "text/plain": [
       "\u001b[1mModel: \"functional_9\"\u001b[0m\n"
      ]
     },
     "metadata": {},
     "output_type": "display_data"
    },
    {
     "data": {
      "text/html": [
       "<pre style=\"white-space:pre;overflow-x:auto;line-height:normal;font-family:Menlo,'DejaVu Sans Mono',consolas,'Courier New',monospace\">┏━━━━━━━━━━━━━━━━━━━━━━━━━━━━━━━┳━━━━━━━━━━━━━━━━━━━━━━━━━━━┳━━━━━━━━━━━━━━━━━┳━━━━━━━━━━━━━━━━━━━━━━━━━━━━┓\n",
       "┃<span style=\"font-weight: bold\"> Layer (type)                  </span>┃<span style=\"font-weight: bold\"> Output Shape              </span>┃<span style=\"font-weight: bold\">         Param # </span>┃<span style=\"font-weight: bold\"> Connected to               </span>┃\n",
       "┡━━━━━━━━━━━━━━━━━━━━━━━━━━━━━━━╇━━━━━━━━━━━━━━━━━━━━━━━━━━━╇━━━━━━━━━━━━━━━━━╇━━━━━━━━━━━━━━━━━━━━━━━━━━━━┩\n",
       "│ user (<span style=\"color: #0087ff; text-decoration-color: #0087ff\">InputLayer</span>)             │ (<span style=\"color: #00d7ff; text-decoration-color: #00d7ff\">None</span>, <span style=\"color: #00af00; text-decoration-color: #00af00\">1</span>)                 │               <span style=\"color: #00af00; text-decoration-color: #00af00\">0</span> │ -                          │\n",
       "├───────────────────────────────┼───────────────────────────┼─────────────────┼────────────────────────────┤\n",
       "│ movie (<span style=\"color: #0087ff; text-decoration-color: #0087ff\">InputLayer</span>)            │ (<span style=\"color: #00d7ff; text-decoration-color: #00d7ff\">None</span>, <span style=\"color: #00af00; text-decoration-color: #00af00\">1</span>)                 │               <span style=\"color: #00af00; text-decoration-color: #00af00\">0</span> │ -                          │\n",
       "├───────────────────────────────┼───────────────────────────┼─────────────────┼────────────────────────────┤\n",
       "│ user_embedding (<span style=\"color: #0087ff; text-decoration-color: #0087ff\">Embedding</span>)    │ (<span style=\"color: #00d7ff; text-decoration-color: #00d7ff\">None</span>, <span style=\"color: #00af00; text-decoration-color: #00af00\">1</span>, <span style=\"color: #00af00; text-decoration-color: #00af00\">200</span>)            │       <span style=\"color: #00af00; text-decoration-color: #00af00\">1,208,000</span> │ user[<span style=\"color: #00af00; text-decoration-color: #00af00\">0</span>][<span style=\"color: #00af00; text-decoration-color: #00af00\">0</span>]                 │\n",
       "├───────────────────────────────┼───────────────────────────┼─────────────────┼────────────────────────────┤\n",
       "│ movie_embedding (<span style=\"color: #0087ff; text-decoration-color: #0087ff\">Embedding</span>)   │ (<span style=\"color: #00d7ff; text-decoration-color: #00d7ff\">None</span>, <span style=\"color: #00af00; text-decoration-color: #00af00\">1</span>, <span style=\"color: #00af00; text-decoration-color: #00af00\">200</span>)            │         <span style=\"color: #00af00; text-decoration-color: #00af00\">741,200</span> │ movie[<span style=\"color: #00af00; text-decoration-color: #00af00\">0</span>][<span style=\"color: #00af00; text-decoration-color: #00af00\">0</span>]                │\n",
       "├───────────────────────────────┼───────────────────────────┼─────────────────┼────────────────────────────┤\n",
       "│ reshape_18 (<span style=\"color: #0087ff; text-decoration-color: #0087ff\">Reshape</span>)          │ (<span style=\"color: #00d7ff; text-decoration-color: #00d7ff\">None</span>, <span style=\"color: #00af00; text-decoration-color: #00af00\">200</span>)               │               <span style=\"color: #00af00; text-decoration-color: #00af00\">0</span> │ user_embedding[<span style=\"color: #00af00; text-decoration-color: #00af00\">0</span>][<span style=\"color: #00af00; text-decoration-color: #00af00\">0</span>]       │\n",
       "├───────────────────────────────┼───────────────────────────┼─────────────────┼────────────────────────────┤\n",
       "│ reshape_19 (<span style=\"color: #0087ff; text-decoration-color: #0087ff\">Reshape</span>)          │ (<span style=\"color: #00d7ff; text-decoration-color: #00d7ff\">None</span>, <span style=\"color: #00af00; text-decoration-color: #00af00\">200</span>)               │               <span style=\"color: #00af00; text-decoration-color: #00af00\">0</span> │ movie_embedding[<span style=\"color: #00af00; text-decoration-color: #00af00\">0</span>][<span style=\"color: #00af00; text-decoration-color: #00af00\">0</span>]      │\n",
       "├───────────────────────────────┼───────────────────────────┼─────────────────┼────────────────────────────┤\n",
       "│ concatenate_9 (<span style=\"color: #0087ff; text-decoration-color: #0087ff\">Concatenate</span>)   │ (<span style=\"color: #00d7ff; text-decoration-color: #00d7ff\">None</span>, <span style=\"color: #00af00; text-decoration-color: #00af00\">400</span>)               │               <span style=\"color: #00af00; text-decoration-color: #00af00\">0</span> │ reshape_18[<span style=\"color: #00af00; text-decoration-color: #00af00\">0</span>][<span style=\"color: #00af00; text-decoration-color: #00af00\">0</span>],          │\n",
       "│                               │                           │                 │ reshape_19[<span style=\"color: #00af00; text-decoration-color: #00af00\">0</span>][<span style=\"color: #00af00; text-decoration-color: #00af00\">0</span>]           │\n",
       "├───────────────────────────────┼───────────────────────────┼─────────────────┼────────────────────────────┤\n",
       "│ dense_18 (<span style=\"color: #0087ff; text-decoration-color: #0087ff\">Dense</span>)              │ (<span style=\"color: #00d7ff; text-decoration-color: #00d7ff\">None</span>, <span style=\"color: #00af00; text-decoration-color: #00af00\">256</span>)               │         <span style=\"color: #00af00; text-decoration-color: #00af00\">102,656</span> │ concatenate_9[<span style=\"color: #00af00; text-decoration-color: #00af00\">0</span>][<span style=\"color: #00af00; text-decoration-color: #00af00\">0</span>]        │\n",
       "├───────────────────────────────┼───────────────────────────┼─────────────────┼────────────────────────────┤\n",
       "│ dropout_9 (<span style=\"color: #0087ff; text-decoration-color: #0087ff\">Dropout</span>)           │ (<span style=\"color: #00d7ff; text-decoration-color: #00d7ff\">None</span>, <span style=\"color: #00af00; text-decoration-color: #00af00\">256</span>)               │               <span style=\"color: #00af00; text-decoration-color: #00af00\">0</span> │ dense_18[<span style=\"color: #00af00; text-decoration-color: #00af00\">0</span>][<span style=\"color: #00af00; text-decoration-color: #00af00\">0</span>]             │\n",
       "├───────────────────────────────┼───────────────────────────┼─────────────────┼────────────────────────────┤\n",
       "│ dense_19 (<span style=\"color: #0087ff; text-decoration-color: #0087ff\">Dense</span>)              │ (<span style=\"color: #00d7ff; text-decoration-color: #00d7ff\">None</span>, <span style=\"color: #00af00; text-decoration-color: #00af00\">1</span>)                 │             <span style=\"color: #00af00; text-decoration-color: #00af00\">257</span> │ dropout_9[<span style=\"color: #00af00; text-decoration-color: #00af00\">0</span>][<span style=\"color: #00af00; text-decoration-color: #00af00\">0</span>]            │\n",
       "└───────────────────────────────┴───────────────────────────┴─────────────────┴────────────────────────────┘\n",
       "</pre>\n"
      ],
      "text/plain": [
       "┏━━━━━━━━━━━━━━━━━━━━━━━━━━━━━━━┳━━━━━━━━━━━━━━━━━━━━━━━━━━━┳━━━━━━━━━━━━━━━━━┳━━━━━━━━━━━━━━━━━━━━━━━━━━━━┓\n",
       "┃\u001b[1m \u001b[0m\u001b[1mLayer (type)                 \u001b[0m\u001b[1m \u001b[0m┃\u001b[1m \u001b[0m\u001b[1mOutput Shape             \u001b[0m\u001b[1m \u001b[0m┃\u001b[1m \u001b[0m\u001b[1m        Param #\u001b[0m\u001b[1m \u001b[0m┃\u001b[1m \u001b[0m\u001b[1mConnected to              \u001b[0m\u001b[1m \u001b[0m┃\n",
       "┡━━━━━━━━━━━━━━━━━━━━━━━━━━━━━━━╇━━━━━━━━━━━━━━━━━━━━━━━━━━━╇━━━━━━━━━━━━━━━━━╇━━━━━━━━━━━━━━━━━━━━━━━━━━━━┩\n",
       "│ user (\u001b[38;5;33mInputLayer\u001b[0m)             │ (\u001b[38;5;45mNone\u001b[0m, \u001b[38;5;34m1\u001b[0m)                 │               \u001b[38;5;34m0\u001b[0m │ -                          │\n",
       "├───────────────────────────────┼───────────────────────────┼─────────────────┼────────────────────────────┤\n",
       "│ movie (\u001b[38;5;33mInputLayer\u001b[0m)            │ (\u001b[38;5;45mNone\u001b[0m, \u001b[38;5;34m1\u001b[0m)                 │               \u001b[38;5;34m0\u001b[0m │ -                          │\n",
       "├───────────────────────────────┼───────────────────────────┼─────────────────┼────────────────────────────┤\n",
       "│ user_embedding (\u001b[38;5;33mEmbedding\u001b[0m)    │ (\u001b[38;5;45mNone\u001b[0m, \u001b[38;5;34m1\u001b[0m, \u001b[38;5;34m200\u001b[0m)            │       \u001b[38;5;34m1,208,000\u001b[0m │ user[\u001b[38;5;34m0\u001b[0m][\u001b[38;5;34m0\u001b[0m]                 │\n",
       "├───────────────────────────────┼───────────────────────────┼─────────────────┼────────────────────────────┤\n",
       "│ movie_embedding (\u001b[38;5;33mEmbedding\u001b[0m)   │ (\u001b[38;5;45mNone\u001b[0m, \u001b[38;5;34m1\u001b[0m, \u001b[38;5;34m200\u001b[0m)            │         \u001b[38;5;34m741,200\u001b[0m │ movie[\u001b[38;5;34m0\u001b[0m][\u001b[38;5;34m0\u001b[0m]                │\n",
       "├───────────────────────────────┼───────────────────────────┼─────────────────┼────────────────────────────┤\n",
       "│ reshape_18 (\u001b[38;5;33mReshape\u001b[0m)          │ (\u001b[38;5;45mNone\u001b[0m, \u001b[38;5;34m200\u001b[0m)               │               \u001b[38;5;34m0\u001b[0m │ user_embedding[\u001b[38;5;34m0\u001b[0m][\u001b[38;5;34m0\u001b[0m]       │\n",
       "├───────────────────────────────┼───────────────────────────┼─────────────────┼────────────────────────────┤\n",
       "│ reshape_19 (\u001b[38;5;33mReshape\u001b[0m)          │ (\u001b[38;5;45mNone\u001b[0m, \u001b[38;5;34m200\u001b[0m)               │               \u001b[38;5;34m0\u001b[0m │ movie_embedding[\u001b[38;5;34m0\u001b[0m][\u001b[38;5;34m0\u001b[0m]      │\n",
       "├───────────────────────────────┼───────────────────────────┼─────────────────┼────────────────────────────┤\n",
       "│ concatenate_9 (\u001b[38;5;33mConcatenate\u001b[0m)   │ (\u001b[38;5;45mNone\u001b[0m, \u001b[38;5;34m400\u001b[0m)               │               \u001b[38;5;34m0\u001b[0m │ reshape_18[\u001b[38;5;34m0\u001b[0m][\u001b[38;5;34m0\u001b[0m],          │\n",
       "│                               │                           │                 │ reshape_19[\u001b[38;5;34m0\u001b[0m][\u001b[38;5;34m0\u001b[0m]           │\n",
       "├───────────────────────────────┼───────────────────────────┼─────────────────┼────────────────────────────┤\n",
       "│ dense_18 (\u001b[38;5;33mDense\u001b[0m)              │ (\u001b[38;5;45mNone\u001b[0m, \u001b[38;5;34m256\u001b[0m)               │         \u001b[38;5;34m102,656\u001b[0m │ concatenate_9[\u001b[38;5;34m0\u001b[0m][\u001b[38;5;34m0\u001b[0m]        │\n",
       "├───────────────────────────────┼───────────────────────────┼─────────────────┼────────────────────────────┤\n",
       "│ dropout_9 (\u001b[38;5;33mDropout\u001b[0m)           │ (\u001b[38;5;45mNone\u001b[0m, \u001b[38;5;34m256\u001b[0m)               │               \u001b[38;5;34m0\u001b[0m │ dense_18[\u001b[38;5;34m0\u001b[0m][\u001b[38;5;34m0\u001b[0m]             │\n",
       "├───────────────────────────────┼───────────────────────────┼─────────────────┼────────────────────────────┤\n",
       "│ dense_19 (\u001b[38;5;33mDense\u001b[0m)              │ (\u001b[38;5;45mNone\u001b[0m, \u001b[38;5;34m1\u001b[0m)                 │             \u001b[38;5;34m257\u001b[0m │ dropout_9[\u001b[38;5;34m0\u001b[0m][\u001b[38;5;34m0\u001b[0m]            │\n",
       "└───────────────────────────────┴───────────────────────────┴─────────────────┴────────────────────────────┘\n"
      ]
     },
     "metadata": {},
     "output_type": "display_data"
    },
    {
     "data": {
      "text/html": [
       "<pre style=\"white-space:pre;overflow-x:auto;line-height:normal;font-family:Menlo,'DejaVu Sans Mono',consolas,'Courier New',monospace\"><span style=\"font-weight: bold\"> Total params: </span><span style=\"color: #00af00; text-decoration-color: #00af00\">6,156,341</span> (23.48 MB)\n",
       "</pre>\n"
      ],
      "text/plain": [
       "\u001b[1m Total params: \u001b[0m\u001b[38;5;34m6,156,341\u001b[0m (23.48 MB)\n"
      ]
     },
     "metadata": {},
     "output_type": "display_data"
    },
    {
     "data": {
      "text/html": [
       "<pre style=\"white-space:pre;overflow-x:auto;line-height:normal;font-family:Menlo,'DejaVu Sans Mono',consolas,'Courier New',monospace\"><span style=\"font-weight: bold\"> Trainable params: </span><span style=\"color: #00af00; text-decoration-color: #00af00\">2,052,113</span> (7.83 MB)\n",
       "</pre>\n"
      ],
      "text/plain": [
       "\u001b[1m Trainable params: \u001b[0m\u001b[38;5;34m2,052,113\u001b[0m (7.83 MB)\n"
      ]
     },
     "metadata": {},
     "output_type": "display_data"
    },
    {
     "data": {
      "text/html": [
       "<pre style=\"white-space:pre;overflow-x:auto;line-height:normal;font-family:Menlo,'DejaVu Sans Mono',consolas,'Courier New',monospace\"><span style=\"font-weight: bold\"> Non-trainable params: </span><span style=\"color: #00af00; text-decoration-color: #00af00\">0</span> (0.00 B)\n",
       "</pre>\n"
      ],
      "text/plain": [
       "\u001b[1m Non-trainable params: \u001b[0m\u001b[38;5;34m0\u001b[0m (0.00 B)\n"
      ]
     },
     "metadata": {},
     "output_type": "display_data"
    },
    {
     "data": {
      "text/html": [
       "<pre style=\"white-space:pre;overflow-x:auto;line-height:normal;font-family:Menlo,'DejaVu Sans Mono',consolas,'Courier New',monospace\"><span style=\"font-weight: bold\"> Optimizer params: </span><span style=\"color: #00af00; text-decoration-color: #00af00\">4,104,228</span> (15.66 MB)\n",
       "</pre>\n"
      ],
      "text/plain": [
       "\u001b[1m Optimizer params: \u001b[0m\u001b[38;5;34m4,104,228\u001b[0m (15.66 MB)\n"
      ]
     },
     "metadata": {},
     "output_type": "display_data"
    }
   ],
   "source": [
    "\n",
    "model.summary()"
   ]
  },
  {
   "cell_type": "code",
   "execution_count": 90,
   "id": "627f0887-d503-4c95-a3d2-09e56be87b13",
   "metadata": {},
   "outputs": [],
   "source": [
    "# plot_model(model, to_file='model_plot.png', show_shapes=True, show_layer_names=True)"
   ]
  },
  {
   "cell_type": "code",
   "execution_count": 91,
   "id": "aa11ab60-267e-42ad-87fb-d1e0810ed17a",
   "metadata": {},
   "outputs": [
    {
     "data": {
      "image/png": "[encoded data removed]",
      "text/plain": [
       "<Figure size 640x480 with 1 Axes>"
      ]
     },
     "metadata": {},
     "output_type": "display_data"
    }
   ],
   "source": [
    "plt.plot(history.history[\"loss\"])\n",
    "plt.plot(history.history[\"val_loss\"])\n",
    "plt.title(\"model loss\")\n",
    "plt.ylabel(\"loss\")\n",
    "plt.xlabel(\"epoch\")\n",
    "plt.legend([\"train\", \"test\"], loc=\"upper right\")\n",
    "plt.show()"
   ]
  },
  {
   "cell_type": "code",
   "execution_count": null,
   "id": "db3ea60f-fa2f-4f2b-9839-7e07b0f294e5",
   "metadata": {},
   "outputs": [],
   "source": []
  },
  {
   "cell_type": "code",
   "execution_count": 92,
   "id": "0c8c08cc-500d-4022-8ad8-9eb412e70e23",
   "metadata": {},
   "outputs": [
    {
     "name": "stdout",
     "output_type": "stream",
     "text": [
      "\u001b[1m1/1\u001b[0m \u001b[32m━━━━━━━━━━━━━━━━━━━━\u001b[0m\u001b[37m\u001b[0m \u001b[1m0s\u001b[0m 291ms/step\n",
      "ratings are Normalized between 0 and 1 (0.5 - 5.0)\n",
      "predicted rating is : [0.9]        actual rating was : 1.0\n",
      "predicted rating is : [0.93]        actual rating was : 1.0\n",
      "predicted rating is : [0.94]        actual rating was : 1.0\n",
      "predicted rating is : [0.81]        actual rating was : 0.33\n",
      "predicted rating is : [0.54]        actual rating was : 0.33\n",
      "predicted rating is : [0.73]        actual rating was : 1.0\n",
      "predicted rating is : [0.54]        actual rating was : 0.56\n",
      "predicted rating is : [0.81]        actual rating was : 0.78\n",
      "predicted rating is : [0.22]        actual rating was : 0.33\n",
      "predicted rating is : [0.86]        actual rating was : 0.11\n",
      "predicted rating is : [0.71]        actual rating was : 0.56\n",
      "predicted rating is : [0.81]        actual rating was : 0.78\n",
      "predicted rating is : [0.82]        actual rating was : 0.78\n",
      "predicted rating is : [0.59]        actual rating was : 0.56\n",
      "predicted rating is : [0.72]        actual rating was : 1.0\n"
     ]
    }
   ],
   "source": [
    "# Test model\n",
    "p , a = (model.predict([x_test[:15,0], x_test[:15,1]]) , y_test[:15])\n",
    "print(\"ratings are Normalized between 0 and 1 (0.5 - 5.0)\")\n",
    "for i in range(len(p)):\n",
    "    print(\"predicted rating is : \"+ str(np.round(p[i],2)) +\"        actual rating was : \"+ str(round(a[i],2)) )\n",
    "     "
   ]
  },
  {
   "cell_type": "code",
   "execution_count": 93,
   "id": "b843defc-d16b-4b75-847b-193a34f1d86b",
   "metadata": {},
   "outputs": [],
   "source": [
    "movie_df = pd.read_csv('Dataset/movies.csv')\n",
    "\n",
    "# display recommendations\n",
    "def get_recomendations(user_id):\n",
    "      movies_watched_by_user = df[df.user_id == user_id]\n",
    "      movies_not_watched = movie_df[\n",
    "          ~movie_df[\"movie_id\"].isin(movies_watched_by_user.movie_id.values)][\"movie_id\"]\n",
    "      movies_not_watched = list(\n",
    "          set(movies_not_watched).intersection(set(movie2movie_encoded.keys()))\n",
    "      )\n",
    "      movies_not_watched = [[movie2movie_encoded.get(x)] for x in movies_not_watched] #convert the movies_id's to corresponding indices\n",
    "      user_encoder = user2user_encoded.get(user_id)\n",
    "      user_movie_array = np.hstack(\n",
    "          ([[user_id]] * len(movies_not_watched), movies_not_watched)\n",
    "      ) #array with the user_id repeated for each movie in movies_not_watched\n",
    "\n",
    "      ratings = model.predict([user_movie_array[:,0], user_movie_array[:,1]]).flatten()\n",
    "\n",
    "      top_ratings_indices = ratings.argsort()[-10:][::-1] #ratings in descending order and gets the indices of the top 10 recommended movies.\n",
    "      recommended_movie_ids = [\n",
    "          movie_encoded2movie.get(movies_not_watched[x][0]) for x in top_ratings_indices\n",
    "      ] #Using the indices of the top 10 movies, this converts the encoded movie IDs back into their original IDs using movie_encoded2movie.\n",
    "    \n",
    "      top_ratings = ratings[top_ratings_indices]\n",
    "      print(\"Showing recommendations for user: {}\".format(user_id))\n",
    "      print(\"=\" * 36)\n",
    "      print(\"Movies with high ratings from user\")\n",
    "      print(\"-\" * 34)\n",
    "\n",
    "    #top 5 highest rated already watched movies\n",
    "      top_movies_user = (\n",
    "          movies_watched_by_user.sort_values(by=\"rating\", ascending=False)\n",
    "          .head(5)\n",
    "          .movie_id.values\n",
    "      ) \n",
    "\n",
    "     #retrieving the top 10 recommended movies from movie_df and printing out their titles, genres, and the predicted ratings for the user.\n",
    "      movie_df_rows = movie_df[movie_df[\"movie_id\"].isin(top_movies_user)]\n",
    "      for row in movie_df_rows.itertuples():\n",
    "          print(row.title, \":\", row.genres)\n",
    "\n",
    "      print(\"-\" * 30)\n",
    "      print(\" Top 10 movie recommendations\")\n",
    "      print(\"-\" * 30)\n",
    "      recommended_movies = movie_df[movie_df[\"movie_id\"].isin(recommended_movie_ids)]\n",
    "      # for row in recommended_movies.itertuples():\n",
    "      for idx, row in enumerate(recommended_movies.itertuples()): \n",
    "          print(f\"{row.title} : {row.genres} | Predicted Rating: {top_ratings[idx]:.2f}\")\n",
    "          \n"
   ]
  },
  {
   "cell_type": "code",
   "execution_count": 94,
   "id": "d7aca2e6-ecca-48bb-8e8e-fa45b4bf7be3",
   "metadata": {},
   "outputs": [
    {
     "name": "stdout",
     "output_type": "stream",
     "text": [
      "\u001b[1m115/115\u001b[0m \u001b[32m━━━━━━━━━━━━━━━━━━━━\u001b[0m\u001b[37m\u001b[0m \u001b[1m1s\u001b[0m 4ms/step\n",
      "Showing recommendations for user: 1\n",
      "====================================\n",
      "Movies with high ratings from user\n",
      "----------------------------------\n",
      "Sound of Music, The (1965) : Musical\n",
      "One Flew Over the Cuckoo's Nest (1975) : Drama\n",
      "Last Days of Disco, The (1998) : Drama\n",
      "Christmas Story, A (1983) : Comedy|Drama\n",
      "Awakenings (1990) : Drama\n",
      "------------------------------\n",
      " Top 10 movie recommendations\n",
      "------------------------------\n",
      "Usual Suspects, The (1995) : Crime|Thriller | Predicted Rating: 0.91\n",
      "Shawshank Redemption, The (1994) : Drama | Predicted Rating: 0.90\n",
      "Godfather, The (1972) : Action|Crime|Drama | Predicted Rating: 0.89\n",
      "Rear Window (1954) : Mystery|Thriller | Predicted Rating: 0.89\n",
      "Sunset Blvd. (a.k.a. Sunset Boulevard) (1950) : Film-Noir | Predicted Rating: 0.89\n",
      "Wrong Trousers, The (1993) : Animation|Comedy | Predicted Rating: 0.89\n",
      "Paths of Glory (1957) : Drama|War | Predicted Rating: 0.88\n",
      "Raiders of the Lost Ark (1981) : Action|Adventure | Predicted Rating: 0.88\n",
      "Seven Samurai (The Magnificent Seven) (Shichinin no samurai) (1954) : Action|Drama | Predicted Rating: 0.88\n",
      "Sanjuro (1962) : Action|Adventure | Predicted Rating: 0.88\n"
     ]
    }
   ],
   "source": [
    "\n",
    "#enter a user_id (between 1 - 610)\n",
    "get_recomendations(1)"
   ]
  },
  {
   "cell_type": "code",
   "execution_count": 95,
   "id": "fc7b4439-fb6d-455e-8280-87a1be3e9513",
   "metadata": {
    "scrolled": true
   },
   "outputs": [
    {
     "name": "stdout",
     "output_type": "stream",
     "text": [
      "MAE: 0.1597265722702272\n"
     ]
    }
   ],
   "source": [
    "# Evaluation of the model\n",
    "\n",
    "from sklearn.metrics import mean_absolute_error\n",
    "\n",
    "mae = mean_absolute_error(y_test, y_pred)\n",
    "print(f\"MAE: {mae}\")\n"
   ]
  },
  {
   "cell_type": "code",
   "execution_count": 96,
   "id": "1813d578-ae5a-4dcb-9399-518be533109e",
   "metadata": {},
   "outputs": [
    {
     "name": "stdout",
     "output_type": "stream",
     "text": [
      "\u001b[1m3126/3126\u001b[0m \u001b[32m━━━━━━━━━━━━━━━━━━━━\u001b[0m\u001b[37m\u001b[0m \u001b[1m9s\u001b[0m 3ms/step\n",
      "\n",
      "\n",
      "Testing Result : 0.2019 RMSE\n"
     ]
    }
   ],
   "source": [
    "#  Compute RMSE\n",
    "y_pred = model.predict([x_test[:,0], x_test[:,1]])\n",
    "y_true =  y_test\n",
    "\n",
    "rmse = np.sqrt(mean_squared_error(y_pred=y_pred, y_true=y_true))\n",
    "print('\\n\\nTesting Result : {:.4f} RMSE'.format(rmse))"
   ]
  },
  {
   "cell_type": "markdown",
   "id": "853b6c86-27f5-4084-b2b0-ac93adea4b10",
   "metadata": {},
   "source": []
  },
  {
   "cell_type": "code",
   "execution_count": null,
   "id": "592b11eb-cb8c-4a1b-acf5-78bb0bd0d9cb",
   "metadata": {},
   "outputs": [],
   "source": []
  },
  {
   "cell_type": "code",
   "execution_count": null,
   "id": "7b4c3c58-50d4-433f-9ee0-3d814a49e639",
   "metadata": {},
   "outputs": [],
   "source": []
  },
  {
   "cell_type": "code",
   "execution_count": null,
   "id": "5207e887-4377-4e42-84d0-d9acc015bdb4",
   "metadata": {},
   "outputs": [],
   "source": []
  },
  {
   "cell_type": "code",
   "execution_count": null,
   "id": "bf7a188f-f121-4d58-8b79-1f9581cceb90",
   "metadata": {},
   "outputs": [],
   "source": []
  }
 ],
 "metadata": {
  "kernelspec": {
   "display_name": "Python 3 (ipykernel)",
   "language": "python",
   "name": "python3"
  },
  "language_info": {
   "codemirror_mode": {
    "name": "ipython",
    "version": 3
   },
   "file_extension": ".py",
   "mimetype": "text/x-python",
   "name": "python",
   "nbconvert_exporter": "python",
   "pygments_lexer": "ipython3",
   "version": "3.12.6"
  }
 },
 "nbformat": 4,
 "nbformat_minor": 5
}
